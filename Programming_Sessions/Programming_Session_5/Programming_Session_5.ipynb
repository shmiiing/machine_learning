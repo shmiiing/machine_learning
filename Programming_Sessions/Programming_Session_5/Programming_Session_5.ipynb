{
  "nbformat": 4,
  "nbformat_minor": 0,
  "metadata": {
    "colab": {
      "provenance": [],
      "include_colab_link": true
    },
    "kernelspec": {
      "name": "python3",
      "display_name": "Python 3"
    },
    "language_info": {
      "name": "python"
    }
  },
  "cells": [
    {
      "cell_type": "markdown",
      "metadata": {
        "id": "view-in-github",
        "colab_type": "text"
      },
      "source": [
        "<a href=\"https://colab.research.google.com/github/shmiiing/machine_learning/blob/main/Programming_Sessions/Programming_Session_5/Programming_Session_5.ipynb\" target=\"_parent\"><img src=\"https://colab.research.google.com/assets/colab-badge.svg\" alt=\"Open In Colab\"/></a>"
      ]
    },
    {
      "cell_type": "markdown",
      "metadata": {
        "id": "48GJETGg1Aow"
      },
      "source": [
        "# **<center>Machine Learning and Finance </center>**\n",
        "\n",
        "\n",
        "## <center> Programming Session 6 - Introduction to Sequence Models - </center>\n",
        "\n",
        "\n",
        "\n",
        "**Introduction:**\n",
        "\n",
        "This session aims to explore two fundamental aspects of sequence modeling: a Numpy implementation of a standard Recurrent Neural Network (RNN) and the classification of MNIST digits using Long Short-Term Memory (LSTM) networks.\n",
        "\n",
        "**Challenge:**\n",
        "\n",
        "The primary challenge involves grasping the intricacies of sequence modeling techniques, understanding their implementation from scratch, and then applying them to a real-world dataset like MNIST for accurate digit classification. For the Numpy-based RNN, the challenge lies in comprehensively implementing the core functionality of RNNs using only Numpy operations. Meanwhile, for the LSTM-based MNIST classification, the challenge is to understand the complexities of LSTM cells and effectively utilize them to classify handwritten digits.\n",
        "\n",
        "**Dataset Overview:**\n",
        "\n",
        "The MNIST dataset, a classic benchmark dataset, consists of 28x28 grayscale images of handwritten digits ranging from 0 to 9. Each image is accompanied by a corresponding label indicating the digit it represents. This dataset serves as an ideal starting point for experimenting with various sequence modeling techniques.\n",
        "\n",
        "**Objectives:**\n",
        "\n",
        "1. **Numpy Implementation of Standard RNN:**\n",
        "   - Understand the architecture and functioning of standard RNNs.\n",
        "   - Implement a basic RNN using Numpy, focusing on forward propagation.\n",
        "\n",
        "2. **MNIST Classification Using LSTM:**\n",
        "   - Explore the concept of Long Short-Term Memory (LSTM) networks.\n",
        "   - Train and evaluate the LSTM model on the MNIST dataset for accurate digit classification.\n"
      ]
    },
    {
      "cell_type": "markdown",
      "metadata": {
        "id": "qngIFzSedTYR"
      },
      "source": [
        "# 1. Numpy implementation of a standard RNN"
      ]
    },
    {
      "cell_type": "markdown",
      "source": [
        "<center><img width=“700\" src = \"https://drive.google.com/uc?export=view&id=1vXVUvFIFDxYo_sdil2QPJWSCwXwZj27f\"></center>"
      ],
      "metadata": {
        "id": "2WHK0TFvgvHw"
      }
    },
    {
      "cell_type": "code",
      "metadata": {
        "id": "kCcWOvm03Zxu"
      },
      "source": [
        "# Import basic libraries\n",
        "import matplotlib.pyplot as plt # for plotting\n",
        "import numpy as np # for manipulating arrays\n",
        "import tensorflow as tf # for creating Neural Networks, we will use it to load data\n",
        "plt.style.use('dark_background') # to adapt the colors to a dark background\n",
        "from IPython.display import Image # for showing graphs from the lectures"
      ],
      "execution_count": 1,
      "outputs": []
    },
    {
      "cell_type": "markdown",
      "metadata": {
        "id": "rMujAuUXxAUA"
      },
      "source": [
        "We consider the following hyperparameters:"
      ]
    },
    {
      "cell_type": "code",
      "metadata": {
        "id": "xRb1hXjofx7W"
      },
      "source": [
        "N = 1000\n",
        "T = 100\n",
        "D = 50\n",
        "d = 20"
      ],
      "execution_count": 2,
      "outputs": []
    },
    {
      "cell_type": "markdown",
      "source": [
        "---\n",
        "<font color=green>Q1:</font>\n",
        "<br><font color='green'>\n",
        "Generate some random data of shape $(N, T, D)$.\n",
        "</font>\n",
        "\n",
        "---"
      ],
      "metadata": {
        "id": "RHFbv_RgfmB2"
      }
    },
    {
      "cell_type": "code",
      "metadata": {
        "id": "rt9mlOmDf5TU"
      },
      "source": [
        "size = (N, T, D)\n",
        "data = np.random.randn(*size)"
      ],
      "execution_count": 5,
      "outputs": []
    },
    {
      "cell_type": "code",
      "metadata": {
        "id": "qaiEGS_2hKy-",
        "colab": {
          "base_uri": "https://localhost:8080/"
        },
        "outputId": "8b9bcdcb-ead8-44de-b307-18afa4989505"
      },
      "source": [
        "data.shape"
      ],
      "execution_count": 7,
      "outputs": [
        {
          "output_type": "execute_result",
          "data": {
            "text/plain": [
              "(1000, 100, 50)"
            ]
          },
          "metadata": {},
          "execution_count": 7
        }
      ]
    },
    {
      "cell_type": "code",
      "metadata": {
        "id": "K3siLQOsxSqR",
        "colab": {
          "base_uri": "https://localhost:8080/"
        },
        "outputId": "290e297c-0199-490f-952f-db177c7f23bc"
      },
      "source": [
        "data[0].shape"
      ],
      "execution_count": 9,
      "outputs": [
        {
          "output_type": "execute_result",
          "data": {
            "text/plain": [
              "(100, 50)"
            ]
          },
          "metadata": {},
          "execution_count": 9
        }
      ]
    },
    {
      "cell_type": "code",
      "source": [
        "plt.imshow(data[0].T)"
      ],
      "metadata": {
        "colab": {
          "base_uri": "https://localhost:8080/",
          "height": 329
        },
        "id": "wyNR1Pn7PTaT",
        "outputId": "0342c892-45de-4b98-c678-5a4e7707b171"
      },
      "execution_count": 11,
      "outputs": [
        {
          "output_type": "execute_result",
          "data": {
            "text/plain": [
              "<matplotlib.image.AxesImage at 0x7b623d59d710>"
            ]
          },
          "metadata": {},
          "execution_count": 11
        },
        {
          "output_type": "display_data",
          "data": {
            "text/plain": [
              "<Figure size 640x480 with 1 Axes>"
            ],
            "image/png": "[encoded data removed]"
          },
          "metadata": {}
        }
      ]
    },
    {
      "cell_type": "markdown",
      "source": [
        "---\n",
        "<font color=green>Q2:</font>\n",
        "<br><font color='green'>\n",
        "Generate some random weights $W_{hh}, W_{xh}, b_h$\n",
        "</font>\n",
        "\n",
        "---"
      ],
      "metadata": {
        "id": "1A5iUerBfwgv"
      }
    },
    {
      "cell_type": "code",
      "metadata": {
        "id": "Zy1x3CqWyBn9"
      },
      "source": [
        "W_hh = np.random.randn(d, d)\n",
        "W_xh = np.random.randn(D, d)\n",
        "b_h = np.random.randn(d)"
      ],
      "execution_count": 14,
      "outputs": []
    },
    {
      "cell_type": "markdown",
      "source": [
        "---\n",
        "<font color=green>Q3:</font>\n",
        "<br><font color='green'>\n",
        "Produce the output tensor with a shape of $(N, T, d)$ by generating the sequence $y_1, \\dots, y_T$ corresponding to each sequence $x_1, \\dots, x_T$.\n",
        "</font>\n",
        "\n",
        "---"
      ],
      "metadata": {
        "id": "ZvIG6LaufxHY"
      }
    },
    {
      "cell_type": "code",
      "metadata": {
        "id": "pO0LjXHdgnYZ"
      },
      "source": [
        "# initialize the output tensor\n",
        "H = np.zeros((N, T, d))\n",
        "for i in range(N):\n",
        "  # get the sequence i\n",
        "  X = data[i]\n",
        "  # initialize h_0 with 0\n",
        "  h_t_minus_one = np.zeros((d,))\n",
        "\n",
        "  # initialize empty sequnece of hidden states\n",
        "  sequence_h = []\n",
        "\n",
        "  # loop through all 'words' or elemetns x_1, ..., x_T\n",
        "  for x_t in X:\n",
        "      h_t = np.tanh(W_hh.T.dot(h_t_minus_one) + W_xh.T.dot(x_t) + b_h)\n",
        "      sequence_h.append(h_t)\n",
        "      h_t_minus_one = h_t\n",
        "\n",
        "  H[i] = np.asarray(sequence_h)"
      ],
      "execution_count": null,
      "outputs": []
    },
    {
      "cell_type": "code",
      "source": [
        "H[0]"
      ],
      "metadata": {
        "id": "3HMWh1B5TpSu"
      },
      "execution_count": null,
      "outputs": []
    },
    {
      "cell_type": "markdown",
      "source": [
        "---\n",
        "<font color=green>Q4:</font>\n",
        "<br><font color='green'>\n",
        "Plot the shape of the output:\n",
        "</font>\n",
        "\n",
        "---"
      ],
      "metadata": {
        "id": "7vD9Fa0Rfx2T"
      }
    },
    {
      "cell_type": "code",
      "metadata": {
        "id": "YfoHYcIykko8",
        "colab": {
          "base_uri": "https://localhost:8080/"
        },
        "outputId": "53baee7a-122b-4363-d867-213b62566f93"
      },
      "source": [],
      "execution_count": null,
      "outputs": [
        {
          "output_type": "execute_result",
          "data": {
            "text/plain": [
              "(1000, 100, 20)"
            ]
          },
          "metadata": {},
          "execution_count": 9
        }
      ]
    },
    {
      "cell_type": "markdown",
      "metadata": {
        "id": "COv33yRDvNuV"
      },
      "source": [
        "# 2. MNIST Classification using LSTMs"
      ]
    },
    {
      "cell_type": "markdown",
      "source": [
        "<center><img width=“700\" src = \"https://drive.google.com/uc?export=view&id=1KNpBc60u1QCopXygOff0tLkQNkyXuSmr\"></center>"
      ],
      "metadata": {
        "id": "IYCOGECGhVNt"
      }
    },
    {
      "cell_type": "markdown",
      "metadata": {
        "id": "u79VBT_aGlUG"
      },
      "source": [
        "We aim to employ the LSTM layer for classifying the MNIST dataset, which consists of images shaped as $(60000, 28, 28)$. Each sample represents an image with dimensions $(28, 28)$. Viewing each image as a sequence, we can interpret it as having a length of $T = 28,$ with each element having a dimension of $D = 28$."
      ]
    },
    {
      "cell_type": "markdown",
      "metadata": {
        "id": "y8mttvycUV6K"
      },
      "source": [
        "## 2.1 Loading the MNIST dataset"
      ]
    },
    {
      "cell_type": "markdown",
      "source": [
        "---\n",
        "<font color=green>Q5:</font>\n",
        "<br><font color='green'>\n",
        "Retrieve the MNIST dataset by utilizing the `tf.keras.datasets.mnist.load_data`function.\n",
        "</font>\n",
        "\n",
        "---"
      ],
      "metadata": {
        "id": "fqxR0xfgfytJ"
      }
    },
    {
      "cell_type": "code",
      "metadata": {
        "id": "grD3GopZc8Zb",
        "colab": {
          "base_uri": "https://localhost:8080/"
        },
        "outputId": "2594516d-9ade-4515-cd98-fdbc6ecf2660"
      },
      "source": [
        "(X_train, y_train), (X_test, y_test) = tf.keras.datasets.mnist.load_data()"
      ],
      "execution_count": null,
      "outputs": [
        {
          "output_type": "stream",
          "name": "stdout",
          "text": [
            "Downloading data from https://storage.googleapis.com/tensorflow/tf-keras-datasets/mnist.npz\n",
            "11493376/11490434 [==============================] - 0s 0us/step\n",
            "11501568/11490434 [==============================] - 0s 0us/step\n"
          ]
        }
      ]
    },
    {
      "cell_type": "markdown",
      "source": [
        "---\n",
        "<font color=green>Q6:</font>\n",
        "<br><font color='green'>\n",
        "Print the shape of the data.\n",
        "</font>\n",
        "\n",
        "---"
      ],
      "metadata": {
        "id": "ARNK6uSFfzVP"
      }
    },
    {
      "cell_type": "code",
      "metadata": {
        "id": "EOXsnm0udz00",
        "colab": {
          "base_uri": "https://localhost:8080/"
        },
        "outputId": "0493a7e9-bd59-4010-e900-32c54584d4ec"
      },
      "source": [
        "X_train.shape"
      ],
      "execution_count": null,
      "outputs": [
        {
          "output_type": "execute_result",
          "data": {
            "text/plain": [
              "(60000, 28, 28)"
            ]
          },
          "metadata": {},
          "execution_count": 11
        }
      ]
    },
    {
      "cell_type": "code",
      "source": [
        "plt.imshow(X_train[0])"
      ],
      "metadata": {
        "id": "0CiThvmAVFO3"
      },
      "execution_count": null,
      "outputs": []
    },
    {
      "cell_type": "markdown",
      "source": [
        "---\n",
        "<font color=green>Q7:</font>\n",
        "<br><font color='green'>\n",
        "Normalize the feature train and test data by dividing each pixel element by 255.\n",
        "</font>\n",
        "\n",
        "---"
      ],
      "metadata": {
        "id": "s0I9WQWdf04M"
      }
    },
    {
      "cell_type": "code",
      "metadata": {
        "id": "Sg74fdAr1ApF"
      },
      "source": [
        "X_train = X_train / 255. # to be sure this is a float 加句号\n",
        "X_test = X_test / 255."
      ],
      "execution_count": null,
      "outputs": []
    },
    {
      "cell_type": "markdown",
      "source": [
        "---\n",
        "<font color=green>Q8:</font>\n",
        "<br><font color='green'>\n",
        "The targets represent categories ranging from 0 to 9. To encode them into a tensor of shape $(N, 10)$, utilize the to_categorical function from `tensorflow.keras.utils` for one-hot encoding.\n",
        "</font>\n",
        "\n",
        "---"
      ],
      "metadata": {
        "id": "5lik-Dr0f1Vy"
      }
    },
    {
      "cell_type": "code",
      "metadata": {
        "id": "RfDKDAe41zwx"
      },
      "source": [
        "len(set(y_train))"
      ],
      "execution_count": null,
      "outputs": []
    },
    {
      "cell_type": "code",
      "metadata": {
        "id": "P0MAZMAC2Ewu",
        "colab": {
          "base_uri": "https://localhost:8080/"
        },
        "outputId": "8cd9341c-cc09-4a68-ab7b-3bf06674effb"
      },
      "source": [
        "from tensorflow.keras.utils import to_categorical\n",
        "y_train = to_categorical(y_train, num_classes = 10)\n",
        "y_test = to_categorical(y_test, num_classes = 10)"
      ],
      "execution_count": null,
      "outputs": [
        {
          "output_type": "execute_result",
          "data": {
            "text/plain": [
              "(60000, 10)"
            ]
          },
          "metadata": {},
          "execution_count": 14
        }
      ]
    },
    {
      "cell_type": "markdown",
      "source": [
        "---\n",
        "<font color=green>Q9:</font>\n",
        "<br><font color='green'>\n",
        "Build the specified model and train it using gradient descent optimization.</font>\n",
        "\n",
        "---"
      ],
      "metadata": {
        "id": "hkrZ4josf2Ap"
      }
    },
    {
      "cell_type": "markdown",
      "source": [
        "<center><img width=“500\" src = \"https://drive.google.com/uc?export=view&id=1zCyhgITfxptmBzUDQ7-TPKsKugVyjtat\"></center>"
      ],
      "metadata": {
        "id": "unZ3w7JLhZME"
      }
    },
    {
      "cell_type": "code",
      "metadata": {
        "id": "6g2aLmH-1iUO"
      },
      "source": [
        "# Set hyperparameters\n",
        "T = X_train.shape[1]\n",
        "D = X_train.shape[2]\n",
        "d = 32\n",
        "M = 64\n",
        "N_epochs = 10"
      ],
      "execution_count": null,
      "outputs": []
    },
    {
      "cell_type": "code",
      "metadata": {
        "id": "_x_oHj60k7Ww"
      },
      "source": [
        "# Import Modules\n",
        "from tensorflow.keras.models import Model\n",
        "from tensorflow.keras.layers import Input, LSTM, Dense"
      ],
      "execution_count": null,
      "outputs": []
    },
    {
      "cell_type": "code",
      "metadata": {
        "id": "WHxemeCSk7kb",
        "colab": {
          "base_uri": "https://localhost:8080/"
        },
        "outputId": "b4716205-3b48-433d-d909-89d08ab9c5fd"
      },
      "source": [
        "model = Sequential([\n",
        "    LSTM(d, return_sequences = False, input_shape = (T, D)),\n",
        "    Dense(10, activation = 'softmax')\n",
        "])\n",
        "\n",
        "model.summary()"
      ],
      "execution_count": null,
      "outputs": [
        {
          "output_type": "stream",
          "name": "stdout",
          "text": [
            "Model: \"model\"\n",
            "_________________________________________________________________\n",
            " Layer (type)                Output Shape              Param #   \n",
            "=================================================================\n",
            " input_1 (InputLayer)        [(None, 28, 28)]          0         \n",
            "                                                                 \n",
            " lstm (LSTM)                 (None, 32)                7808      \n",
            "                                                                 \n",
            " dense (Dense)               (None, 10)                330       \n",
            "                                                                 \n",
            "=================================================================\n",
            "Total params: 8,138\n",
            "Trainable params: 8,138\n",
            "Non-trainable params: 0\n",
            "_________________________________________________________________\n",
            "Training model...\n",
            "Epoch 1/10\n",
            "657/657 [==============================] - 15s 19ms/step - loss: 0.9491 - accuracy: 0.6991 - val_loss: 0.4478 - val_accuracy: 0.8683\n",
            "Epoch 2/10\n",
            "657/657 [==============================] - 11s 17ms/step - loss: 0.3452 - accuracy: 0.8985 - val_loss: 0.2887 - val_accuracy: 0.9130\n",
            "Epoch 3/10\n",
            "657/657 [==============================] - 11s 17ms/step - loss: 0.2421 - accuracy: 0.9301 - val_loss: 0.2180 - val_accuracy: 0.9378\n",
            "Epoch 4/10\n",
            "657/657 [==============================] - 12s 18ms/step - loss: 0.1927 - accuracy: 0.9442 - val_loss: 0.1814 - val_accuracy: 0.9479\n",
            "Epoch 5/10\n",
            "657/657 [==============================] - 12s 18ms/step - loss: 0.1608 - accuracy: 0.9533 - val_loss: 0.1530 - val_accuracy: 0.9559\n",
            "Epoch 6/10\n",
            "657/657 [==============================] - 11s 17ms/step - loss: 0.1397 - accuracy: 0.9585 - val_loss: 0.1467 - val_accuracy: 0.9579\n",
            "Epoch 7/10\n",
            "657/657 [==============================] - 11s 17ms/step - loss: 0.1251 - accuracy: 0.9628 - val_loss: 0.1433 - val_accuracy: 0.9575\n",
            "Epoch 8/10\n",
            "657/657 [==============================] - 11s 16ms/step - loss: 0.1130 - accuracy: 0.9662 - val_loss: 0.1301 - val_accuracy: 0.9638\n",
            "Epoch 9/10\n",
            "657/657 [==============================] - 11s 16ms/step - loss: 0.1021 - accuracy: 0.9694 - val_loss: 0.1319 - val_accuracy: 0.9612\n",
            "Epoch 10/10\n",
            "657/657 [==============================] - 11s 17ms/step - loss: 0.0932 - accuracy: 0.9720 - val_loss: 0.1138 - val_accuracy: 0.9678\n"
          ]
        }
      ]
    },
    {
      "cell_type": "markdown",
      "source": [
        "---\n",
        "<font color=green>Q10:</font>\n",
        "<br><font color='green'>\n",
        "Visualize the training and validation loss, as well as the training and validation accuracy, through plots.\n",
        "</font>\n",
        "\n",
        "---"
      ],
      "metadata": {
        "id": "nRJ1zuASf3Li"
      }
    },
    {
      "cell_type": "code",
      "metadata": {
        "id": "HVhFRaHWk7hP",
        "colab": {
          "base_uri": "https://localhost:8080/",
          "height": 458
        },
        "outputId": "d3ad24b4-191e-4ca2-94db-0ad73ac55942"
      },
      "source": [
        "\n"
      ],
      "execution_count": null,
      "outputs": [
        {
          "output_type": "display_data",
          "data": {
            "text/plain": [
              "<Figure size 720x504 with 1 Axes>"
            ],
            "image/png": "[encoded data removed]"
          },
          "metadata": {}
        }
      ]
    },
    {
      "cell_type": "code",
      "metadata": {
        "id": "VWsBpMTTJUzl",
        "colab": {
          "base_uri": "https://localhost:8080/",
          "height": 458
        },
        "outputId": "9b0f7fae-b8e5-4ade-df9d-921d02bc1516"
      },
      "source": [],
      "execution_count": null,
      "outputs": [
        {
          "output_type": "display_data",
          "data": {
            "text/plain": [
              "<Figure size 720x504 with 1 Axes>"
            ],
            "image/png": "[encoded data removed]"
          },
          "metadata": {}
        }
      ]
    },
    {
      "cell_type": "markdown",
      "metadata": {
        "id": "1xy8N9ZZUW44"
      },
      "source": [
        "# Wrap-up"
      ]
    },
    {
      "cell_type": "markdown",
      "metadata": {
        "id": "ApA7ycFtywuv"
      },
      "source": [
        "\n",
        "In this coding session, we've gained insights into the following:\n",
        "\n",
        "* Implementing the RNN layer from scratch using Numpy, facilitating a deeper understanding of data transformations.\n",
        "* Conducting a classification task on data with dimensions (N, T, D) by leveraging LSTM networks.\n",
        "\n"
      ]
    }
  ]
}