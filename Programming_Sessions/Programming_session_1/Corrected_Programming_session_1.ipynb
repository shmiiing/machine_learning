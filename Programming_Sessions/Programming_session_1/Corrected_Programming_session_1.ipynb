{
  "cells": [
    {
      "cell_type": "markdown",
      "metadata": {
        "id": "view-in-github",
        "colab_type": "text"
      },
      "source": [
        "<a href=\"https://colab.research.google.com/github/shmiiing/machine_learning/blob/main/Programming_Sessions/Programming_session_1/Corrected_Programming_session_1.ipynb\" target=\"_parent\"><img src=\"https://colab.research.google.com/assets/colab-badge.svg\" alt=\"Open In Colab\"/></a>"
      ]
    },
    {
      "cell_type": "markdown",
      "metadata": {
        "id": "zSIsUTeyXNr_"
      },
      "source": [
        "<img src=\"https://drive.google.com/uc?export=view&id=1gmxxmwCR1WXK0IYtNqvE4QXFleznWqQO\" height=\"100\"/>\n",
        "\n",
        "# **<center>Machine Learning and Finance </center>**\n",
        "\n",
        "\n",
        "## <center> Programming Session 1 - Handling Imbalanced datasets </center>\n"
      ]
    },
    {
      "cell_type": "markdown",
      "source": [
        "# Handling Imbalanced Datasets\n",
        "\n",
        "\n",
        "## Outline\n",
        "\n",
        "- [Loading and visualizing the data](#Loading-and-visualizing-the-data)\n",
        "- [Evaluation Metrics](#Evaluation-Metrics)\n",
        "- [Defining a baseline model](#Defining-a-baseline-model)\n",
        "- [Improving the model](#Improving-the-model)\n",
        "\n",
        "## Introduction\n",
        "\n",
        "Welcome to our focused session on tackling imbalanced datasets within the finance industry, specifically through the lens of credit card fraud detection. Our aim is to navigate the challenges posed by the rarity of fraudulent transactions compared to legitimate ones, and to develop effective machine learning models for fraud detection.\n",
        "\n",
        "## The Challenge\n",
        "\n",
        "Imbalanced datasets, where the classes are not represented equally, pose significant challenges in predictive modeling. This imbalance leads to models that may overlook the minority class—fraudulent transactions in our case. We will address how to mitigate model bias and select appropriate evaluation metrics beyond mere accuracy.\n",
        "\n",
        "## Dataset Overview\n",
        "\n",
        "We'll use a credit card fraud detection dataset characterized by:\n",
        "- Transactions labeled as fraudulent or legitimate.\n",
        "- Highly imbalanced class distribution.\n",
        "\n",
        "* The dataset is composed of 10000 rows.\n",
        "* Each row contains 30 features which are the result of a transformation.\n",
        "* Each feature vector is associated with a binary target: The target takes value 1 in case of a fraud and 0 otherwise.\n",
        "* The dataset is highly imbalanced since only 400 samples are associated with a target 1 (fraud).\n",
        "\n",
        "## Objectives\n",
        "\n",
        "1. **Understand and Prepare the Data:** Initial data exploration and preprocessing.\n",
        "2. **Develop a Baseline Model:** To benchmark our improvements.\n",
        "3. **Implement Imbalance Handling Techniques:** Including resampling and algorithm adjustments.\n",
        "4. **Evaluate Model Performance:** Using metrics suited for imbalanced data.\n",
        "\n",
        "By the end of this notebook, students will be adept in applying practical techniques and strategies to manage imbalanced datasets, thereby improving the effectiveness of models in identifying instances of credit card fraud.\n",
        "\n",
        "\n"
      ],
      "metadata": {
        "id": "kBDj0uD44dQL"
      }
    },
    {
      "cell_type": "markdown",
      "metadata": {
        "id": "pFU9ckGplGDf"
      },
      "source": [
        "# Loading and visualizing the data"
      ]
    },
    {
      "cell_type": "markdown",
      "metadata": {
        "id": "yiqyU4DQlxsV"
      },
      "source": [
        "\n",
        "---\n",
        "<font color=green>Q1:</font>\n",
        "<br><font color='green'>\n",
        "Import the following modules:\n",
        "* `pandas` to manipulate dataframes\n",
        "* `seaborn` for fancy plots\n",
        "* `matplotlib.pyplot` for plots\n",
        "* `numpy` to manipulate arrays\n",
        "</font>\n",
        "\n",
        "---\n"
      ]
    },
    {
      "cell_type": "code",
      "execution_count": null,
      "metadata": {
        "id": "2aqGE_OGW_Yr"
      },
      "outputs": [],
      "source": [
        "import pandas as pd\n",
        "import seaborn as sns\n",
        "import matplotlib.pyplot as plt\n",
        "import numpy as np"
      ]
    },
    {
      "cell_type": "markdown",
      "metadata": {
        "id": "O3xAawJ8nPbH"
      },
      "source": [
        "---\n",
        "<font color=green>Q2:</font>\n",
        "<br><font color='green'>\n",
        "Load the dataset directly into pandas using the command `pd.read_csv(<paste_the_raw_url_here>, index_col=0)`. Obtain the 'url' by navigating to the GitHub page of the dataset, clicking on the file, and then clicking on \"Raw\" to access the raw URL.\n",
        "</font>\n",
        "\n",
        "---"
      ]
    },
    {
      "cell_type": "code",
      "execution_count": null,
      "metadata": {
        "id": "CFmrHidaw0-r"
      },
      "outputs": [],
      "source": [
        "url = 'https://raw.githubusercontent.com/Jandsy/ml_finance_imperial/refs/heads/main/Programming_Sessions/Programming_session_1/credit_data.csv'\n",
        "df = pd.read_csv(url, index_col = 0)\n",
        "\n",
        "# index_col = 0 表示将文件中的第一列（即列索引为0的列）设置为DataFrame的行标签（行索引）\n",
        "# index_col=False：强制 Pandas 不使用任何列作为索引（即使有默认索引列）"
      ]
    },
    {
      "cell_type": "markdown",
      "source": [
        "---\n",
        "<font color=green>Q3:</font>\n",
        "<br><font color='green'>\n",
        "After loading the dataset, use `df.describe()` to obtain a summary of the data. This function provides key insights, including count, mean, standard deviation, min, and max values for numeric columns, helping you understand the dataset's distribution and central tendencies.\n",
        "\n",
        "</font>\n",
        "\n",
        "---"
      ],
      "metadata": {
        "id": "R4bfijBD6sRh"
      }
    },
    {
      "cell_type": "code",
      "execution_count": null,
      "metadata": {
        "colab": {
          "base_uri": "https://localhost:8080/",
          "height": 350
        },
        "id": "c05oGzgGzl_q",
        "outputId": "01a1e01a-fe7c-4072-b850-1329bc7a8a28"
      },
      "outputs": [
        {
          "output_type": "execute_result",
          "data": {
            "text/plain": [
              "          feature_1     feature_2     feature_3     feature_4     feature_5  \\\n",
              "count  10000.000000  10000.000000  10000.000000  10000.000000  10000.000000   \n",
              "mean      -0.176966      0.133629     -0.257128      0.196890     -0.157788   \n",
              "std        2.529586      2.042182      2.487288      1.731921      1.838658   \n",
              "min      -36.802320    -63.344698    -31.103685     -4.675470    -28.815577   \n",
              "25%       -0.986390     -0.554406     -0.986332     -0.805100     -0.748831   \n",
              "50%       -0.032616      0.102007      0.142327      0.073566     -0.096294   \n",
              "75%        1.294138      0.846395      1.005767      0.893287      0.574411   \n",
              "max        2.390655     22.057729      3.757300     16.715537     14.927126   \n",
              "\n",
              "          feature_6     feature_7     feature_8     feature_9    feature_10  \\\n",
              "count  10000.000000  10000.000000  10000.000000  10000.000000  10000.000000   \n",
              "mean      -0.089717     -0.207248      0.025690     -0.102375     -0.235323   \n",
              "std        1.366773      2.201620      1.759967      1.286580      1.813559   \n",
              "min      -11.481330    -43.557242    -41.044261    -13.434066    -24.588262   \n",
              "25%       -0.801992     -0.597998     -0.207066     -0.708046     -0.590781   \n",
              "50%       -0.315278      0.019270      0.027382     -0.074212     -0.125316   \n",
              "75%        0.339206      0.549792      0.344899      0.577495      0.388590   \n",
              "max       21.190194     26.249717     20.007208      9.213023     12.925140   \n",
              "\n",
              "       ...    feature_22    feature_23    feature_24    feature_25  \\\n",
              "count  ...  10000.000000  10000.000000  10000.000000  10000.000000   \n",
              "mean   ...     -0.012375     -0.019895      0.003877      0.006371   \n",
              "std    ...      0.777069      0.804231      0.596144      0.538998   \n",
              "min    ...    -10.933144    -32.828995     -2.740677     -8.696627   \n",
              "25%    ...     -0.546460     -0.166632     -0.345356     -0.307792   \n",
              "50%    ...     -0.001869     -0.014560      0.049473      0.029592   \n",
              "75%    ...      0.514769      0.145128      0.432942      0.357022   \n",
              "max    ...      8.361985      6.343504      3.695503      2.939972   \n",
              "\n",
              "         feature_26    feature_27    feature_28    feature_29    feature_30  \\\n",
              "count  10000.000000  10000.000000  10000.000000  10000.000000  10000.000000   \n",
              "mean      -0.000780      0.006072      0.000549      1.012547      0.105599   \n",
              "std        0.484268      0.486474      0.286276      4.769297      0.559309   \n",
              "min       -2.534330     -7.263482     -5.171480     -0.307413     -0.994901   \n",
              "25%       -0.325907     -0.070054     -0.053063     -0.237546     -0.368737   \n",
              "50%       -0.053893      0.002781      0.013105     -0.008524     -0.019191   \n",
              "75%        0.249321      0.100043      0.084028      0.768532      0.639311   \n",
              "max        3.040808      8.104297      5.823423    274.359394      1.034716   \n",
              "\n",
              "              Class  \n",
              "count  10000.000000  \n",
              "mean       0.040000  \n",
              "std        0.195969  \n",
              "min        0.000000  \n",
              "25%        0.000000  \n",
              "50%        0.000000  \n",
              "75%        0.000000  \n",
              "max        1.000000  \n",
              "\n",
              "[8 rows x 31 columns]"
            ],
            "text/html": [
              "\n",
              "  <div id=\"df-49dfcdfa-5c55-4159-b1d6-7aa900d38a0c\" class=\"colab-df-container\">\n",
              "    <div>\n",
              "<style scoped>\n",
              "    .dataframe tbody tr th:only-of-type {\n",
              "        vertical-align: middle;\n",
              "    }\n",
              "\n",
              "    .dataframe tbody tr th {\n",
              "        vertical-align: top;\n",
              "    }\n",
              "\n",
              "    .dataframe thead th {\n",
              "        text-align: right;\n",
              "    }\n",
              "</style>\n",
              "<table border=\"1\" class=\"dataframe\">\n",
              "  <thead>\n",
              "    <tr style=\"text-align: right;\">\n",
              "      <th></th>\n",
              "      <th>feature_1</th>\n",
              "      <th>feature_2</th>\n",
              "      <th>feature_3</th>\n",
              "      <th>feature_4</th>\n",
              "      <th>feature_5</th>\n",
              "      <th>feature_6</th>\n",
              "      <th>feature_7</th>\n",
              "      <th>feature_8</th>\n",
              "      <th>feature_9</th>\n",
              "      <th>feature_10</th>\n",
              "      <th>...</th>\n",
              "      <th>feature_22</th>\n",
              "      <th>feature_23</th>\n",
              "      <th>feature_24</th>\n",
              "      <th>feature_25</th>\n",
              "      <th>feature_26</th>\n",
              "      <th>feature_27</th>\n",
              "      <th>feature_28</th>\n",
              "      <th>feature_29</th>\n",
              "      <th>feature_30</th>\n",
              "      <th>Class</th>\n",
              "    </tr>\n",
              "  </thead>\n",
              "  <tbody>\n",
              "    <tr>\n",
              "      <th>count</th>\n",
              "      <td>10000.000000</td>\n",
              "      <td>10000.000000</td>\n",
              "      <td>10000.000000</td>\n",
              "      <td>10000.000000</td>\n",
              "      <td>10000.000000</td>\n",
              "      <td>10000.000000</td>\n",
              "      <td>10000.000000</td>\n",
              "      <td>10000.000000</td>\n",
              "      <td>10000.000000</td>\n",
              "      <td>10000.000000</td>\n",
              "      <td>...</td>\n",
              "      <td>10000.000000</td>\n",
              "      <td>10000.000000</td>\n",
              "      <td>10000.000000</td>\n",
              "      <td>10000.000000</td>\n",
              "      <td>10000.000000</td>\n",
              "      <td>10000.000000</td>\n",
              "      <td>10000.000000</td>\n",
              "      <td>10000.000000</td>\n",
              "      <td>10000.000000</td>\n",
              "      <td>10000.000000</td>\n",
              "    </tr>\n",
              "    <tr>\n",
              "      <th>mean</th>\n",
              "      <td>-0.176966</td>\n",
              "      <td>0.133629</td>\n",
              "      <td>-0.257128</td>\n",
              "      <td>0.196890</td>\n",
              "      <td>-0.157788</td>\n",
              "      <td>-0.089717</td>\n",
              "      <td>-0.207248</td>\n",
              "      <td>0.025690</td>\n",
              "      <td>-0.102375</td>\n",
              "      <td>-0.235323</td>\n",
              "      <td>...</td>\n",
              "      <td>-0.012375</td>\n",
              "      <td>-0.019895</td>\n",
              "      <td>0.003877</td>\n",
              "      <td>0.006371</td>\n",
              "      <td>-0.000780</td>\n",
              "      <td>0.006072</td>\n",
              "      <td>0.000549</td>\n",
              "      <td>1.012547</td>\n",
              "      <td>0.105599</td>\n",
              "      <td>0.040000</td>\n",
              "    </tr>\n",
              "    <tr>\n",
              "      <th>std</th>\n",
              "      <td>2.529586</td>\n",
              "      <td>2.042182</td>\n",
              "      <td>2.487288</td>\n",
              "      <td>1.731921</td>\n",
              "      <td>1.838658</td>\n",
              "      <td>1.366773</td>\n",
              "      <td>2.201620</td>\n",
              "      <td>1.759967</td>\n",
              "      <td>1.286580</td>\n",
              "      <td>1.813559</td>\n",
              "      <td>...</td>\n",
              "      <td>0.777069</td>\n",
              "      <td>0.804231</td>\n",
              "      <td>0.596144</td>\n",
              "      <td>0.538998</td>\n",
              "      <td>0.484268</td>\n",
              "      <td>0.486474</td>\n",
              "      <td>0.286276</td>\n",
              "      <td>4.769297</td>\n",
              "      <td>0.559309</td>\n",
              "      <td>0.195969</td>\n",
              "    </tr>\n",
              "    <tr>\n",
              "      <th>min</th>\n",
              "      <td>-36.802320</td>\n",
              "      <td>-63.344698</td>\n",
              "      <td>-31.103685</td>\n",
              "      <td>-4.675470</td>\n",
              "      <td>-28.815577</td>\n",
              "      <td>-11.481330</td>\n",
              "      <td>-43.557242</td>\n",
              "      <td>-41.044261</td>\n",
              "      <td>-13.434066</td>\n",
              "      <td>-24.588262</td>\n",
              "      <td>...</td>\n",
              "      <td>-10.933144</td>\n",
              "      <td>-32.828995</td>\n",
              "      <td>-2.740677</td>\n",
              "      <td>-8.696627</td>\n",
              "      <td>-2.534330</td>\n",
              "      <td>-7.263482</td>\n",
              "      <td>-5.171480</td>\n",
              "      <td>-0.307413</td>\n",
              "      <td>-0.994901</td>\n",
              "      <td>0.000000</td>\n",
              "    </tr>\n",
              "    <tr>\n",
              "      <th>25%</th>\n",
              "      <td>-0.986390</td>\n",
              "      <td>-0.554406</td>\n",
              "      <td>-0.986332</td>\n",
              "      <td>-0.805100</td>\n",
              "      <td>-0.748831</td>\n",
              "      <td>-0.801992</td>\n",
              "      <td>-0.597998</td>\n",
              "      <td>-0.207066</td>\n",
              "      <td>-0.708046</td>\n",
              "      <td>-0.590781</td>\n",
              "      <td>...</td>\n",
              "      <td>-0.546460</td>\n",
              "      <td>-0.166632</td>\n",
              "      <td>-0.345356</td>\n",
              "      <td>-0.307792</td>\n",
              "      <td>-0.325907</td>\n",
              "      <td>-0.070054</td>\n",
              "      <td>-0.053063</td>\n",
              "      <td>-0.237546</td>\n",
              "      <td>-0.368737</td>\n",
              "      <td>0.000000</td>\n",
              "    </tr>\n",
              "    <tr>\n",
              "      <th>50%</th>\n",
              "      <td>-0.032616</td>\n",
              "      <td>0.102007</td>\n",
              "      <td>0.142327</td>\n",
              "      <td>0.073566</td>\n",
              "      <td>-0.096294</td>\n",
              "      <td>-0.315278</td>\n",
              "      <td>0.019270</td>\n",
              "      <td>0.027382</td>\n",
              "      <td>-0.074212</td>\n",
              "      <td>-0.125316</td>\n",
              "      <td>...</td>\n",
              "      <td>-0.001869</td>\n",
              "      <td>-0.014560</td>\n",
              "      <td>0.049473</td>\n",
              "      <td>0.029592</td>\n",
              "      <td>-0.053893</td>\n",
              "      <td>0.002781</td>\n",
              "      <td>0.013105</td>\n",
              "      <td>-0.008524</td>\n",
              "      <td>-0.019191</td>\n",
              "      <td>0.000000</td>\n",
              "    </tr>\n",
              "    <tr>\n",
              "      <th>75%</th>\n",
              "      <td>1.294138</td>\n",
              "      <td>0.846395</td>\n",
              "      <td>1.005767</td>\n",
              "      <td>0.893287</td>\n",
              "      <td>0.574411</td>\n",
              "      <td>0.339206</td>\n",
              "      <td>0.549792</td>\n",
              "      <td>0.344899</td>\n",
              "      <td>0.577495</td>\n",
              "      <td>0.388590</td>\n",
              "      <td>...</td>\n",
              "      <td>0.514769</td>\n",
              "      <td>0.145128</td>\n",
              "      <td>0.432942</td>\n",
              "      <td>0.357022</td>\n",
              "      <td>0.249321</td>\n",
              "      <td>0.100043</td>\n",
              "      <td>0.084028</td>\n",
              "      <td>0.768532</td>\n",
              "      <td>0.639311</td>\n",
              "      <td>0.000000</td>\n",
              "    </tr>\n",
              "    <tr>\n",
              "      <th>max</th>\n",
              "      <td>2.390655</td>\n",
              "      <td>22.057729</td>\n",
              "      <td>3.757300</td>\n",
              "      <td>16.715537</td>\n",
              "      <td>14.927126</td>\n",
              "      <td>21.190194</td>\n",
              "      <td>26.249717</td>\n",
              "      <td>20.007208</td>\n",
              "      <td>9.213023</td>\n",
              "      <td>12.925140</td>\n",
              "      <td>...</td>\n",
              "      <td>8.361985</td>\n",
              "      <td>6.343504</td>\n",
              "      <td>3.695503</td>\n",
              "      <td>2.939972</td>\n",
              "      <td>3.040808</td>\n",
              "      <td>8.104297</td>\n",
              "      <td>5.823423</td>\n",
              "      <td>274.359394</td>\n",
              "      <td>1.034716</td>\n",
              "      <td>1.000000</td>\n",
              "    </tr>\n",
              "  </tbody>\n",
              "</table>\n",
              "<p>8 rows × 31 columns</p>\n",
              "</div>\n",
              "    <div class=\"colab-df-buttons\">\n",
              "\n",
              "  <div class=\"colab-df-container\">\n",
              "    <button class=\"colab-df-convert\" onclick=\"convertToInteractive('df-49dfcdfa-5c55-4159-b1d6-7aa900d38a0c')\"\n",
              "            title=\"Convert this dataframe to an interactive table.\"\n",
              "            style=\"display:none;\">\n",
              "\n",
              "  <svg xmlns=\"http://www.w3.org/2000/svg\" height=\"24px\" viewBox=\"0 -960 960 960\">\n",
              "    <path d=\"M120-120v-720h720v720H120Zm60-500h600v-160H180v160Zm220 220h160v-160H400v160Zm0 220h160v-160H400v160ZM180-400h160v-160H180v160Zm440 0h160v-160H620v160ZM180-180h160v-160H180v160Zm440 0h160v-160H620v160Z\"/>\n",
              "  </svg>\n",
              "    </button>\n",
              "\n",
              "  <style>\n",
              "    .colab-df-container {\n",
              "      display:flex;\n",
              "      gap: 12px;\n",
              "    }\n",
              "\n",
              "    .colab-df-convert {\n",
              "      background-color: #E8F0FE;\n",
              "      border: none;\n",
              "      border-radius: 50%;\n",
              "      cursor: pointer;\n",
              "      display: none;\n",
              "      fill: #1967D2;\n",
              "      height: 32px;\n",
              "      padding: 0 0 0 0;\n",
              "      width: 32px;\n",
              "    }\n",
              "\n",
              "    .colab-df-convert:hover {\n",
              "      background-color: #E2EBFA;\n",
              "      box-shadow: 0px 1px 2px rgba(60, 64, 67, 0.3), 0px 1px 3px 1px rgba(60, 64, 67, 0.15);\n",
              "      fill: #174EA6;\n",
              "    }\n",
              "\n",
              "    .colab-df-buttons div {\n",
              "      margin-bottom: 4px;\n",
              "    }\n",
              "\n",
              "    [theme=dark] .colab-df-convert {\n",
              "      background-color: #3B4455;\n",
              "      fill: #D2E3FC;\n",
              "    }\n",
              "\n",
              "    [theme=dark] .colab-df-convert:hover {\n",
              "      background-color: #434B5C;\n",
              "      box-shadow: 0px 1px 3px 1px rgba(0, 0, 0, 0.15);\n",
              "      filter: drop-shadow(0px 1px 2px rgba(0, 0, 0, 0.3));\n",
              "      fill: #FFFFFF;\n",
              "    }\n",
              "  </style>\n",
              "\n",
              "    <script>\n",
              "      const buttonEl =\n",
              "        document.querySelector('#df-49dfcdfa-5c55-4159-b1d6-7aa900d38a0c button.colab-df-convert');\n",
              "      buttonEl.style.display =\n",
              "        google.colab.kernel.accessAllowed ? 'block' : 'none';\n",
              "\n",
              "      async function convertToInteractive(key) {\n",
              "        const element = document.querySelector('#df-49dfcdfa-5c55-4159-b1d6-7aa900d38a0c');\n",
              "        const dataTable =\n",
              "          await google.colab.kernel.invokeFunction('convertToInteractive',\n",
              "                                                    [key], {});\n",
              "        if (!dataTable) return;\n",
              "\n",
              "        const docLinkHtml = 'Like what you see? Visit the ' +\n",
              "          '<a target=\"_blank\" href=https://colab.research.google.com/notebooks/data_table.ipynb>data table notebook</a>'\n",
              "          + ' to learn more about interactive tables.';\n",
              "        element.innerHTML = '';\n",
              "        dataTable['output_type'] = 'display_data';\n",
              "        await google.colab.output.renderOutput(dataTable, element);\n",
              "        const docLink = document.createElement('div');\n",
              "        docLink.innerHTML = docLinkHtml;\n",
              "        element.appendChild(docLink);\n",
              "      }\n",
              "    </script>\n",
              "  </div>\n",
              "\n",
              "\n",
              "<div id=\"df-8f3eed4d-1c70-47cc-a768-c398c582f8d2\">\n",
              "  <button class=\"colab-df-quickchart\" onclick=\"quickchart('df-8f3eed4d-1c70-47cc-a768-c398c582f8d2')\"\n",
              "            title=\"Suggest charts\"\n",
              "            style=\"display:none;\">\n",
              "\n",
              "<svg xmlns=\"http://www.w3.org/2000/svg\" height=\"24px\"viewBox=\"0 0 24 24\"\n",
              "     width=\"24px\">\n",
              "    <g>\n",
              "        <path d=\"M19 3H5c-1.1 0-2 .9-2 2v14c0 1.1.9 2 2 2h14c1.1 0 2-.9 2-2V5c0-1.1-.9-2-2-2zM9 17H7v-7h2v7zm4 0h-2V7h2v10zm4 0h-2v-4h2v4z\"/>\n",
              "    </g>\n",
              "</svg>\n",
              "  </button>\n",
              "\n",
              "<style>\n",
              "  .colab-df-quickchart {\n",
              "      --bg-color: #E8F0FE;\n",
              "      --fill-color: #1967D2;\n",
              "      --hover-bg-color: #E2EBFA;\n",
              "      --hover-fill-color: #174EA6;\n",
              "      --disabled-fill-color: #AAA;\n",
              "      --disabled-bg-color: #DDD;\n",
              "  }\n",
              "\n",
              "  [theme=dark] .colab-df-quickchart {\n",
              "      --bg-color: #3B4455;\n",
              "      --fill-color: #D2E3FC;\n",
              "      --hover-bg-color: #434B5C;\n",
              "      --hover-fill-color: #FFFFFF;\n",
              "      --disabled-bg-color: #3B4455;\n",
              "      --disabled-fill-color: #666;\n",
              "  }\n",
              "\n",
              "  .colab-df-quickchart {\n",
              "    background-color: var(--bg-color);\n",
              "    border: none;\n",
              "    border-radius: 50%;\n",
              "    cursor: pointer;\n",
              "    display: none;\n",
              "    fill: var(--fill-color);\n",
              "    height: 32px;\n",
              "    padding: 0;\n",
              "    width: 32px;\n",
              "  }\n",
              "\n",
              "  .colab-df-quickchart:hover {\n",
              "    background-color: var(--hover-bg-color);\n",
              "    box-shadow: 0 1px 2px rgba(60, 64, 67, 0.3), 0 1px 3px 1px rgba(60, 64, 67, 0.15);\n",
              "    fill: var(--button-hover-fill-color);\n",
              "  }\n",
              "\n",
              "  .colab-df-quickchart-complete:disabled,\n",
              "  .colab-df-quickchart-complete:disabled:hover {\n",
              "    background-color: var(--disabled-bg-color);\n",
              "    fill: var(--disabled-fill-color);\n",
              "    box-shadow: none;\n",
              "  }\n",
              "\n",
              "  .colab-df-spinner {\n",
              "    border: 2px solid var(--fill-color);\n",
              "    border-color: transparent;\n",
              "    border-bottom-color: var(--fill-color);\n",
              "    animation:\n",
              "      spin 1s steps(1) infinite;\n",
              "  }\n",
              "\n",
              "  @keyframes spin {\n",
              "    0% {\n",
              "      border-color: transparent;\n",
              "      border-bottom-color: var(--fill-color);\n",
              "      border-left-color: var(--fill-color);\n",
              "    }\n",
              "    20% {\n",
              "      border-color: transparent;\n",
              "      border-left-color: var(--fill-color);\n",
              "      border-top-color: var(--fill-color);\n",
              "    }\n",
              "    30% {\n",
              "      border-color: transparent;\n",
              "      border-left-color: var(--fill-color);\n",
              "      border-top-color: var(--fill-color);\n",
              "      border-right-color: var(--fill-color);\n",
              "    }\n",
              "    40% {\n",
              "      border-color: transparent;\n",
              "      border-right-color: var(--fill-color);\n",
              "      border-top-color: var(--fill-color);\n",
              "    }\n",
              "    60% {\n",
              "      border-color: transparent;\n",
              "      border-right-color: var(--fill-color);\n",
              "    }\n",
              "    80% {\n",
              "      border-color: transparent;\n",
              "      border-right-color: var(--fill-color);\n",
              "      border-bottom-color: var(--fill-color);\n",
              "    }\n",
              "    90% {\n",
              "      border-color: transparent;\n",
              "      border-bottom-color: var(--fill-color);\n",
              "    }\n",
              "  }\n",
              "</style>\n",
              "\n",
              "  <script>\n",
              "    async function quickchart(key) {\n",
              "      const quickchartButtonEl =\n",
              "        document.querySelector('#' + key + ' button');\n",
              "      quickchartButtonEl.disabled = true;  // To prevent multiple clicks.\n",
              "      quickchartButtonEl.classList.add('colab-df-spinner');\n",
              "      try {\n",
              "        const charts = await google.colab.kernel.invokeFunction(\n",
              "            'suggestCharts', [key], {});\n",
              "      } catch (error) {\n",
              "        console.error('Error during call to suggestCharts:', error);\n",
              "      }\n",
              "      quickchartButtonEl.classList.remove('colab-df-spinner');\n",
              "      quickchartButtonEl.classList.add('colab-df-quickchart-complete');\n",
              "    }\n",
              "    (() => {\n",
              "      let quickchartButtonEl =\n",
              "        document.querySelector('#df-8f3eed4d-1c70-47cc-a768-c398c582f8d2 button');\n",
              "      quickchartButtonEl.style.display =\n",
              "        google.colab.kernel.accessAllowed ? 'block' : 'none';\n",
              "    })();\n",
              "  </script>\n",
              "</div>\n",
              "\n",
              "    </div>\n",
              "  </div>\n"
            ],
            "application/vnd.google.colaboratory.intrinsic+json": {
              "type": "dataframe"
            }
          },
          "metadata": {},
          "execution_count": 3
        }
      ],
      "source": [
        "df.describe()"
      ]
    },
    {
      "cell_type": "markdown",
      "metadata": {
        "id": "c0pWdCxjzz2h"
      },
      "source": [
        "The DataFrame is composed of 31 columns:\n",
        "- 30 features correspond to the first 30 dimensions of a transformation applied to the original data.\n",
        "- The **Class** column serves as the binary target indicator:\n",
        "  - A target value of 1 indicates a fraudulent transaction.\n",
        "  - A target value of 0 indicates a legitimate transaction.\n"
      ]
    },
    {
      "cell_type": "markdown",
      "metadata": {
        "id": "8n2_13Xm8ohe"
      },
      "source": [
        "---\n",
        "<font color=green>Q4:</font>\n",
        "<br><font color='green'>\n",
        "Utilize `sns.scatterplot()` from the seaborn library to explore the relationships between selected features through scatter plots:\n",
        "- Plot `feature_4` (x-axis) against `feature_3` (y-axis). Label this plot accordingly.\n",
        "- Plot `feature_20` (x-axis) against `feature_15` (y-axis). Ensure this plot is also properly labeled.\n",
        "\n",
        "For each plot, consider using the `hue` parameter to differentiate between classes (Fraud vs. No Fraud) based on the **Class** column. This will enhance the visual analysis, helping to identify if the data points are linearly separable.\n",
        "\n",
        "Questions for analysis:\n",
        "- Which of these two scatter plots shows data points that appear to be linearly separable?\n",
        "- How does the class separation in these plots inform your approach to building a predictive model?\n",
        "</font>\n",
        "\n",
        "---"
      ]
    },
    {
      "cell_type": "code",
      "execution_count": null,
      "metadata": {
        "colab": {
          "base_uri": "https://localhost:8080/",
          "height": 1000
        },
        "id": "-K4rO8I-PnOQ",
        "outputId": "e1497aac-1860-41ff-e70c-a9c95a2358d7"
      },
      "outputs": [
        {
          "output_type": "display_data",
          "data": {
            "text/plain": [
              "<Figure size 1000x600 with 1 Axes>"
            ],
            "image/png": "[encoded data removed]"
          },
          "metadata": {}
        },
        {
          "output_type": "display_data",
          "data": {
            "text/plain": [
              "<Figure size 1000x600 with 1 Axes>"
            ],
            "image/png": "[encoded data removed]"
          },
          "metadata": {}
        }
      ],
      "source": [
        "# Scatter plot for feature_4 vs feature_3\n",
        "plt.figure(figsize=(10, 6))\n",
        "sns.scatterplot(x='feature_4', y='feature_3', hue='Class', data=df, style='Class', palette='bright')\n",
        "plt.title('Scatter Plot of feature_4 vs feature_3')\n",
        "plt.xlabel('feature_4')\n",
        "plt.ylabel('feature_3')\n",
        "plt.show()\n",
        "\n",
        "# Scatter plot for feature_20 vs feature_15\n",
        "plt.figure(figsize=(10, 6))\n",
        "sns.scatterplot(x='feature_20', y='feature_15', hue='Class', data=df, style='Class', palette='bright')\n",
        "plt.title('Scatter Plot of feature_20 vs feature_15')\n",
        "plt.xlabel('feature_20')\n",
        "plt.ylabel('feature_15')\n",
        "plt.show()\n",
        "\n",
        "# hue: 把数据按 Class 列进行分类，不同的类别（比如 0、1）用不同的颜色表示\n",
        "# style: 按 Class 分类，不同的类别用不同的点形状（marker）表示，例如 0 是圈，1 是叉\n",
        "# palette: 指定颜色的风格，bright 是一种鲜艳的颜色组合，看起来更醒目"
      ]
    },
    {
      "cell_type": "markdown",
      "metadata": {
        "id": "l9t-23GT0ndc"
      },
      "source": [
        "---\n",
        "<font color=green>Q5:</font>\n",
        "<br><font color='green'>\n",
        "Utilize the `sns.countplot` function from the seaborn library to visualize the distribution of the target variable, `Class`, within your dataset. This visualization will allow you to assess the balance between the classes:\n",
        "\n",
        "- Execute the command `sns.countplot(x='Class', data=df)` to generate the plot. Replace `df` with the name of your DataFrame if it's different.\n",
        "- Inspect the resulting plot to evaluate the distribution of the target classes.\n",
        "\n",
        "Questions for analysis:\n",
        "1. Based on the visualization, does the dataset appear to be balanced with respect to the target classes? Describe the observed class distribution.\n",
        "2. Considering the class distribution you've observed, discuss whether the accuracy metric would be an appropriate measure of model performance. What challenges might arise from using accuracy in this context?\n",
        "\n",
        "</font>\n",
        "\n",
        "---\n"
      ]
    },
    {
      "cell_type": "code",
      "execution_count": null,
      "metadata": {
        "colab": {
          "base_uri": "https://localhost:8080/",
          "height": 487
        },
        "id": "Pk-xxYrgPnKo",
        "outputId": "88541da0-c698-4d78-f9df-24a2fd4d8164"
      },
      "outputs": [
        {
          "output_type": "display_data",
          "data": {
            "text/plain": [
              "<Figure size 800x500 with 1 Axes>"
            ],
            "image/png": "[encoded data removed]"
          },
          "metadata": {}
        }
      ],
      "source": [
        "# create a visual plot to see the target distribution\n",
        "plt.figure(figsize=(8, 5))\n",
        "sns.countplot(x='Class', data=df)\n",
        "plt.title('Distribution of Target Classes')\n",
        "plt.xlabel('Class')\n",
        "plt.ylabel('Frequency')\n",
        "plt.show()"
      ]
    },
    {
      "cell_type": "markdown",
      "metadata": {
        "id": "-YOKizDJ3jP4"
      },
      "source": [
        "The dataset is highly imbalanced. The accuracy metric is not a good evaluation metric."
      ]
    },
    {
      "cell_type": "code",
      "source": [
        "accuracy_dumb_model = 1 - (df['Class'].sum()/df.shape[0])\n",
        "print(accuracy_dumb_model)\n",
        "# df['Class'].sum(): 对 Class 这一列求和(其实就是算有多少个值是1)\n",
        "# df.shape[0]: 是总行数，即样本总数\n",
        "# df.shape[1] 是列数，即特征/字段的数量\n",
        "# df['Class'].sum()/df.shape[0]: 表示正类所占的比例（1 的比例）\n",
        "# 用1减去: 准确率 = 预测正确的0的比例 = 1 - 正类比例"
      ],
      "metadata": {
        "colab": {
          "base_uri": "https://localhost:8080/"
        },
        "id": "pRxd1Obc4uwf",
        "outputId": "6b624a77-0cf6-4354-c2c7-51f1c1d9b3e3"
      },
      "execution_count": null,
      "outputs": [
        {
          "output_type": "stream",
          "name": "stdout",
          "text": [
            "0.96\n"
          ]
        }
      ]
    },
    {
      "cell_type": "markdown",
      "metadata": {
        "id": "n7P5q6_oJcQy"
      },
      "source": [
        "# Evaluation Metrics"
      ]
    },
    {
      "cell_type": "markdown",
      "metadata": {
        "id": "Pj7qlAq-J8N2"
      },
      "source": [
        "## The Recall"
      ]
    },
    {
      "cell_type": "markdown",
      "metadata": {
        "id": "qBAqPEpB7W6I"
      },
      "source": [
        "Let us recall the definition of the confusion matrix:\n",
        "\n",
        "<center><img width=\"700\" src = \"https://drive.google.com/uc?export=view&id=1agZSryLBlfSOeoUGxH0HmIJdroIdM5ZA\"></center>"
      ]
    },
    {
      "cell_type": "markdown",
      "source": [
        "As we want to minimize the type 2 error (which is missing a Fraud), the **recall** is a good evaluation metric.\n",
        "\n",
        "\n"
      ],
      "metadata": {
        "id": "9P8NpGmOfaC9"
      }
    },
    {
      "cell_type": "markdown",
      "source": [
        "# Defining a baseline model"
      ],
      "metadata": {
        "id": "jAB_ANF2gCiY"
      }
    },
    {
      "cell_type": "markdown",
      "source": [
        "### Splitting the dataset into train set and test set"
      ],
      "metadata": {
        "id": "42KwU8pNgNpT"
      }
    },
    {
      "cell_type": "markdown",
      "metadata": {
        "id": "ipdey7R8CnNR"
      },
      "source": [
        "---\n",
        "<font color=green>Q6:</font>\n",
        "<br><font color='green'>\n",
        "Extract the feature matrix `X` and the target vector `Y` from the DataFrame as follows:\n",
        "- **Feature Matrix (X):** Contains the 30 features from all samples. Use `X = df.iloc[:, :30].values` to extract the features, resulting in a shape of (10000, 30).\n",
        "- **Target Vector (Y):** Contains the binary target. Extract it with `Y = df['Class'].values`, leading to a shape of (10000, 1).\n",
        "\n",
        "Verify the shapes with `print(\"Shape of X:\", X.shape)` and `print(\"Shape of Y:\", Y.shape)`.\n",
        "\n",
        "</font>\n",
        "\n",
        "---"
      ]
    },
    {
      "cell_type": "code",
      "execution_count": null,
      "metadata": {
        "id": "ejAfM7VtCnas"
      },
      "outputs": [],
      "source": [
        "# Extract the feature matrix (X)\n",
        "X = df.iloc[:, :30]\n",
        "# iloc: index location\n",
        "# iloc[:, :30] 提取前三十个特征\n",
        "\n",
        "# Extract the target vector (Y)\n",
        "y = df['Class'].values\n",
        "# 提取Class这一列并将其转成NumPy数组"
      ]
    },
    {
      "cell_type": "code",
      "execution_count": null,
      "metadata": {
        "colab": {
          "base_uri": "https://localhost:8080/"
        },
        "id": "ImTIUjeQDGW7",
        "outputId": "07c38a59-b0c1-4816-cd80-a4377f2cbe3c"
      },
      "outputs": [
        {
          "output_type": "stream",
          "name": "stdout",
          "text": [
            "Shape of X:  (10000, 30)\n"
          ]
        }
      ],
      "source": [
        "print(\"Shape of X: \", X.shape)"
      ]
    },
    {
      "cell_type": "code",
      "execution_count": null,
      "metadata": {
        "colab": {
          "base_uri": "https://localhost:8080/"
        },
        "id": "ODdjb1KkPnQ6",
        "outputId": "fabae94b-20cb-42e2-8b57-cb1588cdcd07"
      },
      "outputs": [
        {
          "output_type": "stream",
          "name": "stdout",
          "text": [
            "Shape of Y: (10000,)\n"
          ]
        }
      ],
      "source": [
        "print(\"Shape of Y:\", y.shape)"
      ]
    },
    {
      "cell_type": "markdown",
      "metadata": {
        "id": "0cp5c5YVDS77"
      },
      "source": [
        "---\n",
        "<font color=green>Q7:</font>\n",
        "<br><font color='green'>\n",
        "Split the dataset into training and test sets using `train_test_split` from `sklearn.model_selection`. Allocate 30% of the data for testing:\n",
        "\n",
        "</font>\n",
        "\n",
        "---\n"
      ]
    },
    {
      "cell_type": "code",
      "execution_count": null,
      "metadata": {
        "id": "YcIy7mVZDTIH"
      },
      "outputs": [],
      "source": [
        "from sklearn.model_selection import train_test_split\n",
        "\n",
        "# Assuming X and Y are your feature matrix and target vector\n",
        "X_train, X_test, y_train, y_test = train_test_split(X, y, test_size=0.3, random_state=42)\n",
        "# 前提是已经提取好X和y\n",
        "# test_size 表示 30% 的数据用作测试集，70% 用作训练集"
      ]
    },
    {
      "cell_type": "code",
      "execution_count": null,
      "metadata": {
        "id": "OT8CzPvcPnSx",
        "colab": {
          "base_uri": "https://localhost:8080/"
        },
        "outputId": "2254caff-6f78-4d92-e66f-2771137a799c"
      },
      "outputs": [
        {
          "output_type": "stream",
          "name": "stdout",
          "text": [
            "(7000, 30)\n"
          ]
        }
      ],
      "source": [
        "# Shape of X_train\n",
        "print(X_train.shape)\n",
        "\n",
        "# 打印训练集特征矩阵的形状（行数 × 列数）：\n",
        "# 有多少条训练数据（样本数）\n",
        "# 每条数据有多少个特征（维度）"
      ]
    },
    {
      "cell_type": "code",
      "execution_count": null,
      "metadata": {
        "id": "W0GPe4hHD053",
        "colab": {
          "base_uri": "https://localhost:8080/"
        },
        "outputId": "2b5badef-ba4b-4e6e-9057-55af2a3088d5"
      },
      "outputs": [
        {
          "output_type": "stream",
          "name": "stdout",
          "text": [
            "(7000,)\n"
          ]
        }
      ],
      "source": [
        "# Shape of y_train\n",
        "print(y_train.shape)"
      ]
    },
    {
      "cell_type": "code",
      "execution_count": null,
      "metadata": {
        "id": "C3PdurOJD1E9",
        "colab": {
          "base_uri": "https://localhost:8080/"
        },
        "outputId": "5b9fc6d8-555a-4992-9ee1-4e04c4ca4d87"
      },
      "outputs": [
        {
          "output_type": "stream",
          "name": "stdout",
          "text": [
            "(3000, 30)\n"
          ]
        }
      ],
      "source": [
        "# Shape of X_test\n",
        "print(X_test.shape)"
      ]
    },
    {
      "cell_type": "code",
      "execution_count": null,
      "metadata": {
        "id": "2zccwTBVD1OX",
        "colab": {
          "base_uri": "https://localhost:8080/"
        },
        "outputId": "02b34879-eccb-4142-958e-036bef5c6001"
      },
      "outputs": [
        {
          "output_type": "stream",
          "name": "stdout",
          "text": [
            "(3000,)\n"
          ]
        }
      ],
      "source": [
        "# Shape of y_test\n",
        "print(y_test.shape)"
      ]
    },
    {
      "cell_type": "markdown",
      "source": [
        "### A baseline model"
      ],
      "metadata": {
        "id": "9Skekpb8fpfj"
      }
    },
    {
      "cell_type": "markdown",
      "metadata": {
        "id": "OOdTGLqSEX5m"
      },
      "source": [
        "---\n",
        "<font color=green>Q8:</font>\n",
        "<br><font color='green'>\n",
        "Initialize and train a **Logistic Regression** model with the following steps:\n",
        "1. Import the Logistic Regression classifier from `sklearn.linear_model`.\n",
        "2. Create an instance of the classifier named `lr`.\n",
        "3. Fit `lr` to the training data using the `.fit()` method.\n",
        "</font>\n",
        "\n",
        "---"
      ]
    },
    {
      "cell_type": "code",
      "execution_count": null,
      "metadata": {
        "colab": {
          "base_uri": "https://localhost:8080/",
          "height": 80
        },
        "id": "bcDkdZ0lELRq",
        "outputId": "5a75e1fa-6e21-4393-98eb-68094cca2c03"
      },
      "outputs": [
        {
          "output_type": "execute_result",
          "data": {
            "text/plain": [
              "LogisticRegression()"
            ],
            "text/html": [
              "<style>#sk-container-id-1 {\n",
              "  /* Definition of color scheme common for light and dark mode */\n",
              "  --sklearn-color-text: #000;\n",
              "  --sklearn-color-text-muted: #666;\n",
              "  --sklearn-color-line: gray;\n",
              "  /* Definition of color scheme for unfitted estimators */\n",
              "  --sklearn-color-unfitted-level-0: #fff5e6;\n",
              "  --sklearn-color-unfitted-level-1: #f6e4d2;\n",
              "  --sklearn-color-unfitted-level-2: #ffe0b3;\n",
              "  --sklearn-color-unfitted-level-3: chocolate;\n",
              "  /* Definition of color scheme for fitted estimators */\n",
              "  --sklearn-color-fitted-level-0: #f0f8ff;\n",
              "  --sklearn-color-fitted-level-1: #d4ebff;\n",
              "  --sklearn-color-fitted-level-2: #b3dbfd;\n",
              "  --sklearn-color-fitted-level-3: cornflowerblue;\n",
              "\n",
              "  /* Specific color for light theme */\n",
              "  --sklearn-color-text-on-default-background: var(--sg-text-color, var(--theme-code-foreground, var(--jp-content-font-color1, black)));\n",
              "  --sklearn-color-background: var(--sg-background-color, var(--theme-background, var(--jp-layout-color0, white)));\n",
              "  --sklearn-color-border-box: var(--sg-text-color, var(--theme-code-foreground, var(--jp-content-font-color1, black)));\n",
              "  --sklearn-color-icon: #696969;\n",
              "\n",
              "  @media (prefers-color-scheme: dark) {\n",
              "    /* Redefinition of color scheme for dark theme */\n",
              "    --sklearn-color-text-on-default-background: var(--sg-text-color, var(--theme-code-foreground, var(--jp-content-font-color1, white)));\n",
              "    --sklearn-color-background: var(--sg-background-color, var(--theme-background, var(--jp-layout-color0, #111)));\n",
              "    --sklearn-color-border-box: var(--sg-text-color, var(--theme-code-foreground, var(--jp-content-font-color1, white)));\n",
              "    --sklearn-color-icon: #878787;\n",
              "  }\n",
              "}\n",
              "\n",
              "#sk-container-id-1 {\n",
              "  color: var(--sklearn-color-text);\n",
              "}\n",
              "\n",
              "#sk-container-id-1 pre {\n",
              "  padding: 0;\n",
              "}\n",
              "\n",
              "#sk-container-id-1 input.sk-hidden--visually {\n",
              "  border: 0;\n",
              "  clip: rect(1px 1px 1px 1px);\n",
              "  clip: rect(1px, 1px, 1px, 1px);\n",
              "  height: 1px;\n",
              "  margin: -1px;\n",
              "  overflow: hidden;\n",
              "  padding: 0;\n",
              "  position: absolute;\n",
              "  width: 1px;\n",
              "}\n",
              "\n",
              "#sk-container-id-1 div.sk-dashed-wrapped {\n",
              "  border: 1px dashed var(--sklearn-color-line);\n",
              "  margin: 0 0.4em 0.5em 0.4em;\n",
              "  box-sizing: border-box;\n",
              "  padding-bottom: 0.4em;\n",
              "  background-color: var(--sklearn-color-background);\n",
              "}\n",
              "\n",
              "#sk-container-id-1 div.sk-container {\n",
              "  /* jupyter's `normalize.less` sets `[hidden] { display: none; }`\n",
              "     but bootstrap.min.css set `[hidden] { display: none !important; }`\n",
              "     so we also need the `!important` here to be able to override the\n",
              "     default hidden behavior on the sphinx rendered scikit-learn.org.\n",
              "     See: https://github.com/scikit-learn/scikit-learn/issues/21755 */\n",
              "  display: inline-block !important;\n",
              "  position: relative;\n",
              "}\n",
              "\n",
              "#sk-container-id-1 div.sk-text-repr-fallback {\n",
              "  display: none;\n",
              "}\n",
              "\n",
              "div.sk-parallel-item,\n",
              "div.sk-serial,\n",
              "div.sk-item {\n",
              "  /* draw centered vertical line to link estimators */\n",
              "  background-image: linear-gradient(var(--sklearn-color-text-on-default-background), var(--sklearn-color-text-on-default-background));\n",
              "  background-size: 2px 100%;\n",
              "  background-repeat: no-repeat;\n",
              "  background-position: center center;\n",
              "}\n",
              "\n",
              "/* Parallel-specific style estimator block */\n",
              "\n",
              "#sk-container-id-1 div.sk-parallel-item::after {\n",
              "  content: \"\";\n",
              "  width: 100%;\n",
              "  border-bottom: 2px solid var(--sklearn-color-text-on-default-background);\n",
              "  flex-grow: 1;\n",
              "}\n",
              "\n",
              "#sk-container-id-1 div.sk-parallel {\n",
              "  display: flex;\n",
              "  align-items: stretch;\n",
              "  justify-content: center;\n",
              "  background-color: var(--sklearn-color-background);\n",
              "  position: relative;\n",
              "}\n",
              "\n",
              "#sk-container-id-1 div.sk-parallel-item {\n",
              "  display: flex;\n",
              "  flex-direction: column;\n",
              "}\n",
              "\n",
              "#sk-container-id-1 div.sk-parallel-item:first-child::after {\n",
              "  align-self: flex-end;\n",
              "  width: 50%;\n",
              "}\n",
              "\n",
              "#sk-container-id-1 div.sk-parallel-item:last-child::after {\n",
              "  align-self: flex-start;\n",
              "  width: 50%;\n",
              "}\n",
              "\n",
              "#sk-container-id-1 div.sk-parallel-item:only-child::after {\n",
              "  width: 0;\n",
              "}\n",
              "\n",
              "/* Serial-specific style estimator block */\n",
              "\n",
              "#sk-container-id-1 div.sk-serial {\n",
              "  display: flex;\n",
              "  flex-direction: column;\n",
              "  align-items: center;\n",
              "  background-color: var(--sklearn-color-background);\n",
              "  padding-right: 1em;\n",
              "  padding-left: 1em;\n",
              "}\n",
              "\n",
              "\n",
              "/* Toggleable style: style used for estimator/Pipeline/ColumnTransformer box that is\n",
              "clickable and can be expanded/collapsed.\n",
              "- Pipeline and ColumnTransformer use this feature and define the default style\n",
              "- Estimators will overwrite some part of the style using the `sk-estimator` class\n",
              "*/\n",
              "\n",
              "/* Pipeline and ColumnTransformer style (default) */\n",
              "\n",
              "#sk-container-id-1 div.sk-toggleable {\n",
              "  /* Default theme specific background. It is overwritten whether we have a\n",
              "  specific estimator or a Pipeline/ColumnTransformer */\n",
              "  background-color: var(--sklearn-color-background);\n",
              "}\n",
              "\n",
              "/* Toggleable label */\n",
              "#sk-container-id-1 label.sk-toggleable__label {\n",
              "  cursor: pointer;\n",
              "  display: flex;\n",
              "  width: 100%;\n",
              "  margin-bottom: 0;\n",
              "  padding: 0.5em;\n",
              "  box-sizing: border-box;\n",
              "  text-align: center;\n",
              "  align-items: start;\n",
              "  justify-content: space-between;\n",
              "  gap: 0.5em;\n",
              "}\n",
              "\n",
              "#sk-container-id-1 label.sk-toggleable__label .caption {\n",
              "  font-size: 0.6rem;\n",
              "  font-weight: lighter;\n",
              "  color: var(--sklearn-color-text-muted);\n",
              "}\n",
              "\n",
              "#sk-container-id-1 label.sk-toggleable__label-arrow:before {\n",
              "  /* Arrow on the left of the label */\n",
              "  content: \"▸\";\n",
              "  float: left;\n",
              "  margin-right: 0.25em;\n",
              "  color: var(--sklearn-color-icon);\n",
              "}\n",
              "\n",
              "#sk-container-id-1 label.sk-toggleable__label-arrow:hover:before {\n",
              "  color: var(--sklearn-color-text);\n",
              "}\n",
              "\n",
              "/* Toggleable content - dropdown */\n",
              "\n",
              "#sk-container-id-1 div.sk-toggleable__content {\n",
              "  max-height: 0;\n",
              "  max-width: 0;\n",
              "  overflow: hidden;\n",
              "  text-align: left;\n",
              "  /* unfitted */\n",
              "  background-color: var(--sklearn-color-unfitted-level-0);\n",
              "}\n",
              "\n",
              "#sk-container-id-1 div.sk-toggleable__content.fitted {\n",
              "  /* fitted */\n",
              "  background-color: var(--sklearn-color-fitted-level-0);\n",
              "}\n",
              "\n",
              "#sk-container-id-1 div.sk-toggleable__content pre {\n",
              "  margin: 0.2em;\n",
              "  border-radius: 0.25em;\n",
              "  color: var(--sklearn-color-text);\n",
              "  /* unfitted */\n",
              "  background-color: var(--sklearn-color-unfitted-level-0);\n",
              "}\n",
              "\n",
              "#sk-container-id-1 div.sk-toggleable__content.fitted pre {\n",
              "  /* unfitted */\n",
              "  background-color: var(--sklearn-color-fitted-level-0);\n",
              "}\n",
              "\n",
              "#sk-container-id-1 input.sk-toggleable__control:checked~div.sk-toggleable__content {\n",
              "  /* Expand drop-down */\n",
              "  max-height: 200px;\n",
              "  max-width: 100%;\n",
              "  overflow: auto;\n",
              "}\n",
              "\n",
              "#sk-container-id-1 input.sk-toggleable__control:checked~label.sk-toggleable__label-arrow:before {\n",
              "  content: \"▾\";\n",
              "}\n",
              "\n",
              "/* Pipeline/ColumnTransformer-specific style */\n",
              "\n",
              "#sk-container-id-1 div.sk-label input.sk-toggleable__control:checked~label.sk-toggleable__label {\n",
              "  color: var(--sklearn-color-text);\n",
              "  background-color: var(--sklearn-color-unfitted-level-2);\n",
              "}\n",
              "\n",
              "#sk-container-id-1 div.sk-label.fitted input.sk-toggleable__control:checked~label.sk-toggleable__label {\n",
              "  background-color: var(--sklearn-color-fitted-level-2);\n",
              "}\n",
              "\n",
              "/* Estimator-specific style */\n",
              "\n",
              "/* Colorize estimator box */\n",
              "#sk-container-id-1 div.sk-estimator input.sk-toggleable__control:checked~label.sk-toggleable__label {\n",
              "  /* unfitted */\n",
              "  background-color: var(--sklearn-color-unfitted-level-2);\n",
              "}\n",
              "\n",
              "#sk-container-id-1 div.sk-estimator.fitted input.sk-toggleable__control:checked~label.sk-toggleable__label {\n",
              "  /* fitted */\n",
              "  background-color: var(--sklearn-color-fitted-level-2);\n",
              "}\n",
              "\n",
              "#sk-container-id-1 div.sk-label label.sk-toggleable__label,\n",
              "#sk-container-id-1 div.sk-label label {\n",
              "  /* The background is the default theme color */\n",
              "  color: var(--sklearn-color-text-on-default-background);\n",
              "}\n",
              "\n",
              "/* On hover, darken the color of the background */\n",
              "#sk-container-id-1 div.sk-label:hover label.sk-toggleable__label {\n",
              "  color: var(--sklearn-color-text);\n",
              "  background-color: var(--sklearn-color-unfitted-level-2);\n",
              "}\n",
              "\n",
              "/* Label box, darken color on hover, fitted */\n",
              "#sk-container-id-1 div.sk-label.fitted:hover label.sk-toggleable__label.fitted {\n",
              "  color: var(--sklearn-color-text);\n",
              "  background-color: var(--sklearn-color-fitted-level-2);\n",
              "}\n",
              "\n",
              "/* Estimator label */\n",
              "\n",
              "#sk-container-id-1 div.sk-label label {\n",
              "  font-family: monospace;\n",
              "  font-weight: bold;\n",
              "  display: inline-block;\n",
              "  line-height: 1.2em;\n",
              "}\n",
              "\n",
              "#sk-container-id-1 div.sk-label-container {\n",
              "  text-align: center;\n",
              "}\n",
              "\n",
              "/* Estimator-specific */\n",
              "#sk-container-id-1 div.sk-estimator {\n",
              "  font-family: monospace;\n",
              "  border: 1px dotted var(--sklearn-color-border-box);\n",
              "  border-radius: 0.25em;\n",
              "  box-sizing: border-box;\n",
              "  margin-bottom: 0.5em;\n",
              "  /* unfitted */\n",
              "  background-color: var(--sklearn-color-unfitted-level-0);\n",
              "}\n",
              "\n",
              "#sk-container-id-1 div.sk-estimator.fitted {\n",
              "  /* fitted */\n",
              "  background-color: var(--sklearn-color-fitted-level-0);\n",
              "}\n",
              "\n",
              "/* on hover */\n",
              "#sk-container-id-1 div.sk-estimator:hover {\n",
              "  /* unfitted */\n",
              "  background-color: var(--sklearn-color-unfitted-level-2);\n",
              "}\n",
              "\n",
              "#sk-container-id-1 div.sk-estimator.fitted:hover {\n",
              "  /* fitted */\n",
              "  background-color: var(--sklearn-color-fitted-level-2);\n",
              "}\n",
              "\n",
              "/* Specification for estimator info (e.g. \"i\" and \"?\") */\n",
              "\n",
              "/* Common style for \"i\" and \"?\" */\n",
              "\n",
              ".sk-estimator-doc-link,\n",
              "a:link.sk-estimator-doc-link,\n",
              "a:visited.sk-estimator-doc-link {\n",
              "  float: right;\n",
              "  font-size: smaller;\n",
              "  line-height: 1em;\n",
              "  font-family: monospace;\n",
              "  background-color: var(--sklearn-color-background);\n",
              "  border-radius: 1em;\n",
              "  height: 1em;\n",
              "  width: 1em;\n",
              "  text-decoration: none !important;\n",
              "  margin-left: 0.5em;\n",
              "  text-align: center;\n",
              "  /* unfitted */\n",
              "  border: var(--sklearn-color-unfitted-level-1) 1pt solid;\n",
              "  color: var(--sklearn-color-unfitted-level-1);\n",
              "}\n",
              "\n",
              ".sk-estimator-doc-link.fitted,\n",
              "a:link.sk-estimator-doc-link.fitted,\n",
              "a:visited.sk-estimator-doc-link.fitted {\n",
              "  /* fitted */\n",
              "  border: var(--sklearn-color-fitted-level-1) 1pt solid;\n",
              "  color: var(--sklearn-color-fitted-level-1);\n",
              "}\n",
              "\n",
              "/* On hover */\n",
              "div.sk-estimator:hover .sk-estimator-doc-link:hover,\n",
              ".sk-estimator-doc-link:hover,\n",
              "div.sk-label-container:hover .sk-estimator-doc-link:hover,\n",
              ".sk-estimator-doc-link:hover {\n",
              "  /* unfitted */\n",
              "  background-color: var(--sklearn-color-unfitted-level-3);\n",
              "  color: var(--sklearn-color-background);\n",
              "  text-decoration: none;\n",
              "}\n",
              "\n",
              "div.sk-estimator.fitted:hover .sk-estimator-doc-link.fitted:hover,\n",
              ".sk-estimator-doc-link.fitted:hover,\n",
              "div.sk-label-container:hover .sk-estimator-doc-link.fitted:hover,\n",
              ".sk-estimator-doc-link.fitted:hover {\n",
              "  /* fitted */\n",
              "  background-color: var(--sklearn-color-fitted-level-3);\n",
              "  color: var(--sklearn-color-background);\n",
              "  text-decoration: none;\n",
              "}\n",
              "\n",
              "/* Span, style for the box shown on hovering the info icon */\n",
              ".sk-estimator-doc-link span {\n",
              "  display: none;\n",
              "  z-index: 9999;\n",
              "  position: relative;\n",
              "  font-weight: normal;\n",
              "  right: .2ex;\n",
              "  padding: .5ex;\n",
              "  margin: .5ex;\n",
              "  width: min-content;\n",
              "  min-width: 20ex;\n",
              "  max-width: 50ex;\n",
              "  color: var(--sklearn-color-text);\n",
              "  box-shadow: 2pt 2pt 4pt #999;\n",
              "  /* unfitted */\n",
              "  background: var(--sklearn-color-unfitted-level-0);\n",
              "  border: .5pt solid var(--sklearn-color-unfitted-level-3);\n",
              "}\n",
              "\n",
              ".sk-estimator-doc-link.fitted span {\n",
              "  /* fitted */\n",
              "  background: var(--sklearn-color-fitted-level-0);\n",
              "  border: var(--sklearn-color-fitted-level-3);\n",
              "}\n",
              "\n",
              ".sk-estimator-doc-link:hover span {\n",
              "  display: block;\n",
              "}\n",
              "\n",
              "/* \"?\"-specific style due to the `<a>` HTML tag */\n",
              "\n",
              "#sk-container-id-1 a.estimator_doc_link {\n",
              "  float: right;\n",
              "  font-size: 1rem;\n",
              "  line-height: 1em;\n",
              "  font-family: monospace;\n",
              "  background-color: var(--sklearn-color-background);\n",
              "  border-radius: 1rem;\n",
              "  height: 1rem;\n",
              "  width: 1rem;\n",
              "  text-decoration: none;\n",
              "  /* unfitted */\n",
              "  color: var(--sklearn-color-unfitted-level-1);\n",
              "  border: var(--sklearn-color-unfitted-level-1) 1pt solid;\n",
              "}\n",
              "\n",
              "#sk-container-id-1 a.estimator_doc_link.fitted {\n",
              "  /* fitted */\n",
              "  border: var(--sklearn-color-fitted-level-1) 1pt solid;\n",
              "  color: var(--sklearn-color-fitted-level-1);\n",
              "}\n",
              "\n",
              "/* On hover */\n",
              "#sk-container-id-1 a.estimator_doc_link:hover {\n",
              "  /* unfitted */\n",
              "  background-color: var(--sklearn-color-unfitted-level-3);\n",
              "  color: var(--sklearn-color-background);\n",
              "  text-decoration: none;\n",
              "}\n",
              "\n",
              "#sk-container-id-1 a.estimator_doc_link.fitted:hover {\n",
              "  /* fitted */\n",
              "  background-color: var(--sklearn-color-fitted-level-3);\n",
              "}\n",
              "</style><div id=\"sk-container-id-1\" class=\"sk-top-container\"><div class=\"sk-text-repr-fallback\"><pre>LogisticRegression()</pre><b>In a Jupyter environment, please rerun this cell to show the HTML representation or trust the notebook. <br />On GitHub, the HTML representation is unable to render, please try loading this page with nbviewer.org.</b></div><div class=\"sk-container\" hidden><div class=\"sk-item\"><div class=\"sk-estimator fitted sk-toggleable\"><input class=\"sk-toggleable__control sk-hidden--visually\" id=\"sk-estimator-id-1\" type=\"checkbox\" checked><label for=\"sk-estimator-id-1\" class=\"sk-toggleable__label fitted sk-toggleable__label-arrow\"><div><div>LogisticRegression</div></div><div><a class=\"sk-estimator-doc-link fitted\" rel=\"noreferrer\" target=\"_blank\" href=\"https://scikit-learn.org/1.6/modules/generated/sklearn.linear_model.LogisticRegression.html\">?<span>Documentation for LogisticRegression</span></a><span class=\"sk-estimator-doc-link fitted\">i<span>Fitted</span></span></div></label><div class=\"sk-toggleable__content fitted\"><pre>LogisticRegression()</pre></div> </div></div></div></div>"
            ]
          },
          "metadata": {},
          "execution_count": 21
        }
      ],
      "source": [
        "from sklearn.linear_model import LogisticRegression\n",
        "\n",
        "# Create an instance of Logistic Regression classifier and fit it to the data\n",
        "lr = LogisticRegression()\n",
        "# Increase max_iter as needed 最大迭代次数：如模型无法在默认的 100 次内收敛（尤其数据量大/特征多）就要加大数值\n",
        "\n",
        "lr.fit(X_train, Y_train)\n",
        "# 让模型“学会”从特征 X_train 去预测标签 Y_train"
      ]
    },
    {
      "cell_type": "markdown",
      "source": [
        "\n",
        "\n",
        "\n",
        "The method `lr.predict_proba()` maps each feature vector $x$ to a pair of scores $p(x) = [p\\_0, p\\_1]$ where $p\\_0$ and $p\\_1$ represent the model's confidence in assigning the target $y=0$ and $y=1$ to $x$, respectively. For any given $x$, $p\\_0 + p\\_1 = 1$. The score $p\\_1(x) \\in [0, 1]$ specifically reflects the confidence of the Logistic Regression classifier in predicting the target $y=1$ for the feature vector $x$.\n",
        "\n",
        "\n",
        "\n",
        "<center><img width=“500\" src = \"https://drive.google.com/uc?export=view&id=1znqNbk_1GLWeTgxf3PU0HcGg1r1L-uLo\"></center>\n",
        "\n",
        "\n",
        "To transform the continuous prediction $p(x)$ into a binary prediction $\\hat{y} \\in \\{0, 1\\}$, select a **threshold**. If $p(x)$ exceeds this threshold, assign the positive label (1); otherwise, assign the negative label (0).\n",
        "\n",
        "The default threshold is 0.5. In Logistic Regression, the method `lr.predict()` automatically applies this threshold to map feature vector $x$ to a binary output.\n"
      ],
      "metadata": {
        "id": "W6RjPADksjRE"
      }
    },
    {
      "cell_type": "markdown",
      "source": [
        "---\n",
        "<font color=green>Q9:</font>\n",
        "<br><font color='green'>\n",
        "Utilize the previously discussed method to compute the binary prediction vector `y_hat` for the test dataset `X_test`, applying the default threshold of 0.5. This can be achieved with the Logistic Regression model's `predict` method:\n",
        "\n",
        "</font>\n",
        "\n",
        "---"
      ],
      "metadata": {
        "id": "hVDbi6ntyLhd"
      }
    },
    {
      "cell_type": "code",
      "execution_count": null,
      "metadata": {
        "id": "hUEoAhKmELT3"
      },
      "outputs": [],
      "source": [
        "# Calculating y_hat\n",
        "y_hat = lr.predict(X_test)\n",
        "\n",
        "# 用这个模型对测试集特征 X_test 进行预测\n",
        "# y_hat：预测结果，也叫预测标签数组"
      ]
    },
    {
      "cell_type": "markdown",
      "source": [
        "---\n",
        "<font color=green>Q10:</font>\n",
        "<br><font color='green'>\n",
        "Generate a visual representation of the confusion matrix for the test set predictions using `confusion_matrix` from `sklearn.metrics`. Follow these steps for visualization:\n",
        "\n",
        "1. Import `confusion_matrix`.\n",
        "2. Compute the confusion matrix using the true labels and your predictions.\n",
        "3. Use seaborn  to create a heatmap for easy interpretation.\n",
        "\n",
        "</font>\n",
        "\n",
        "---\n"
      ],
      "metadata": {
        "id": "RRPqsIHBy1jS"
      }
    },
    {
      "cell_type": "code",
      "source": [
        "# Q：为什么要使用模型预测值 y_hat 和真实标签 Y_test 来计算混淆矩阵？\n",
        "# A：y_hat是模型预测出来的结果（0/1）；Y_test是测试集中真实的标签（0/1）"
      ],
      "metadata": {
        "id": "_oDKkYyIzR9y"
      },
      "execution_count": null,
      "outputs": []
    },
    {
      "cell_type": "code",
      "execution_count": null,
      "metadata": {
        "colab": {
          "base_uri": "https://localhost:8080/",
          "height": 564
        },
        "id": "PcQhBhiCELYi",
        "outputId": "d5ca19e2-a419-479c-d9ea-7edc7d81374c"
      },
      "outputs": [
        {
          "output_type": "display_data",
          "data": {
            "text/plain": [
              "<Figure size 800x600 with 2 Axes>"
            ],
            "image/png": "[encoded data removed]"
          },
          "metadata": {}
        }
      ],
      "source": [
        "from sklearn.metrics import confusion_matrix\n",
        "# Assuming y_test are your true labels and y_hat are your predictions\n",
        "cm = confusion_matrix(Y_test, y_hat) # # actual value，prediction\n",
        "\n",
        "plt.figure(figsize=(8, 6))\n",
        "sns.heatmap(cm, annot=True, # 显示每个格子的数字\n",
        "            fmt=\"d\",        # 数字用整数显示\n",
        "            cmap=\"Blues\",   # 蓝色调色板\n",
        "            xticklabels=[\"Not Fraud\", \"Fraud\"],\n",
        "            yticklabels=[\"Not Fraud\", \"Fraud\"])\n",
        "plt.xlabel('Predicted')\n",
        "plt.ylabel('True')\n",
        "plt.title('Confusion Matrix')\n",
        "plt.show()"
      ]
    },
    {
      "cell_type": "markdown",
      "source": [
        "---\n",
        "<font color=green>Q11:</font>\n",
        "<br><font color='green'>\n",
        "Utilize `classification_report` from `sklearn.metrics` to display key classification metrics, including precision, recall, and the F1 score, for your model's performance on the test set. Follow the steps below to generate and view the report:\n",
        "\n",
        "1. Import the `classification_report` function.\n",
        "2. Call `classification_report` with the true labels and your predictions.\n",
        "3. Print the report to view the metrics.\n",
        "\n",
        "</font>\n",
        "\n",
        "---"
      ],
      "metadata": {
        "id": "7N3orsIF08RY"
      }
    },
    {
      "cell_type": "code",
      "execution_count": null,
      "metadata": {
        "colab": {
          "base_uri": "https://localhost:8080/"
        },
        "id": "wEEO2Qt6ELbE",
        "outputId": "559541c5-271b-4282-9de7-f36d3b3efc85"
      },
      "outputs": [
        {
          "output_type": "stream",
          "name": "stdout",
          "text": [
            "              precision    recall  f1-score   support\n",
            "\n",
            "           0       1.00      1.00      1.00      2884\n",
            "           1       0.96      0.89      0.92       116\n",
            "\n",
            "    accuracy                           0.99      3000\n",
            "   macro avg       0.98      0.94      0.96      3000\n",
            "weighted avg       0.99      0.99      0.99      3000\n",
            "\n"
          ]
        }
      ],
      "source": [
        "# print the classification report\n",
        "from sklearn.metrics import classification_report\n",
        "\n",
        "# Assuming y_test are your true labels and y_hat are your predictions\n",
        "report = classification_report(Y_test, y_hat)\n",
        "# 将真实标签 Y_test 和模型预测结果 y_hat 传入，生成一个评估报告字符串\n",
        "\n",
        "print(report)\n",
        "#precision 精确率：预测为 1 的样本中有多少是真的（= TP / (TP + FP)）\n",
        "# recall 召回率：所有真正为 1 的样本中，有多少被模型找出来（= TP / (TP + FN)）\n",
        "# f1-score 精确率和召回率的调和平均（= 2 * precision * recall / (precision + recall)）\n",
        "# support 每个类别在真实数据中的样本数（即 Y_test 中该类的个数）\n",
        "# accuracy 总体正确率（= (TP + TN) / 总样本数）"
      ]
    },
    {
      "cell_type": "markdown",
      "source": [
        "While the results from our classification report indicate good overall performance, we observe a lower recall for the minority class. This suggests that our model is less effective at identifying all positive instances of the minority class, which is critical in applications like fraud detection where missing actual fraudulent transactions can have significant consequences.\n",
        "\n"
      ],
      "metadata": {
        "id": "GU3V8xv4FlXe"
      }
    },
    {
      "cell_type": "markdown",
      "metadata": {
        "id": "bVqE-f96TkPo"
      },
      "source": [
        "# Improving the model"
      ]
    },
    {
      "cell_type": "markdown",
      "metadata": {
        "id": "U67-gm73Tonn"
      },
      "source": [
        "### Resampling techniques"
      ]
    },
    {
      "cell_type": "markdown",
      "source": [
        "* The main problem when we train a model using an imbalanced dataset is that it results in a biased classifier towards the majority class.\n",
        "\n",
        "* There are two ways to overcome this bias problem:\n",
        "  * **Undersampling**: In this case, we randomly select as many observations of the majority class $\\mathcal{G}_-$ as we have for the minority class $\\mathcal{G}_+$. (See figure below)\n",
        "  \n",
        "  <center><img width=“500\" src = \"https://drive.google.com/uc?export=view&id=106_U8l014dk7LybyoPpUEiLlABfeWbhZ\"></center>\n",
        "\n",
        "  * **Oversampling**: In this case, we prefer to have more elements from the minority class $\\mathcal{G}_+$. Hence, we either create duplicates of the minority class or create synthetic datapoints so that we reach $|\\mathcal{G}_-|$ samples (where $|F|$ denotes the number of elements of $F$). One way of creating synthetic data points is called the **SMOTE** (Synthetic Minority Oversampling Technique). The method is described in [Synthetic Minority Over-sampling Technique](https://arxiv.org/pdf/1106.1813.pdf) and can be summarized as follows:\n",
        "    * First, a random example $x_1$ is chosed from the minority class $\\mathcal{G}_+$.\n",
        "    * Then, we find the k nearest neighbors for that example (typically $k=5$).\n",
        "    * We randomly select one of these k neighbors, let's call it $x_2$.\n",
        "    * The synthetic instances are generated as a convex combination of the two instances $x_1$ and $x_2$.\n",
        "\n",
        "  <center><img width=“500\" src = \"https://drive.google.com/uc?export=view&id=1j2EGBKoXKdI66mynmgdIYlRT2HWpdhrQ\"></center>\n"
      ],
      "metadata": {
        "id": "7-m0stpT2Iaj"
      }
    },
    {
      "cell_type": "markdown",
      "source": [
        "---\n",
        "<font color=green>Q13:</font>\n",
        "<br><font color='green'>\n",
        "Enhance the dataset balance through oversampling of the minority class using the Synthetic Minority Over-sampling Technique (SMOTE). Follow these steps to apply SMOTE from the `imblearn.over_sampling` library and create a new balanced dataset $(X_{\\text{smote}}, y_{\\text{smote}})$:\n",
        "\n",
        "1. Import the `SMOTE` function.\n",
        "2. Apply SMOTE to generate a balanced dataset by oversampling the minority class.\n",
        "3. Store the newly balanced features and labels in $(X_{\\text{smote}}, y_{\\text{smote}})$.\n",
        "\n",
        "\n",
        "</font>\n",
        "\n",
        "---"
      ],
      "metadata": {
        "id": "09ADCW3aFQzV"
      }
    },
    {
      "cell_type": "code",
      "source": [
        "#Q：为什么要使用SMOTE？\n",
        "#A：数据集中于两个极端值时，模型容易偏向预测多数类，导致少数类（欺诈）几乎识别不出来 --- 需要balance"
      ],
      "metadata": {
        "id": "oq5vEH_m0hhw"
      },
      "execution_count": null,
      "outputs": []
    },
    {
      "cell_type": "code",
      "execution_count": null,
      "metadata": {
        "id": "yfL--kLRELc6"
      },
      "outputs": [],
      "source": [
        "from imblearn.over_sampling import SMOTE\n",
        "\n",
        "smote = SMOTE()\n",
        "X_smote, y_smote = smote.fit_resample(X_train, Y_train)\n",
        "# X_train, Y_train\t原始、不平衡的训练集\n",
        "# X_smote, y_smote\t处理后的、类别均衡的训练集\n",
        "# Now, (X_smote, y_smote) represents your balanced dataset"
      ]
    },
    {
      "cell_type": "markdown",
      "source": [
        "---\n",
        "<font color=green>Q14:</font>\n",
        "<br><font color='green'>\n",
        "With the dataset balanced using SMOTE, let's proceed with the Logistic Regression model to assess the impact on model performance:\n",
        "\n",
        "1. **Retrain the Logistic Regression Model:** Utilize the newly balanced training dataset $(X_{\\text{smote}}, y_{\\text{smote}})$ to train the model.\n",
        "\n",
        "2. **Make Predictions:** Use the retrained model to predict the targets for `X_test`.\n",
        "\n",
        "3. **Visualize the Confusion Matrix:** Plot the confusion matrix to visually assess the model's performance on the test set.\n",
        "\n",
        "4. **Evaluate Model Performance:** Compute key evaluation metrics, such as precision, recall, and F1 score, to determine if balancing the dataset has led to any improvements.\n",
        "\n",
        "\n",
        "</font>\n",
        "\n",
        "---"
      ],
      "metadata": {
        "id": "wOuY5ct9VU2F"
      }
    },
    {
      "cell_type": "code",
      "execution_count": null,
      "metadata": {
        "colab": {
          "base_uri": "https://localhost:8080/",
          "height": 720
        },
        "id": "0v6BQnBvELuc",
        "outputId": "41f7bb1d-b5ca-460b-f205-15f51c7915b7"
      },
      "outputs": [
        {
          "output_type": "display_data",
          "data": {
            "text/plain": [
              "<Figure size 800x600 with 2 Axes>"
            ],
            "image/png": "[encoded data removed]"
          },
          "metadata": {}
        },
        {
          "output_type": "stream",
          "name": "stdout",
          "text": [
            "              precision    recall  f1-score   support\n",
            "\n",
            "           0       1.00      0.97      0.98      2884\n",
            "           1       0.53      0.91      0.67       116\n",
            "\n",
            "    accuracy                           0.97      3000\n",
            "   macro avg       0.76      0.94      0.83      3000\n",
            "weighted avg       0.98      0.97      0.97      3000\n",
            "\n"
          ]
        }
      ],
      "source": [
        "from sklearn.linear_model import LogisticRegression\n",
        "from sklearn.metrics import confusion_matrix, classification_report\n",
        "import seaborn as sns\n",
        "import matplotlib.pyplot as plt\n",
        "\n",
        "# Retrain with SMOTE-balanced data\n",
        "lr_smote = LogisticRegression(max_iter = 1000)\n",
        "lr_smote.fit(X_smote, y_smote)\n",
        "\n",
        "# Predict on test set\n",
        "y_pred_smote = lr_smote.predict(X_test)\n",
        "\n",
        "# Plot confusion matrix\n",
        "cm_smote = confusion_matrix(y_test, y_pred_smote)\n",
        "plt.figure(figsize=(8, 6))\n",
        "sns.heatmap(cm_smote, annot=True, fmt=\"d\", cmap=\"Blues\", xticklabels=[\"Not Fraud\", \"Fraud\"], yticklabels=[\"Not Fraud\", \"Fraud\"])\n",
        "plt.xlabel('Predicted')\n",
        "plt.ylabel('True')\n",
        "plt.title('Confusion Matrix with SMOTE')\n",
        "plt.show()\n",
        "\n",
        "# Calculate and display evaluation metrics\n",
        "print(classification_report(y_test, y_pred_smote))\n"
      ]
    },
    {
      "cell_type": "markdown",
      "source": [
        "After applying the SMOTE technique to balance our dataset and retraining the Logistic Regression model, we observe a slight improvement in recall for the minority class. This enhancement is particularly beneficial for banking applications, where accurately identifying fraudulent transactions—even at the expense of a higher false positive rate—can significantly reduce financial losses and enhance customer trust.\n",
        "on the accuracy of minority class detection."
      ],
      "metadata": {
        "id": "nZ-OZd4aW9gV"
      }
    },
    {
      "cell_type": "markdown",
      "metadata": {
        "id": "yuT132sYIjln"
      },
      "source": [
        "# Wrap-up\n",
        "\n",
        "During this session we learned:\n",
        "* How to load and explore a dataframe.\n",
        "* What are the most suitable evaluation metrics in the case of an imbalanced dataset, especially the recall and the AUC.\n",
        "* Resampling techniques including the SMOTE method."
      ]
    }
  ],
  "metadata": {
    "colab": {
      "provenance": [],
      "include_colab_link": true
    },
    "kernelspec": {
      "display_name": "Python 3",
      "name": "python3"
    },
    "language_info": {
      "name": "python"
    }
  },
  "nbformat": 4,
  "nbformat_minor": 0
}