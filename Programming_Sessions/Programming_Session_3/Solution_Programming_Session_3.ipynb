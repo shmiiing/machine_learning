{
  "cells": [
    {
      "cell_type": "markdown",
      "metadata": {
        "id": "view-in-github",
        "colab_type": "text"
      },
      "source": [
        "<a href=\"https://colab.research.google.com/github/shmiiing/machine_learning/blob/main/Programming_Sessions/Programming_Session_3/Solution_Programming_Session_3.ipynb\" target=\"_parent\"><img src=\"https://colab.research.google.com/assets/colab-badge.svg\" alt=\"Open In Colab\"/></a>"
      ]
    },
    {
      "cell_type": "markdown",
      "metadata": {
        "id": "eHz_knk-QXx0"
      },
      "source": [
        "# **<center>Machine Learning and Finance </center>**\n",
        "\n",
        "\n",
        "## <center> Programming Session 3 - Introduction to Deep Learning Solution </center>\n"
      ]
    },
    {
      "cell_type": "markdown",
      "metadata": {
        "id": "dsXQGceNKQas"
      },
      "source": [
        "# Introduction to Deep Learning\n",
        "\n",
        "## Objective\n",
        "\n",
        "The objective of this session is to use a neural network for a sentiment analysis task on the IMDb dataset. We will learn to classify movie reviews as positive or negative, based on the text content of the reviews.\n",
        "\n",
        "## Outline\n",
        "\n",
        "- [Exploring the Dataset](#Exploring-the-Dataset)\n",
        "\n",
        "- [Deep Learning](#Deep-Learning)\n",
        "\n",
        "## Introduction\n",
        "\n",
        "In this tutorial, we will dive into the world of natural language processing (NLP) using neural networks. Our focus will be on sentiment analysis, a key area in NLP that deals with understanding emotions in text.\n",
        "\n",
        "## Challenge\n",
        "\n",
        "The challenge in sentiment analysis lies in accurately classifying the sentiment of text content - in our case, movie reviews - as either positive or negative. This involves understanding the nuances of human language, slang, sarcasm, and contextual meaning.\n",
        "\n",
        "## DataSet Overview\n",
        "\n",
        "We will be using the IMDb dataset, a set of 50,000 movie reviews labeled as positive or negative. This dataset is widely used for training and testing in the domain of sentiment analysis and serves as a benchmark for new models.\n",
        "\n",
        "## Objectives\n",
        "\n",
        "Our goals for this session are to:\n",
        "1. Understand the basics of sentiment analysis and its importance.\n",
        "2. Explore and preprocess the IMDb dataset for neural network training.\n",
        "3. Build and train a neural network to classify movie reviews.\n",
        "4. Evaluate the performance of our model and explore ways to improve it.\n",
        "\n",
        "\n",
        "<center><img width=\"300\" src = \"https://drive.google.com/uc?export=view&id=1qhP9rw1v2zx3NouaFhEiFAnYHpkqPGST\"></center>"
      ]
    },
    {
      "cell_type": "code",
      "execution_count": null,
      "metadata": {
        "id": "4MoK3YhcvT7-"
      },
      "outputs": [],
      "source": [
        "# Import Basic Modules\n",
        "import tensorflow as tf # to create neural networks\n",
        "import numpy as np # to manipulate arrays\n",
        "import matplotlib.pyplot as plt # for plots\n",
        "plt.style.use('dark_background') # to adapt the colors to a dark background"
      ]
    },
    {
      "cell_type": "markdown",
      "metadata": {
        "id": "GTm66dlwPhy6"
      },
      "source": [
        "# 1. Exploring the dataset"
      ]
    },
    {
      "cell_type": "markdown",
      "metadata": {
        "id": "Y6P4u7TWvHEA"
      },
      "source": [
        "## 1.1 Preprocessing the data"
      ]
    },
    {
      "cell_type": "markdown",
      "metadata": {
        "id": "xAOxRfWwUvaB"
      },
      "source": [
        "* Since today's programming session is not focused on text data preprocessing (refer to Lecture 5 for that), we will be utilizing preprocessed reviews.\n",
        "\n",
        "* Every review consists of a sequence of words. These sequences are preprocessed through a dictionary named **word2idx**, which assigns an integer to every word.\n"
      ]
    },
    {
      "cell_type": "markdown",
      "metadata": {
        "id": "rjDs0-c4HCqH"
      },
      "source": [
        "<center><img width=\"700\" src = \"https://drive.google.com/uc?export=view&id=1Gp8xNTpTxR9TMaS6frkLmHt9YxYeN2RD\"></center>"
      ]
    },
    {
      "cell_type": "markdown",
      "metadata": {
        "id": "NqxzUFLwkfAI"
      },
      "source": [
        "- In the provided example, words are arranged in an index based on their frequency within the dataset. For instance, the integer \"4\" represents the fourth most commonly occurring word in the dataset.\n",
        "\n",
        "- Consequently, the result consists of preprocessed reviews presented as a **list of integers**, depicted in the accompanying figure.\n"
      ]
    },
    {
      "cell_type": "markdown",
      "metadata": {
        "id": "w2QdnMz9HDw8"
      },
      "source": [
        "<center><img width=\"700\" src = \"https://drive.google.com/uc?export=view&id=1GM14DjLNMzgzOBIxas6d2rJvK83iYdQJ\"></center>"
      ]
    },
    {
      "cell_type": "markdown",
      "metadata": {
        "id": "JdeOO3dYLWbE"
      },
      "source": [
        "Consider a vocabulary size denoted as `V = 10000`, representing the number of words intended for processing. Any other words beyond this vocabulary size will be treated uniformly as \"unknown\" or \"out of vocabulary\" and assigned the same index.\n"
      ]
    },
    {
      "cell_type": "code",
      "execution_count": null,
      "metadata": {
        "id": "_GfvHVjeLVV1"
      },
      "outputs": [],
      "source": [
        "V = 10000"
      ]
    },
    {
      "cell_type": "markdown",
      "metadata": {
        "id": "z_V6OeGXkcqg"
      },
      "source": [
        "\n",
        "---\n",
        "<font color=green>Q1:</font>\n",
        "<br><font color='green'>\n",
        "Load the `imdb` dataset using `tensorflow.keras.datasets` as described in the [TensorFlow documentation](https://www.tensorflow.org/api_docs/python/tf/keras/datasets/imdb/load_data). Configure the loader with `num_words` set to `V`, `maxlen` set to 1000, `start_char` set to 1, `oov_char` set to 2, and `index_from` set to 3.\n",
        "\n",
        "</font>\n",
        "\n",
        "---"
      ]
    },
    {
      "cell_type": "code",
      "source": [
        "(x_train, y_train), (x_test, y_test) = tf.keras.datasets.imdb.load_data(num_words = V,\n",
        "                                                                        maxlen=1000)"
      ],
      "metadata": {
        "id": "VTRj2c6_UCoL"
      },
      "execution_count": null,
      "outputs": []
    },
    {
      "cell_type": "code",
      "source": [
        "y_train"
      ],
      "metadata": {
        "colab": {
          "base_uri": "https://localhost:8080/"
        },
        "id": "AzeSX8Mma_6u",
        "outputId": "2eec351c-23d1-4a75-a18f-e89a0f190a1b"
      },
      "execution_count": null,
      "outputs": [
        {
          "output_type": "execute_result",
          "data": {
            "text/plain": [
              "array([1., 0., 0., ..., 0., 1., 0.], dtype=float32)"
            ]
          },
          "metadata": {},
          "execution_count": 30
        }
      ]
    },
    {
      "cell_type": "markdown",
      "source": [],
      "metadata": {
        "id": "T-dpl84mTlCq"
      }
    },
    {
      "cell_type": "code",
      "execution_count": null,
      "metadata": {
        "id": "h1O9eX8hPoTI",
        "outputId": "5477c4c3-2b88-4fe2-dc80-558da2886f4a",
        "colab": {
          "base_uri": "https://localhost:8080/"
        }
      },
      "outputs": [
        {
          "output_type": "stream",
          "name": "stdout",
          "text": [
            "Downloading data from https://storage.googleapis.com/tensorflow/tf-keras-datasets/imdb.npz\n",
            "17464789/17464789 [==============================] - 0s 0us/step\n"
          ]
        }
      ],
      "source": [
        "(x_train, y_train), (x_test, y_test) = tf.keras.datasets.imdb.load_data(path='imdb.npz',\n",
        "                                                                        num_words = V,\n",
        "                                                                        maxlen = 1000,\n",
        "                                                                        start_char = 1,\n",
        "                                                                        oov_char = 2,\n",
        "                                                                        index_from = 3)"
      ]
    },
    {
      "cell_type": "markdown",
      "metadata": {
        "id": "5x1GxouoDzs_"
      },
      "source": [
        "---\n",
        "<font color=green>Q2:</font>\n",
        "<br><font color='green'>\n",
        "Display the initial training data as a list of integers (or 1D array).\n",
        "</font>\n",
        "\n",
        "---"
      ]
    },
    {
      "cell_type": "code",
      "source": [
        "np.array(x_train[0])"
      ],
      "metadata": {
        "colab": {
          "base_uri": "https://localhost:8080/"
        },
        "id": "AgvakIz_UROC",
        "outputId": "17b5b66a-0888-4e7a-c621-4a4d230f4d1c"
      },
      "execution_count": null,
      "outputs": [
        {
          "output_type": "execute_result",
          "data": {
            "text/plain": [
              "array([   1,   14,   22,   16,   43,  530,  973, 1622, 1385,   65,  458,\n",
              "       4468,   66, 3941,    4,  173,   36,  256,    5,   25,  100,   43,\n",
              "        838,  112,   50,  670,    2,    9,   35,  480,  284,    5,  150,\n",
              "          4,  172,  112,  167,    2,  336,  385,   39,    4,  172, 4536,\n",
              "       1111,   17,  546,   38,   13,  447,    4,  192,   50,   16,    6,\n",
              "        147, 2025,   19,   14,   22,    4, 1920, 4613,  469,    4,   22,\n",
              "         71,   87,   12,   16,   43,  530,   38,   76,   15,   13, 1247,\n",
              "          4,   22,   17,  515,   17,   12,   16,  626,   18,    2,    5,\n",
              "         62,  386,   12,    8,  316,    8,  106,    5,    4, 2223, 5244,\n",
              "         16,  480,   66, 3785,   33,    4,  130,   12,   16,   38,  619,\n",
              "          5,   25,  124,   51,   36,  135,   48,   25, 1415,   33,    6,\n",
              "         22,   12,  215,   28,   77,   52,    5,   14,  407,   16,   82,\n",
              "          2,    8,    4,  107,  117, 5952,   15,  256,    4,    2,    7,\n",
              "       3766,    5,  723,   36,   71,   43,  530,  476,   26,  400,  317,\n",
              "         46,    7,    4,    2, 1029,   13,  104,   88,    4,  381,   15,\n",
              "        297,   98,   32, 2071,   56,   26,  141,    6,  194, 7486,   18,\n",
              "          4,  226,   22,   21,  134,  476,   26,  480,    5,  144,   30,\n",
              "       5535,   18,   51,   36,   28,  224,   92,   25,  104,    4,  226,\n",
              "         65,   16,   38, 1334,   88,   12,   16,  283,    5,   16, 4472,\n",
              "        113,  103,   32,   15,   16, 5345,   19,  178,   32])"
            ]
          },
          "metadata": {},
          "execution_count": 8
        }
      ]
    },
    {
      "cell_type": "code",
      "execution_count": null,
      "metadata": {
        "colab": {
          "base_uri": "https://localhost:8080/"
        },
        "id": "I2VNo-kaTeTH",
        "outputId": "7682cb0b-72d0-4fcc-cd93-4654aaaa1a49"
      },
      "outputs": [
        {
          "output_type": "stream",
          "name": "stdout",
          "text": [
            "[   1   14   22   16   43  530  973 1622 1385   65  458 4468   66 3941\n",
            "    4  173   36  256    5   25  100   43  838  112   50  670    2    9\n",
            "   35  480  284    5  150    4  172  112  167    2  336  385   39    4\n",
            "  172 4536 1111   17  546   38   13  447    4  192   50   16    6  147\n",
            " 2025   19   14   22    4 1920 4613  469    4   22   71   87   12   16\n",
            "   43  530   38   76   15   13 1247    4   22   17  515   17   12   16\n",
            "  626   18    2    5   62  386   12    8  316    8  106    5    4 2223\n",
            " 5244   16  480   66 3785   33    4  130   12   16   38  619    5   25\n",
            "  124   51   36  135   48   25 1415   33    6   22   12  215   28   77\n",
            "   52    5   14  407   16   82    2    8    4  107  117 5952   15  256\n",
            "    4    2    7 3766    5  723   36   71   43  530  476   26  400  317\n",
            "   46    7    4    2 1029   13  104   88    4  381   15  297   98   32\n",
            " 2071   56   26  141    6  194 7486   18    4  226   22   21  134  476\n",
            "   26  480    5  144   30 5535   18   51   36   28  224   92   25  104\n",
            "    4  226   65   16   38 1334   88   12   16  283    5   16 4472  113\n",
            "  103   32   15   16 5345   19  178   32]\n"
          ]
        }
      ],
      "source": [
        "print(np.array(x_train[0]))"
      ]
    },
    {
      "cell_type": "markdown",
      "metadata": {
        "id": "IooUvgTjD0aU"
      },
      "source": [
        "---\n",
        "<font color=green>Q3:</font>\n",
        "<br><font color='green'>\n",
        "\n",
        "Retrieve the `word2idx` dictionary using `imdb.get_word_index()`. What is the index associated with the word \"movie\"?\n",
        "</font>\n",
        "\n",
        "---"
      ]
    },
    {
      "cell_type": "code",
      "source": [
        "word2idx = tf.keras.datasets.imdb.get_word_index()"
      ],
      "metadata": {
        "colab": {
          "base_uri": "https://localhost:8080/"
        },
        "id": "K4DYwBqjUX2d",
        "outputId": "dd196d15-6f14-4b6e-a023-0b8a7eb346ac"
      },
      "execution_count": null,
      "outputs": [
        {
          "output_type": "stream",
          "name": "stdout",
          "text": [
            "Downloading data from https://storage.googleapis.com/tensorflow/tf-keras-datasets/imdb_word_index.json\n",
            "1641221/1641221 [==============================] - 0s 0us/step\n"
          ]
        }
      ]
    },
    {
      "cell_type": "code",
      "execution_count": null,
      "metadata": {
        "id": "vy26sM3fofMJ",
        "outputId": "d97edc18-7160-48ad-fc7e-6c3f8ad60f99",
        "colab": {
          "base_uri": "https://localhost:8080/"
        }
      },
      "outputs": [
        {
          "output_type": "stream",
          "name": "stdout",
          "text": [
            "Downloading data from https://storage.googleapis.com/tensorflow/tf-keras-datasets/imdb_word_index.json\n",
            "1641221/1641221 [==============================] - 0s 0us/step\n"
          ]
        }
      ],
      "source": [
        "word2idx = tf.keras.datasets.imdb.get_word_index()"
      ]
    },
    {
      "cell_type": "code",
      "execution_count": null,
      "metadata": {
        "colab": {
          "base_uri": "https://localhost:8080/"
        },
        "id": "hhWuVD5ZCDN0",
        "outputId": "ff8d16e8-e4d4-499f-f3d1-dbc1d903a025"
      },
      "outputs": [
        {
          "output_type": "execute_result",
          "data": {
            "text/plain": [
              "17"
            ]
          },
          "metadata": {},
          "execution_count": 10
        }
      ],
      "source": [
        "word2idx['movie']"
      ]
    },
    {
      "cell_type": "markdown",
      "metadata": {
        "id": "u0x0rx7ND1YD"
      },
      "source": [
        "---\n",
        "<font color=green>Q4:</font>\n",
        "<br><font color='green'>\n",
        "Create a dictionary named `idx2word` to invert the `word2idx` dictionary. Then, infer the original review corresponding to the initial training data, presented as a sequence of words rather than integers. It's crucial to consider that the indexes are shifted by 3 due to the reserved indices for \"padding,\" \"start of sequence,\" and \"unknown,\" which are 0, 1, and 2 respectively.\n",
        "\n",
        "</font>\n",
        "\n",
        "---"
      ]
    },
    {
      "cell_type": "code",
      "source": [
        "idx2word = {value:key for key,value in word2idx.items()}"
      ],
      "metadata": {
        "id": "r2Si224CU8ZT"
      },
      "execution_count": null,
      "outputs": []
    },
    {
      "cell_type": "code",
      "source": [
        "my_first_sequence = []\n",
        "for item in x_train[0]:\n",
        "    if item-3 > 0:\n",
        "        my_first_sequence.append(idx2word[item-3])\n",
        "    else:\n",
        "        my_first_sequence.append('oov')\n",
        "print(my_first_sequence)"
      ],
      "metadata": {
        "colab": {
          "base_uri": "https://localhost:8080/"
        },
        "id": "VN2TstQcVEJz",
        "outputId": "faa9cbe7-b964-4c64-ae57-cb65c4a9f353"
      },
      "execution_count": null,
      "outputs": [
        {
          "output_type": "stream",
          "name": "stdout",
          "text": [
            "['oov', 'this', 'film', 'was', 'just', 'brilliant', 'casting', 'location', 'scenery', 'story', 'direction', \"everyone's\", 'really', 'suited', 'the', 'part', 'they', 'played', 'and', 'you', 'could', 'just', 'imagine', 'being', 'there', 'robert', 'oov', 'is', 'an', 'amazing', 'actor', 'and', 'now', 'the', 'same', 'being', 'director', 'oov', 'father', 'came', 'from', 'the', 'same', 'scottish', 'island', 'as', 'myself', 'so', 'i', 'loved', 'the', 'fact', 'there', 'was', 'a', 'real', 'connection', 'with', 'this', 'film', 'the', 'witty', 'remarks', 'throughout', 'the', 'film', 'were', 'great', 'it', 'was', 'just', 'brilliant', 'so', 'much', 'that', 'i', 'bought', 'the', 'film', 'as', 'soon', 'as', 'it', 'was', 'released', 'for', 'oov', 'and', 'would', 'recommend', 'it', 'to', 'everyone', 'to', 'watch', 'and', 'the', 'fly', 'fishing', 'was', 'amazing', 'really', 'cried', 'at', 'the', 'end', 'it', 'was', 'so', 'sad', 'and', 'you', 'know', 'what', 'they', 'say', 'if', 'you', 'cry', 'at', 'a', 'film', 'it', 'must', 'have', 'been', 'good', 'and', 'this', 'definitely', 'was', 'also', 'oov', 'to', 'the', 'two', 'little', \"boy's\", 'that', 'played', 'the', 'oov', 'of', 'norman', 'and', 'paul', 'they', 'were', 'just', 'brilliant', 'children', 'are', 'often', 'left', 'out', 'of', 'the', 'oov', 'list', 'i', 'think', 'because', 'the', 'stars', 'that', 'play', 'them', 'all', 'grown', 'up', 'are', 'such', 'a', 'big', 'profile', 'for', 'the', 'whole', 'film', 'but', 'these', 'children', 'are', 'amazing', 'and', 'should', 'be', 'praised', 'for', 'what', 'they', 'have', 'done', \"don't\", 'you', 'think', 'the', 'whole', 'story', 'was', 'so', 'lovely', 'because', 'it', 'was', 'true', 'and', 'was', \"someone's\", 'life', 'after', 'all', 'that', 'was', 'shared', 'with', 'us', 'all']\n"
          ]
        }
      ]
    },
    {
      "cell_type": "code",
      "execution_count": null,
      "metadata": {
        "id": "xVNLFqHAUCOX"
      },
      "outputs": [],
      "source": [
        "idx2word = {value:key for key, value in word2idx.items()}\n",
        "\n",
        "my_first_sequence = []\n",
        "for idx in x_train[0]:\n",
        "    try:\n",
        "        my_first_sequence.append(idx2word[idx-3])\n",
        "    except:\n",
        "        my_first_sequence.append('oov')\n",
        "\n"
      ]
    },
    {
      "cell_type": "code",
      "source": [
        "np.array(my_first_sequence)"
      ],
      "metadata": {
        "id": "uf7iQbDQLKB9",
        "outputId": "e49fcd08-847c-4d99-9d67-904ada9d3d43",
        "colab": {
          "base_uri": "https://localhost:8080/"
        }
      },
      "execution_count": null,
      "outputs": [
        {
          "output_type": "execute_result",
          "data": {
            "text/plain": [
              "array(['oov', 'this', 'film', 'was', 'just', 'brilliant', 'casting',\n",
              "       'location', 'scenery', 'story', 'direction', \"everyone's\",\n",
              "       'really', 'suited', 'the', 'part', 'they', 'played', 'and', 'you',\n",
              "       'could', 'just', 'imagine', 'being', 'there', 'robert', 'oov',\n",
              "       'is', 'an', 'amazing', 'actor', 'and', 'now', 'the', 'same',\n",
              "       'being', 'director', 'oov', 'father', 'came', 'from', 'the',\n",
              "       'same', 'scottish', 'island', 'as', 'myself', 'so', 'i', 'loved',\n",
              "       'the', 'fact', 'there', 'was', 'a', 'real', 'connection', 'with',\n",
              "       'this', 'film', 'the', 'witty', 'remarks', 'throughout', 'the',\n",
              "       'film', 'were', 'great', 'it', 'was', 'just', 'brilliant', 'so',\n",
              "       'much', 'that', 'i', 'bought', 'the', 'film', 'as', 'soon', 'as',\n",
              "       'it', 'was', 'released', 'for', 'oov', 'and', 'would', 'recommend',\n",
              "       'it', 'to', 'everyone', 'to', 'watch', 'and', 'the', 'fly',\n",
              "       'fishing', 'was', 'amazing', 'really', 'cried', 'at', 'the', 'end',\n",
              "       'it', 'was', 'so', 'sad', 'and', 'you', 'know', 'what', 'they',\n",
              "       'say', 'if', 'you', 'cry', 'at', 'a', 'film', 'it', 'must', 'have',\n",
              "       'been', 'good', 'and', 'this', 'definitely', 'was', 'also', 'oov',\n",
              "       'to', 'the', 'two', 'little', \"boy's\", 'that', 'played', 'the',\n",
              "       'oov', 'of', 'norman', 'and', 'paul', 'they', 'were', 'just',\n",
              "       'brilliant', 'children', 'are', 'often', 'left', 'out', 'of',\n",
              "       'the', 'oov', 'list', 'i', 'think', 'because', 'the', 'stars',\n",
              "       'that', 'play', 'them', 'all', 'grown', 'up', 'are', 'such', 'a',\n",
              "       'big', 'profile', 'for', 'the', 'whole', 'film', 'but', 'these',\n",
              "       'children', 'are', 'amazing', 'and', 'should', 'be', 'praised',\n",
              "       'for', 'what', 'they', 'have', 'done', \"don't\", 'you', 'think',\n",
              "       'the', 'whole', 'story', 'was', 'so', 'lovely', 'because', 'it',\n",
              "       'was', 'true', 'and', 'was', \"someone's\", 'life', 'after', 'all',\n",
              "       'that', 'was', 'shared', 'with', 'us', 'all'], dtype='<U10')"
            ]
          },
          "metadata": {},
          "execution_count": 10
        }
      ]
    },
    {
      "cell_type": "code",
      "source": [
        "idx2word[1]"
      ],
      "metadata": {
        "id": "7IE1VHKsKVX8",
        "outputId": "64cc485b-5086-4e34-a7e5-6232808b3ca2",
        "colab": {
          "base_uri": "https://localhost:8080/",
          "height": 35
        }
      },
      "execution_count": null,
      "outputs": [
        {
          "output_type": "execute_result",
          "data": {
            "text/plain": [
              "'the'"
            ],
            "application/vnd.google.colaboratory.intrinsic+json": {
              "type": "string"
            }
          },
          "metadata": {},
          "execution_count": 11
        }
      ]
    },
    {
      "cell_type": "markdown",
      "metadata": {
        "id": "83oI6qiyvWxd"
      },
      "source": [
        "## 1.2 Creating the (N, V) tensor of Data"
      ]
    },
    {
      "cell_type": "markdown",
      "metadata": {
        "id": "9TYjQFPSv_oy"
      },
      "source": [
        "The data is a list of lists.\n"
      ]
    },
    {
      "cell_type": "markdown",
      "metadata": {
        "id": "_e6_PDKSD2SN"
      },
      "source": [
        "---\n",
        "<font color=green>Q5:</font>\n",
        "<br><font color='green'>\n",
        "What is the maximum length of the sequences in the training data?\n",
        "</font>\n",
        "\n",
        "---"
      ]
    },
    {
      "cell_type": "code",
      "source": [
        "max([len(k) for k in x_train])"
      ],
      "metadata": {
        "id": "h5tWYOS8MGEU",
        "outputId": "044da21e-ce4a-4d08-fb74-56f01e84edcd",
        "colab": {
          "base_uri": "https://localhost:8080/"
        }
      },
      "execution_count": null,
      "outputs": [
        {
          "output_type": "execute_result",
          "data": {
            "text/plain": [
              "999"
            ]
          },
          "metadata": {},
          "execution_count": 17
        }
      ]
    },
    {
      "cell_type": "code",
      "execution_count": null,
      "metadata": {
        "colab": {
          "base_uri": "https://localhost:8080/",
          "height": 545
        },
        "id": "66Yfw4oVDhVd",
        "outputId": "75e2d802-c076-4f7f-d4d3-93a0729b0d13"
      },
      "outputs": [
        {
          "output_type": "display_data",
          "data": {
            "text/plain": [
              "<Figure size 1000x600 with 1 Axes>"
            ],
            "image/png": "[encoded data removed]"
          },
          "metadata": {}
        }
      ],
      "source": [
        "plt.figure(figsize = (10,6))\n",
        "plt.hist([len(k) for k in x_train])\n",
        "plt.title('Maximum Length of Sequences')\n",
        "plt.show()"
      ]
    },
    {
      "cell_type": "markdown",
      "metadata": {
        "id": "QTJdnw6nD31d"
      },
      "source": [
        "---\n",
        "<font color=green>Q6:</font>\n",
        "<br><font color='green'>\n",
        "Define a function named `vectorize` which accepts the following inputs:\n",
        "- `sequences`: a list containing lists of integers.\n",
        "- `V`: The size of the vocabulary.\n",
        "This function will produce a tensor with a shape of (N, V), where N is the length of the sequences.\n",
        "\n",
        "The specifications are as follows:\n",
        "- Each sequence is represented by a row in the (N, V) tensor.\n",
        "- For every sequence, the corresponding row is a V-dimensional vector where all elements are 0 except for the indices present in the sequence. For instance,  the sequence [12, 564] will be represented by a V-dimensional vector where all elements are zeros except for indices 12 and 564.\n",
        "</font>\n",
        "\n",
        "---"
      ]
    },
    {
      "cell_type": "markdown",
      "metadata": {
        "id": "mSNJ1GVQHFr8"
      },
      "source": [
        "<center><img width=\"700\" src = \"https://drive.google.com/uc?export=view&id=1jw29117eRETMUSNquct9bdhhwfPOdBj5\"></center>"
      ]
    },
    {
      "cell_type": "code",
      "source": [
        "def vectorize(sequences, V):\n",
        "    output_tensor = np.zeros((len(sequences), V))\n",
        "    for index, sequence in enumerate(sequences):\n",
        "        output_tensor[index, sequence] = 1\n",
        "    return output_tensor"
      ],
      "metadata": {
        "id": "0fCRqTYoVmfQ"
      },
      "execution_count": null,
      "outputs": []
    },
    {
      "cell_type": "code",
      "execution_count": null,
      "metadata": {
        "id": "x_l8wHbsFqeF"
      },
      "outputs": [],
      "source": [
        "def vectorize(sequences, V):\n",
        "    N = len(sequences)\n",
        "\n",
        "    input_tensor = np.zeros((N, V))\n",
        "    for index, sequence in enumerate(sequences):\n",
        "        input_tensor[index, sequence] = 1\n",
        "\n",
        "    return input_tensor"
      ]
    },
    {
      "cell_type": "markdown",
      "metadata": {
        "id": "4CGlUQsRD4u9"
      },
      "source": [
        "---\n",
        "<font color=green>Q7:</font>\n",
        "<br><font color='green'>\n",
        "Apply the `vectorize` function to both the training and test data to transform them into vectorized representations.\n",
        "</font>\n",
        "\n",
        "---"
      ]
    },
    {
      "cell_type": "code",
      "execution_count": null,
      "metadata": {
        "id": "JIQeYy_POzuO"
      },
      "outputs": [],
      "source": [
        "X_train = vectorize(x_train, V)\n",
        "X_test = vectorize(x_test, V)"
      ]
    },
    {
      "cell_type": "code",
      "execution_count": null,
      "metadata": {
        "id": "eQAMstvoO0DO",
        "outputId": "5eefe2c1-3331-4486-c808-6e1e60153ed1",
        "colab": {
          "base_uri": "https://localhost:8080/"
        }
      },
      "outputs": [
        {
          "output_type": "stream",
          "name": "stdout",
          "text": [
            "(24875, 10000)\n"
          ]
        }
      ],
      "source": [
        "print(X_train.shape)"
      ]
    },
    {
      "cell_type": "code",
      "execution_count": null,
      "metadata": {
        "id": "FMt7CCryO0QM",
        "colab": {
          "base_uri": "https://localhost:8080/"
        },
        "outputId": "468f81c1-0fd9-4b9f-b026-127a714b4e22"
      },
      "outputs": [
        {
          "output_type": "stream",
          "name": "stdout",
          "text": [
            "[[0. 1. 1. ... 0. 0. 0.]\n",
            " [0. 1. 1. ... 0. 0. 0.]\n",
            " [0. 1. 1. ... 0. 0. 0.]\n",
            " ...\n",
            " [0. 1. 1. ... 0. 0. 0.]\n",
            " [0. 1. 1. ... 0. 0. 0.]\n",
            " [0. 1. 1. ... 0. 0. 0.]]\n"
          ]
        }
      ],
      "source": [
        "print(X_test)"
      ]
    },
    {
      "cell_type": "markdown",
      "metadata": {
        "id": "tDOIuRdlD5MN"
      },
      "source": [
        "---\n",
        "<font color=green>Q8:</font>\n",
        "<br><font color='green'>\n",
        "Convert the labels to floating-point (`float32`) numbers using the `np.float32` method.\n",
        "</font>\n",
        "\n",
        "---"
      ]
    },
    {
      "cell_type": "code",
      "execution_count": null,
      "metadata": {
        "id": "xfJMPpSdfcQk"
      },
      "outputs": [],
      "source": [
        "y_train = np.float32(y_train)"
      ]
    },
    {
      "cell_type": "code",
      "execution_count": null,
      "metadata": {
        "id": "Q0thLaWtPjvT"
      },
      "outputs": [],
      "source": [
        "y_test = np.float32(y_test)"
      ]
    },
    {
      "cell_type": "markdown",
      "metadata": {
        "id": "afODKpPRQaOh"
      },
      "source": [
        "# 2. Deep Learning"
      ]
    },
    {
      "cell_type": "markdown",
      "metadata": {
        "id": "81xiisY4qzTG"
      },
      "source": [
        "## 2.2 Building the Model"
      ]
    },
    {
      "cell_type": "markdown",
      "metadata": {
        "id": "dGsqokaFQmOU"
      },
      "source": [
        "---\n",
        "<font color=green>Q9:</font>\n",
        "<br><font color='green'>\n",
        "Which loss function is most appropriate for a binary classification task? What activation function should be used as the final layer?\n",
        "</font>\n",
        "\n",
        "---\n"
      ]
    },
    {
      "cell_type": "markdown",
      "metadata": {
        "id": "tKdc7NTgSrYF"
      },
      "source": [
        "The loss function should be selected as the binary classification loss function, and the final layer ought to incorporate a **sigmoid** activation function\n"
      ]
    },
    {
      "cell_type": "markdown",
      "metadata": {
        "id": "-y9vuEf4HHHk"
      },
      "source": [
        "<center><img width=\"700\" src = \"https://drive.google.com/uc?export=view&id=1PJPvjjoPG6NASHekAFCxgu8OXwEfO7bN\"></center>"
      ]
    },
    {
      "cell_type": "markdown",
      "metadata": {
        "id": "ulqsygACFpQG"
      },
      "source": [
        "---\n",
        "<font color=green>Q10:</font>\n",
        "<br><font color='green'>\n",
        "Using `Sequential` from tensorflow.keras as explained in this [link](https://www.tensorflow.org/api_docs/python/tf/keras/Sequential), Create the following model:\n",
        "</font>\n",
        "\n",
        "---\n"
      ]
    },
    {
      "cell_type": "markdown",
      "metadata": {
        "id": "hszzp-hmHIk8"
      },
      "source": [
        "<center><img width=\"500\" src = \"https://drive.google.com/uc?export=view&id=1Hl_A1tK9ewEZD-3Jwz7HdchSF1q-LUqY\"></center>"
      ]
    },
    {
      "cell_type": "code",
      "source": [
        "from tensorflow.keras.models import Sequential\n",
        "from tensorflow.keras.layers import Dense, Input\n",
        "\n",
        "\n",
        "model = Sequential()\n",
        "model.add(Input(shape = (V, )))\n",
        "model.add(Dense(256, activation = 'relu'))\n",
        "model.add(Dense(128, activation = 'relu'))\n",
        "model.add(Dense(32, activation = 'relu'))\n",
        "model.add(Dense(8, activation = 'relu'))\n",
        "model.add(Dense(1, activation = 'sigmoid'))\n",
        "\n",
        "\n",
        "\n"
      ],
      "metadata": {
        "id": "EIx4Jj8xaRLV"
      },
      "execution_count": null,
      "outputs": []
    },
    {
      "cell_type": "code",
      "source": [
        "model.summary()"
      ],
      "metadata": {
        "colab": {
          "base_uri": "https://localhost:8080/"
        },
        "id": "zvCAcqlwaua7",
        "outputId": "7ff63604-8399-442b-a6ed-0bf5187ee060"
      },
      "execution_count": null,
      "outputs": [
        {
          "output_type": "stream",
          "name": "stdout",
          "text": [
            "Model: \"sequential_1\"\n",
            "_________________________________________________________________\n",
            " Layer (type)                Output Shape              Param #   \n",
            "=================================================================\n",
            " dense_4 (Dense)             (None, 256)               2560256   \n",
            "                                                                 \n",
            " dense_5 (Dense)             (None, 128)               32896     \n",
            "                                                                 \n",
            " dense_6 (Dense)             (None, 32)                4128      \n",
            "                                                                 \n",
            " dense_7 (Dense)             (None, 8)                 264       \n",
            "                                                                 \n",
            " dense_8 (Dense)             (None, 1)                 9         \n",
            "                                                                 \n",
            "=================================================================\n",
            "Total params: 2597553 (9.91 MB)\n",
            "Trainable params: 2597553 (9.91 MB)\n",
            "Non-trainable params: 0 (0.00 Byte)\n",
            "_________________________________________________________________\n"
          ]
        }
      ]
    },
    {
      "cell_type": "code",
      "execution_count": null,
      "metadata": {
        "id": "3XgI_mUEb093"
      },
      "outputs": [],
      "source": [
        "from tensorflow.keras.models import Sequential # to define a stack of layers\n",
        "from tensorflow.keras.layers import Dense, Input # The dense layer and the input\n",
        "\n",
        "\n",
        "model = Sequential()\n",
        "\n",
        "model.add(Input(shape = (V,)))\n",
        "model.add(Dense(256, activation = 'relu'))\n",
        "model.add(Dense(128, activation = 'relu'))\n",
        "model.add(Dense(32, activation = 'relu'))\n",
        "model.add(Dense(8, activation = 'relu'))\n",
        "model.add(Dense(1, activation = 'sigmoid'))"
      ]
    },
    {
      "cell_type": "code",
      "source": [
        "model.summary()"
      ],
      "metadata": {
        "id": "31kEnTwmVb3r",
        "outputId": "984780e9-aa62-4066-ea38-38505b8832f7",
        "colab": {
          "base_uri": "https://localhost:8080/"
        }
      },
      "execution_count": null,
      "outputs": [
        {
          "output_type": "stream",
          "name": "stdout",
          "text": [
            "Model: \"sequential\"\n",
            "_________________________________________________________________\n",
            " Layer (type)                Output Shape              Param #   \n",
            "=================================================================\n",
            " dense (Dense)               (None, 256)               2560256   \n",
            "                                                                 \n",
            " dense_1 (Dense)             (None, 128)               32896     \n",
            "                                                                 \n",
            " dense_2 (Dense)             (None, 32)                4128      \n",
            "                                                                 \n",
            " dense_3 (Dense)             (None, 8)                 264       \n",
            "                                                                 \n",
            " dense_4 (Dense)             (None, 1)                 9         \n",
            "                                                                 \n",
            "=================================================================\n",
            "Total params: 2597553 (9.91 MB)\n",
            "Trainable params: 2597553 (9.91 MB)\n",
            "Non-trainable params: 0 (0.00 Byte)\n",
            "_________________________________________________________________\n"
          ]
        }
      ]
    },
    {
      "cell_type": "markdown",
      "metadata": {
        "id": "TEFwCXWBD9dk"
      },
      "source": [
        "---\n",
        "<font color=green>Q11:</font>\n",
        "<br><font color='green'>\n",
        "Compile the defined model with **Stochastic Gradient Descent** as the optimizer include accuracy in the metrics and choose the appropriate loss function. You can use model.compile method.\n",
        "Then, fit the model to the training data and assign the results to a variable named `history`.\n",
        "\n",
        "</font>\n",
        "\n",
        "---"
      ]
    },
    {
      "cell_type": "markdown",
      "metadata": {
        "id": "kGHIaonwHKIt"
      },
      "source": [
        "<center><img width=\"700\" src = \"https://drive.google.com/uc?export=view&id=1FQQv9phTnhFjMP54UvBLn6pps-l0L0AM\"></center>"
      ]
    },
    {
      "cell_type": "code",
      "execution_count": null,
      "metadata": {
        "id": "nUmkFlpmYLsT"
      },
      "outputs": [],
      "source": [
        "N_epochs = 20 # Number of epochs\n",
        "M = 64 # batch size"
      ]
    },
    {
      "cell_type": "code",
      "source": [
        "model.compile(optimizer ='sgd', loss='binary_crossentropy', metrics = ['acc'])"
      ],
      "metadata": {
        "id": "u_77_2rea4_M"
      },
      "execution_count": null,
      "outputs": []
    },
    {
      "cell_type": "code",
      "source": [
        "history = model.fit(X_train, y_train, epochs = N_epochs, batch_size = M, validation_split = 0.3)"
      ],
      "metadata": {
        "colab": {
          "base_uri": "https://localhost:8080/"
        },
        "id": "8QAsHtQdbmFr",
        "outputId": "e78509d7-267f-4fc0-f0c2-fa97f6d58063"
      },
      "execution_count": null,
      "outputs": [
        {
          "output_type": "stream",
          "name": "stdout",
          "text": [
            "Epoch 1/20\n",
            "273/273 [==============================] - 12s 41ms/step - loss: 0.6813 - acc: 0.5976 - val_loss: 0.6562 - val_acc: 0.7063\n",
            "Epoch 2/20\n",
            "273/273 [==============================] - 9s 33ms/step - loss: 0.5720 - acc: 0.7782 - val_loss: 0.4819 - val_acc: 0.8017\n",
            "Epoch 3/20\n",
            "273/273 [==============================] - 9s 34ms/step - loss: 0.3880 - acc: 0.8433 - val_loss: 0.4578 - val_acc: 0.7829\n",
            "Epoch 4/20\n",
            "273/273 [==============================] - 8s 29ms/step - loss: 0.3059 - acc: 0.8753 - val_loss: 0.3306 - val_acc: 0.8628\n",
            "Epoch 5/20\n",
            "273/273 [==============================] - 9s 33ms/step - loss: 0.2656 - acc: 0.8942 - val_loss: 0.3489 - val_acc: 0.8531\n",
            "Epoch 6/20\n",
            "273/273 [==============================] - 10s 37ms/step - loss: 0.2378 - acc: 0.9084 - val_loss: 0.9143 - val_acc: 0.6804\n",
            "Epoch 7/20\n",
            "273/273 [==============================] - 8s 30ms/step - loss: 0.2169 - acc: 0.9159 - val_loss: 0.2954 - val_acc: 0.8779\n",
            "Epoch 8/20\n",
            "273/273 [==============================] - 10s 35ms/step - loss: 0.1951 - acc: 0.9252 - val_loss: 0.3638 - val_acc: 0.8617\n",
            "Epoch 9/20\n",
            "273/273 [==============================] - 9s 33ms/step - loss: 0.1746 - acc: 0.9339 - val_loss: 0.9908 - val_acc: 0.6776\n",
            "Epoch 10/20\n",
            "273/273 [==============================] - 8s 29ms/step - loss: 0.1756 - acc: 0.9344 - val_loss: 0.3047 - val_acc: 0.8838\n",
            "Epoch 11/20\n",
            "273/273 [==============================] - 9s 34ms/step - loss: 0.1440 - acc: 0.9481 - val_loss: 0.3576 - val_acc: 0.8667\n",
            "Epoch 12/20\n",
            "273/273 [==============================] - 9s 33ms/step - loss: 0.1421 - acc: 0.9476 - val_loss: 0.4779 - val_acc: 0.8251\n",
            "Epoch 13/20\n",
            "273/273 [==============================] - 8s 28ms/step - loss: 0.1177 - acc: 0.9573 - val_loss: 1.0146 - val_acc: 0.7313\n",
            "Epoch 14/20\n",
            "273/273 [==============================] - 10s 38ms/step - loss: 0.1110 - acc: 0.9624 - val_loss: 0.3423 - val_acc: 0.8797\n",
            "Epoch 15/20\n",
            "273/273 [==============================] - 9s 33ms/step - loss: 0.0967 - acc: 0.9690 - val_loss: 0.3607 - val_acc: 0.8781\n",
            "Epoch 16/20\n",
            "273/273 [==============================] - 9s 33ms/step - loss: 0.0609 - acc: 0.9840 - val_loss: 0.4041 - val_acc: 0.8775\n",
            "Epoch 17/20\n",
            "273/273 [==============================] - 8s 29ms/step - loss: 0.0704 - acc: 0.9802 - val_loss: 0.3785 - val_acc: 0.8806\n",
            "Epoch 18/20\n",
            "273/273 [==============================] - 11s 39ms/step - loss: 0.0410 - acc: 0.9921 - val_loss: 0.4114 - val_acc: 0.8765\n",
            "Epoch 19/20\n",
            "273/273 [==============================] - 10s 35ms/step - loss: 0.0299 - acc: 0.9959 - val_loss: 0.4427 - val_acc: 0.8785\n",
            "Epoch 20/20\n",
            "273/273 [==============================] - 9s 34ms/step - loss: 0.0232 - acc: 0.9974 - val_loss: 0.4522 - val_acc: 0.8789\n"
          ]
        }
      ]
    },
    {
      "cell_type": "code",
      "source": [
        "model.compile(optimizer = 'sgd', loss = 'binary_crossentropy', metrics = ['acc'])"
      ],
      "metadata": {
        "id": "iigxS6CSlvQq"
      },
      "execution_count": null,
      "outputs": []
    },
    {
      "cell_type": "code",
      "source": [
        "history = model.fit(X_train, y_train, epochs = N_epochs, batch_size = M, validation_split = 0.3)"
      ],
      "metadata": {
        "id": "7sGryZ7ZWnd-",
        "outputId": "6d671b70-2dcc-482a-ba09-fe44f0b4a73d",
        "colab": {
          "base_uri": "https://localhost:8080/"
        }
      },
      "execution_count": null,
      "outputs": [
        {
          "output_type": "stream",
          "name": "stdout",
          "text": [
            "Epoch 1/20\n",
            "273/273 [==============================] - 11s 37ms/step - loss: 0.6670 - acc: 0.6290 - val_loss: 0.6133 - val_acc: 0.6992\n",
            "Epoch 2/20\n",
            "273/273 [==============================] - 8s 29ms/step - loss: 0.4849 - acc: 0.8073 - val_loss: 0.4922 - val_acc: 0.7583\n",
            "Epoch 3/20\n",
            "273/273 [==============================] - 9s 32ms/step - loss: 0.3441 - acc: 0.8565 - val_loss: 0.3269 - val_acc: 0.8604\n",
            "Epoch 4/20\n",
            "273/273 [==============================] - 9s 33ms/step - loss: 0.2880 - acc: 0.8832 - val_loss: 0.3005 - val_acc: 0.8754\n",
            "Epoch 5/20\n",
            "273/273 [==============================] - 9s 32ms/step - loss: 0.2535 - acc: 0.8990 - val_loss: 0.3396 - val_acc: 0.8546\n",
            "Epoch 6/20\n",
            "273/273 [==============================] - 9s 32ms/step - loss: 0.2225 - acc: 0.9135 - val_loss: 0.4117 - val_acc: 0.8361\n",
            "Epoch 7/20\n",
            "273/273 [==============================] - 12s 44ms/step - loss: 0.2075 - acc: 0.9200 - val_loss: 0.2939 - val_acc: 0.8815\n",
            "Epoch 8/20\n",
            "273/273 [==============================] - 8s 29ms/step - loss: 0.1942 - acc: 0.9251 - val_loss: 0.6979 - val_acc: 0.7580\n",
            "Epoch 9/20\n",
            "273/273 [==============================] - 9s 34ms/step - loss: 0.1711 - acc: 0.9363 - val_loss: 0.4384 - val_acc: 0.8443\n",
            "Epoch 10/20\n",
            "273/273 [==============================] - 9s 32ms/step - loss: 0.1602 - acc: 0.9399 - val_loss: 1.1034 - val_acc: 0.6605\n",
            "Epoch 11/20\n",
            "273/273 [==============================] - 8s 29ms/step - loss: 0.1468 - acc: 0.9466 - val_loss: 0.9638 - val_acc: 0.7233\n",
            "Epoch 12/20\n",
            "273/273 [==============================] - 9s 33ms/step - loss: 0.1240 - acc: 0.9564 - val_loss: 0.3398 - val_acc: 0.8771\n",
            "Epoch 13/20\n",
            "273/273 [==============================] - 10s 36ms/step - loss: 0.1041 - acc: 0.9663 - val_loss: 0.6359 - val_acc: 0.8129\n",
            "Epoch 14/20\n",
            "273/273 [==============================] - 8s 29ms/step - loss: 0.1143 - acc: 0.9626 - val_loss: 0.3423 - val_acc: 0.8758\n",
            "Epoch 15/20\n",
            "273/273 [==============================] - 9s 33ms/step - loss: 0.0926 - acc: 0.9733 - val_loss: 0.3592 - val_acc: 0.8783\n",
            "Epoch 16/20\n",
            "273/273 [==============================] - 9s 33ms/step - loss: 0.0584 - acc: 0.9857 - val_loss: 0.3916 - val_acc: 0.8730\n",
            "Epoch 17/20\n",
            "273/273 [==============================] - 8s 29ms/step - loss: 0.0569 - acc: 0.9875 - val_loss: 0.6478 - val_acc: 0.8281\n",
            "Epoch 18/20\n",
            "273/273 [==============================] - 9s 32ms/step - loss: 0.0392 - acc: 0.9934 - val_loss: 0.4514 - val_acc: 0.8644\n",
            "Epoch 19/20\n",
            "273/273 [==============================] - 9s 33ms/step - loss: 0.0283 - acc: 0.9965 - val_loss: 0.4617 - val_acc: 0.8722\n",
            "Epoch 20/20\n",
            "273/273 [==============================] - 9s 32ms/step - loss: 0.0219 - acc: 0.9974 - val_loss: 0.4596 - val_acc: 0.8718\n"
          ]
        }
      ]
    },
    {
      "cell_type": "markdown",
      "metadata": {
        "id": "ENMWw_CzD-Ts"
      },
      "source": [
        "---\n",
        "<font color=green>Q12:</font>\n",
        "<br><font color='green'>\n",
        "Display the losses and accuracies for the training and the validation data.\n",
        "</font>\n",
        "\n",
        "---"
      ]
    },
    {
      "cell_type": "code",
      "execution_count": null,
      "metadata": {
        "colab": {
          "base_uri": "https://localhost:8080/"
        },
        "id": "bKwF6kw-ZPW5",
        "outputId": "54a83b15-e0b2-4a81-eab9-207337964712"
      },
      "outputs": [
        {
          "data": {
            "text/plain": [
              "dict_keys(['loss', 'acc', 'val_loss', 'val_acc'])"
            ]
          },
          "execution_count": 41,
          "metadata": {},
          "output_type": "execute_result"
        }
      ],
      "source": []
    },
    {
      "cell_type": "code",
      "execution_count": null,
      "metadata": {
        "colab": {
          "base_uri": "https://localhost:8080/",
          "height": 545
        },
        "id": "6cJo1GIeZZFw",
        "outputId": "2ee575f2-d451-4dc6-d65a-66051e6838d6"
      },
      "outputs": [
        {
          "output_type": "display_data",
          "data": {
            "text/plain": [
              "<Figure size 1000x600 with 1 Axes>"
            ],
            "image/png": "[encoded data removed]"
          },
          "metadata": {}
        }
      ],
      "source": [
        "plt.figure(figsize = (10, 6))\n",
        "plt.plot(history.history['loss'], label = 'Training Loss')\n",
        "plt.plot(history.history['val_loss'], label = 'Testing Loss')\n",
        "plt.title('Training vs Validation Loss')\n",
        "plt.show()"
      ]
    },
    {
      "cell_type": "code",
      "execution_count": null,
      "metadata": {
        "colab": {
          "base_uri": "https://localhost:8080/",
          "height": 545
        },
        "id": "7OMZj_DgbGd0",
        "outputId": "96e78f46-01c9-49e8-a209-dfec93eb7258"
      },
      "outputs": [
        {
          "output_type": "display_data",
          "data": {
            "text/plain": [
              "<Figure size 1000x600 with 1 Axes>"
            ],
            "image/png": "[encoded data removed]"
          },
          "metadata": {}
        }
      ],
      "source": [
        "plt.figure(figsize = (10, 6))\n",
        "plt.plot(history.history['acc'], label = 'Training accuracy')\n",
        "plt.plot(history.history['val_acc'], label = 'Testing accuracy')\n",
        "plt.title('Training vs Validation accuracy')\n",
        "plt.show()"
      ]
    },
    {
      "cell_type": "markdown",
      "metadata": {
        "id": "6bc7zsxoIzO5"
      },
      "source": [
        "---\n",
        "<font color=green>Q13:</font>\n",
        "<br><font color='green'>\n",
        "What issue can be inferred from the plots presented earlier?\n",
        "</font>\n",
        "\n",
        "---\n"
      ]
    },
    {
      "cell_type": "markdown",
      "metadata": {
        "id": "GaBt6F3YqsXw"
      },
      "source": [
        "## 2.2 Fighting the Overfitting problem"
      ]
    },
    {
      "cell_type": "markdown",
      "metadata": {
        "id": "T98t8roeJI0e"
      },
      "source": [
        "To mitigate overfitting, we'll begin by reducing the complexity of the model.\n",
        "\n",
        "---\n",
        "<font color=green>Q14:</font>\n",
        "<br><font color='green'>\n",
        "Create the following model and train it. (Set the Dropout rate to 0.2).\n",
        "\n",
        "---\n",
        "\n"
      ]
    },
    {
      "cell_type": "markdown",
      "metadata": {
        "id": "zckYfpufHMEk"
      },
      "source": [
        "<center><img width=\"500\" src = \"https://drive.google.com/uc?export=view&id=1xlMRa7JsCFfMejfqA65b_aiGLE1dQNfY\"></center>"
      ]
    },
    {
      "cell_type": "code",
      "execution_count": null,
      "metadata": {
        "id": "DHY4kN5unqHL"
      },
      "outputs": [],
      "source": [
        "from tensorflow.keras.models import Sequential # to define a stack of layers\n",
        "from tensorflow.keras.layers import Dense, Dropout # The dense and dropout layers\n",
        "\n",
        "model = Sequential()\n",
        "\n",
        "model.add(Input(shape = (V,)))\n",
        "model.add(Dense(256, activation = 'relu'))\n",
        "model.add(Dropout(0.2))\n",
        "model.add(Dense(128, activation = 'relu'))\n",
        "model.add(Dropout(0.2))\n",
        "model.add(Dense(32, activation = 'relu'))\n",
        "model.add(Dropout(0.2))\n",
        "model.add(Dense(8, activation = 'relu'))\n",
        "model.add(Dropout(0.2))\n",
        "model.add(Dense(1, activation = 'sigmoid'))"
      ]
    },
    {
      "cell_type": "code",
      "execution_count": null,
      "metadata": {
        "id": "k_oIBdsUn5MV",
        "outputId": "ae80249f-9e7a-4e00-9555-8e141566fa72",
        "colab": {
          "base_uri": "https://localhost:8080/"
        }
      },
      "outputs": [
        {
          "output_type": "stream",
          "name": "stdout",
          "text": [
            "Model: \"sequential_1\"\n",
            "_________________________________________________________________\n",
            " Layer (type)                Output Shape              Param #   \n",
            "=================================================================\n",
            " dense_5 (Dense)             (None, 256)               2560256   \n",
            "                                                                 \n",
            " dropout (Dropout)           (None, 256)               0         \n",
            "                                                                 \n",
            " dense_6 (Dense)             (None, 128)               32896     \n",
            "                                                                 \n",
            " dropout_1 (Dropout)         (None, 128)               0         \n",
            "                                                                 \n",
            " dense_7 (Dense)             (None, 32)                4128      \n",
            "                                                                 \n",
            " dropout_2 (Dropout)         (None, 32)                0         \n",
            "                                                                 \n",
            " dense_8 (Dense)             (None, 8)                 264       \n",
            "                                                                 \n",
            " dropout_3 (Dropout)         (None, 8)                 0         \n",
            "                                                                 \n",
            " dense_9 (Dense)             (None, 1)                 9         \n",
            "                                                                 \n",
            "=================================================================\n",
            "Total params: 2597553 (9.91 MB)\n",
            "Trainable params: 2597553 (9.91 MB)\n",
            "Non-trainable params: 0 (0.00 Byte)\n",
            "_________________________________________________________________\n"
          ]
        }
      ],
      "source": [
        "model.summary()"
      ]
    },
    {
      "cell_type": "code",
      "execution_count": null,
      "metadata": {
        "id": "0woVCNP2n95j"
      },
      "outputs": [],
      "source": [
        "model.compile(optimizer = 'sgd', loss = 'binary_crossentropy', metrics = ['acc'])"
      ]
    },
    {
      "cell_type": "code",
      "source": [
        "history = model.fit(X_train, y_train, epochs = 10, batch_size = M, validation_split = 0.3)"
      ],
      "metadata": {
        "id": "013w4GvhZoSt",
        "outputId": "a792ca9f-da5f-4042-f64e-9691d82d5feb",
        "colab": {
          "base_uri": "https://localhost:8080/"
        }
      },
      "execution_count": null,
      "outputs": [
        {
          "output_type": "stream",
          "name": "stdout",
          "text": [
            "Epoch 1/10\n",
            "273/273 [==============================] - 11s 36ms/step - loss: 0.6851 - acc: 0.5531 - val_loss: 0.6499 - val_acc: 0.7161\n",
            "Epoch 2/10\n",
            "273/273 [==============================] - 7s 27ms/step - loss: 0.6180 - acc: 0.6901 - val_loss: 0.5201 - val_acc: 0.7995\n",
            "Epoch 3/10\n",
            "273/273 [==============================] - 8s 30ms/step - loss: 0.5105 - acc: 0.7755 - val_loss: 0.4415 - val_acc: 0.8167\n",
            "Epoch 4/10\n",
            "273/273 [==============================] - 8s 30ms/step - loss: 0.4275 - acc: 0.8228 - val_loss: 0.4121 - val_acc: 0.8160\n",
            "Epoch 5/10\n",
            "273/273 [==============================] - 7s 26ms/step - loss: 0.3794 - acc: 0.8507 - val_loss: 0.3356 - val_acc: 0.8639\n",
            "Epoch 6/10\n",
            "273/273 [==============================] - 8s 30ms/step - loss: 0.3440 - acc: 0.8673 - val_loss: 0.3189 - val_acc: 0.8731\n",
            "Epoch 7/10\n",
            "273/273 [==============================] - 8s 31ms/step - loss: 0.3123 - acc: 0.8800 - val_loss: 0.3798 - val_acc: 0.8451\n",
            "Epoch 8/10\n",
            "273/273 [==============================] - 8s 30ms/step - loss: 0.2885 - acc: 0.8923 - val_loss: 0.2965 - val_acc: 0.8790\n",
            "Epoch 9/10\n",
            "273/273 [==============================] - 10s 36ms/step - loss: 0.2644 - acc: 0.9061 - val_loss: 0.3020 - val_acc: 0.8791\n",
            "Epoch 10/10\n",
            "273/273 [==============================] - 9s 35ms/step - loss: 0.2441 - acc: 0.9137 - val_loss: 0.6375 - val_acc: 0.7260\n"
          ]
        }
      ]
    },
    {
      "cell_type": "markdown",
      "metadata": {
        "id": "RIpW11pCEAYN"
      },
      "source": [
        "---\n",
        "<font color=green>Q15:</font>\n",
        "<br><font color='green'>\n",
        "Display the losses and accuracies for the training and the validation data.\n",
        "</font>\n",
        "\n",
        "---"
      ]
    },
    {
      "cell_type": "code",
      "execution_count": null,
      "metadata": {
        "colab": {
          "base_uri": "https://localhost:8080/",
          "height": 545
        },
        "id": "-8YxMdEtpiG9",
        "outputId": "6f96ac0e-8bc0-4710-8005-ea8d124b47c0"
      },
      "outputs": [
        {
          "output_type": "display_data",
          "data": {
            "text/plain": [
              "<Figure size 1000x600 with 1 Axes>"
            ],
            "image/png": "[encoded data removed]"
          },
          "metadata": {}
        }
      ],
      "source": [
        "plt.figure(figsize = (10, 6))\n",
        "plt.plot(history.history['loss'], label = 'Training Loss')\n",
        "plt.plot(history.history['val_loss'], label = 'Testing Loss')\n",
        "plt.title('Training vs Validation Loss')\n",
        "plt.show()"
      ]
    },
    {
      "cell_type": "code",
      "execution_count": null,
      "metadata": {
        "colab": {
          "base_uri": "https://localhost:8080/",
          "height": 545
        },
        "id": "0un4fl4cpkqx",
        "outputId": "e77c6fab-f8d1-41b1-d3ea-8744ce224dd9"
      },
      "outputs": [
        {
          "output_type": "display_data",
          "data": {
            "text/plain": [
              "<Figure size 1000x600 with 1 Axes>"
            ],
            "image/png": "[encoded data removed]"
          },
          "metadata": {}
        }
      ],
      "source": [
        "plt.figure(figsize = (10, 6))\n",
        "plt.plot(history.history['acc'], label = 'Training accuracy')\n",
        "plt.plot(history.history['val_acc'], label = 'Testing accuracy')\n",
        "plt.title('Training vs Validation accuracy')\n",
        "plt.show()"
      ]
    },
    {
      "cell_type": "markdown",
      "metadata": {
        "id": "CZhhmdnZECfw"
      },
      "source": [
        "---\n",
        "<font color=green>Q16:</font>\n",
        "<br><font color='green'>\n",
        "Evaluate your final model on the test data\n",
        "</font>\n",
        "\n",
        "---"
      ]
    },
    {
      "cell_type": "code",
      "execution_count": null,
      "metadata": {
        "colab": {
          "base_uri": "https://localhost:8080/"
        },
        "id": "I1Owo_0xuQez",
        "outputId": "dd9c91fb-734b-4628-c8f4-3e73e3556b32"
      },
      "outputs": [
        {
          "output_type": "stream",
          "name": "stdout",
          "text": [
            "780/780 [==============================] - 7s 9ms/step - loss: 0.6447 - acc: 0.7214\n"
          ]
        },
        {
          "output_type": "execute_result",
          "data": {
            "text/plain": [
              "[0.6447429656982422, 0.7213758826255798]"
            ]
          },
          "metadata": {},
          "execution_count": 50
        }
      ],
      "source": [
        "model.evaluate(X_test, y_test)"
      ]
    },
    {
      "cell_type": "markdown",
      "metadata": {
        "id": "ARBav-xY8UKE"
      },
      "source": [
        "# Wrap-up\n",
        "\n",
        "\n"
      ]
    },
    {
      "cell_type": "markdown",
      "metadata": {
        "id": "QzEtZuyGfDmM"
      },
      "source": [
        "**In this lecture, we covered the following:**\n",
        "\n",
        "- Preprocessing sequences of word reviews.\n",
        "- Creating a stack of fully connected layers for a binary classification task.\n",
        "- Training the model using Stochastic Gradient Descent.\n",
        "- Determining the optimal complexity of a neural network to strike a balance between **Optimization** and **Generalization**.\n",
        "\n",
        "**How to improve the model:**\n",
        "\n",
        "- Experimenting with hyperparameters and regularization techniques.\n",
        "- Exploring better methods of encoding words (Refer to Lecture 5).\n",
        "- Utilizing Sequential Models that account for the sequential nature of the data (Refer to Lectures 6, 7, and 8).\n"
      ]
    }
  ],
  "metadata": {
    "colab": {
      "provenance": [],
      "include_colab_link": true
    },
    "kernelspec": {
      "display_name": "Python 3",
      "name": "python3"
    },
    "language_info": {
      "name": "python"
    }
  },
  "nbformat": 4,
  "nbformat_minor": 0
}