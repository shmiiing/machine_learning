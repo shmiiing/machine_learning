{
  "cells": [
    {
      "cell_type": "markdown",
      "metadata": {
        "id": "view-in-github",
        "colab_type": "text"
      },
      "source": [
        "<a href=\"https://colab.research.google.com/github/shmiiing/machine_learning/blob/main/Additional_Materials/Programming_Session_0.ipynb\" target=\"_parent\"><img src=\"https://colab.research.google.com/assets/colab-badge.svg\" alt=\"Open In Colab\"/></a>"
      ]
    },
    {
      "cell_type": "markdown",
      "metadata": {
        "id": "xe6QeItHXBTV"
      },
      "source": [
        "<img src=\"https://drive.google.com/uc?export=view&id=1gmxxmwCR1WXK0IYtNqvE4QXFleznWqQO\" height=\"100\"/>\n",
        "\n",
        "# **<center>Machine Learning and Finance </center>**\n",
        "\n",
        "\n",
        "## <center> Programming Session 0 - Introduction to Python </center>\n",
        "\n",
        "\n",
        "\n",
        "# Introduction to Python\n",
        "\n",
        "Welcome to this comprehensive guide designed for our course and anyone interested in learning Python, the leading programming language in data analysis and machine learning. This notebook will take you through the basics of Python and its libraries, with a focus on data handling and visualization techniques.\n",
        "## Outline\n",
        "\n",
        "- [Python Basics](#Python-Basics)\n",
        "\n",
        "Here, we will start with the fundamentals of Python programming. Learn about variables, data types, loops, and functions to get started on your Python journey.\n",
        "- [Understanding Numpy](#Understanding-Numpy)\n",
        "\n",
        "Dive into Numpy, Python's library for numerical computing. We'll cover array creation, operations, and manipulations to help you handle large, multi-dimensional arrays and matrices.\n",
        "\n",
        "- [Exploring Panda](#Exploring-Panda)\n",
        "\n",
        "Get to know Pandas, the must-have library for data manipulation and analysis. This section will guide you through data structures like Series and DataFrames, data cleaning, and preprocessing steps.\n",
        "\n",
        "- [Visualizing Data with Matplotlib](#Visualizing-Data-with-Matplotlib)\n",
        "\n",
        "Learn the basics of Matplotlib, Python's plotting library. We'll explore different types of plots and visualizations to bring your data to life and gain insights from it."
      ]
    },
    {
      "cell_type": "markdown",
      "source": [
        "#1. Python Basics"
      ],
      "metadata": {
        "id": "z0iJhtS1KH6Z"
      }
    },
    {
      "cell_type": "markdown",
      "metadata": {
        "id": "0JNN4n-o5A00"
      },
      "source": [
        "## 0- `print` Function in Python\n",
        "> In Python, the `print` function is one of the most basic and frequently used built-in functions. Its primary purpose is to display information to the console.\n",
        "\n",
        "### Basic Usage\n",
        "\n",
        "To print a simple message or variable's value, you can use the `print` function like this:\n",
        "```\n",
        "print(\"Hello, World!\")\n",
        "```\n",
        "\n",
        "**Printing Multiple Items**\n",
        " You can print multiple items in a single call by separating them with commas:\n",
        "```\n",
        "name = \"Alice\"\n",
        "print(\"Hello,\", name, \"!\") # This will output: Hello, Alice !\n",
        "\n",
        "```\n",
        "\n",
        "**String Formatting**\n",
        "Python provides several methods to format strings for display:\n",
        "\n",
        "\n",
        "\n",
        "1.   Using f-strings:\n",
        "```\n",
        "age = 30\n",
        "print(f\"Alice is {age} years old.\")\n",
        "```\n",
        "2.   Using the str.format() method:\n",
        "```\n",
        "print(\"Alice is {} years old.\".format(age))\n",
        "```\n",
        "3. Using %-formatting:\n",
        "```\n",
        "print(\"Alice is %d years old.\" % age)\n",
        "```\n",
        "\n",
        "**End and Separator**\n",
        "\n",
        "The print function also offers parameters like end and sep to control the output:\n",
        "\n",
        "- end: Specifies what to print at the end.\n",
        "- sep: Specifies how to separate multiple items.\n",
        "```\n",
        "print(\"Hello\", \"World\", sep=\"-\", end=\"!\") # This will output: Hello-World!\n",
        "```\n",
        "\n",
        "\n"
      ]
    },
    {
      "cell_type": "markdown",
      "metadata": {
        "id": "qHd17_2U6x0W"
      },
      "source": [
        "- Use the `print` function to display the message \"Hello, Python learners!\" to the console.\n",
        "- Print the words \"Python\", \"is\", \"fun\" to the console, but use dashes (`-`) instead of spaces as separators between the words."
      ]
    },
    {
      "cell_type": "code",
      "execution_count": null,
      "metadata": {
        "id": "UX1lX1TJ6-Mj"
      },
      "outputs": [],
      "source": [
        "##Q0 Insert your code here\n",
        "print(\"Hello, Python learners!\")\n",
        "print(\"Python\", \"is\", \"fun\", sep=\"-\")"
      ]
    },
    {
      "cell_type": "markdown",
      "metadata": {
        "id": "0ZspWuL06Nk2"
      },
      "source": [
        "## 1 - Basic Variable Manipulation\n",
        "> Let's delve into variable creation in Python.\n",
        "\n",
        "> When creating a variable in Python, the computer allocates a spot in the RAM. This spot holds the value of the created variable.\n",
        "\n",
        "> To establish a connection between a variable's name and its content, we use the symbol '='. The syntax is as follows:\n",
        "`variable_name = variable_value`. Commonly, we say we are assigning the variable_value to our variable variable_name, but in reality, Python associates a reference, an address to our variable_value with our `variable_name`. Thus, when you copy a variable, you are only copying the reference to that variable, making the copy operation faster. We will explore this concept further below.\n",
        "\n",
        ">- Create a variable called `my_variable`.\n",
        "> - Assign it the value 2.\n"
      ]
    },
    {
      "cell_type": "code",
      "execution_count": null,
      "metadata": {
        "id": "JaAvfkbP6XWs"
      },
      "outputs": [],
      "source": [
        "## Q1: Insert your code here"
      ]
    },
    {
      "cell_type": "markdown",
      "metadata": {
        "id": "aYIJEiRp6lWQ"
      },
      "source": [
        ">- Create another variable called global.\n",
        ">- Assign it any value."
      ]
    },
    {
      "cell_type": "code",
      "execution_count": null,
      "metadata": {
        "id": "zYWn3GYR6pxT"
      },
      "outputs": [],
      "source": [
        "## Q2: Insert your code here"
      ]
    },
    {
      "cell_type": "markdown",
      "metadata": {
        "id": "yIZpzqRH6qfa"
      },
      "source": [
        "> Python returns an invalid syntax error. Indeed, there are **reserved words ** in Python, and **global** is one of them. Similarly, it's impossible to start a variable's name with a number.\n",
        "\n",
        "<a href=\"https://fr.wikibooks.org/wiki/Programmation_Python/Tableau_des_mots_r%C3%A9serv%C3%A9s\"> For more information on **reserved words** </a>\n",
        "\n",
        "> To display the value of a variable, there are several methods. Here are two:\n",
        "\n",
        "> 1. Simply type and enter the variable name at the keyboard.\n",
        "> 2. Use the print() function.\n",
        "> `print(X)` will output the value of the variable X.\n",
        "\n",
        "\n",
        ">- Create a variable called `number`.\n",
        ">- Assign it the value 3.0.\n",
        ">- Display the value on the screen using the first method.\n",
        "\n"
      ]
    },
    {
      "cell_type": "code",
      "execution_count": null,
      "metadata": {
        "id": "LyIc1amQ6__1"
      },
      "outputs": [],
      "source": [
        "## Q3: Insert your code here"
      ]
    },
    {
      "cell_type": "markdown",
      "metadata": {
        "id": "s746j5p5-D1V"
      },
      "source": [
        "> A variable is a piece of data stored by the computer in a specific location in the RAM. There are various types of variables in Python:\n",
        "<center>\n",
        "<table>\n",
        "  <tr>\n",
        "    <th>Type</th>\n",
        "    <th>Meaning</th>\n",
        "    <th>Example</th>\n",
        "  </tr>\n",
        "  <tr>\n",
        "    <td><i>int</i></td>\n",
        "    <td>Integer number</td>\n",
        "    <td>2</td>\n",
        "  </tr>\n",
        "  <tr>\n",
        "    <td><i>float</i></td>\n",
        "    <td>Floating-point number</td>\n",
        "    <td>3.0</td>\n",
        "  </tr>\n",
        "  <tr>\n",
        "    <td><i>complex</i></td>\n",
        "    <td>Complex number</td>\n",
        "    <td>2j</td>\n",
        "  </tr>\n",
        "  <tr>\n",
        "    <td><i>str</i></td>\n",
        "    <td>String</td>\n",
        "    <td>\"Dauphine\"</td>\n",
        "  </tr>\n",
        "  <tr>\n",
        "    <td><i>tuple</i></td>\n",
        "    <td>Fixed-length list</td>\n",
        "    <td>(1,2)</td>\n",
        "  </tr>\n",
        "  <tr>\n",
        "    <td><i>list</i></td>\n",
        "    <td>Variable-length list</td>\n",
        "    <td>[1,2]</td>\n",
        "  </tr>\n",
        "  <tr>\n",
        "    <td><i>dict</i></td>\n",
        "    <td>Dictionary</td>\n",
        "    <td>{0:'a',1:'b'}</td>\n",
        "  </tr>\n",
        "  <tr>\n",
        "    <td><i>bool</i></td>\n",
        "    <td>Boolean</td>\n",
        "    <td>True</td>\n",
        "  </tr>\n",
        "</table>\n",
        "</center>\n",
        "\n",
        "\n",
        "\n",
        "\n",
        "> To know the type of data in Python, use `type(X)` where `X` is the variable whose type you want to know.\n",
        "\n",
        "- Create four variables named `a`, `b`, `c`, and `d`.\n",
        "- Assign:\n",
        ">1. `a` the value 2\n",
        ">2. `b` the value 3.0\n",
        ">3. `c` the value \"Hello\"\n",
        ">4. `d` the value True"
      ]
    },
    {
      "cell_type": "code",
      "execution_count": null,
      "metadata": {
        "id": "4IspMYgV-H6r"
      },
      "outputs": [],
      "source": [
        "## Q4: Insert your code here"
      ]
    },
    {
      "cell_type": "markdown",
      "metadata": {
        "id": "YUXhNkwy_ZEo"
      },
      "source": [
        "> To better grasp the concept of references in Python, we suggest the following exercise:\n",
        "\n",
        "- Create a variable `a` and assign it a list [1,2].\n",
        "- Create another variable `b` and assign it the value of `a`.\n",
        "- Add the element 3 to b by writing `b.append(3)` where 3 is the element you want to add to the list `b`.\n",
        "- Display `a`. What do you notice?"
      ]
    },
    {
      "cell_type": "code",
      "execution_count": null,
      "metadata": {
        "id": "7qGlfNcU_m6D"
      },
      "outputs": [],
      "source": [
        "## Q5: Insert your code here"
      ]
    },
    {
      "cell_type": "markdown",
      "metadata": {
        "id": "6WQEbYkxAHXK"
      },
      "source": [
        "> In reality, the references of `a` and `b` are the same since `a` and `b` are what we call mutable objects. We haven't covered objects, but understand that in Python, everything you manipulate is an object.\n",
        "\n",
        "> There are thus two types of objects: mutable (lists, dictionaries) and immutable (strings, int, complex, floats, tuples). Mutable objects are those that can be altered after creation. On the contrary, when you \"modify\" an immutable object, Python creates a new memory address for this new object.\n",
        "\n",
        "> The following exercise illuminates this principle.\n",
        "- Create a variable `a` and assign it the value 1.\n",
        "- Create a variable `b` and assign it the value of `a`.\n",
        "- Increment b by 1.\n",
        "- Display `a`."
      ]
    },
    {
      "cell_type": "code",
      "execution_count": null,
      "metadata": {
        "id": "yEsKV7qcohb0"
      },
      "outputs": [],
      "source": [
        "## Q6: Insert your code here"
      ]
    },
    {
      "cell_type": "markdown",
      "metadata": {
        "id": "6ePW9sTLinW9"
      },
      "source": [
        "##  Lists in Python\n",
        "\n",
        "> Lists in Python are ordered collections of items which can be of any type. Lists are very flexible and can be modified after they have been created. A list is created by placing all the items (elements) inside square brackets `[]`, separated by commas.\n",
        "\n",
        "Here's a simple example:\n",
        "\n",
        "```\n",
        "my_list = [1, 2, 3, 4, 5]\n",
        "```\n",
        " **Accessing Elements**\n",
        "> Elements in a list can be accessed using an index, with the first element at index 0. For example:\n",
        "\n",
        "```\n",
        "first_element = my_list[0]  # This will be 1\n",
        "```\n",
        "\n",
        "**Modifying Lists**\n",
        "> Lists are mutable, meaning that you can change their content:\n",
        "```\n",
        "my_list[0] = 10  # Now, my_list is [10, 2, 3, 4, 5]\n",
        "```\n",
        "\n",
        "**Length of a List**\n",
        "\n",
        "> The length of a list can be obtained with the len() function:\n",
        "```\n",
        "list_length = len(my_list)  # This will be 5\n",
        "```\n",
        "\n",
        "**Adding Elements**\n",
        "> You can add elements to the end of a list using the append() method:\n",
        "```\n",
        "my_list.append(6)  # Now, my_list is [10, 2, 3, 4, 5, 6]\n",
        "```\n",
        "\n",
        "**Removing Elements**\n",
        "> You can remove elements from a list using the remove() method, or the pop() method which removes and returns the last item:\n",
        "\n",
        "```\n",
        "my_list.remove(2)  # Now, my_list is [10, 3, 4, 5, 6]\n",
        "last_item = my_list.pop()  # last_item is 6, my_list is [10, 3, 4, 5]\n",
        "```"
      ]
    },
    {
      "cell_type": "markdown",
      "metadata": {
        "id": "GORxJmQaol71"
      },
      "source": [
        "- Create a list named fruits containing the following items: apple, banana, cherry.\n",
        "- Print the second item in the fruits list.\n",
        "- Change the value of the second item of the fruits list to blackberry.\n",
        "- Add orange to the end of the fruits list.\n",
        "- Remove apple from the fruits list.\n"
      ]
    },
    {
      "cell_type": "code",
      "execution_count": null,
      "metadata": {
        "id": "l6Nm9l6LimvM"
      },
      "outputs": [],
      "source": [
        "## Q7: Insert your code here"
      ]
    },
    {
      "cell_type": "markdown",
      "metadata": {
        "id": "vpAh6NH0pe1Q"
      },
      "source": [
        "## 2- Dictionary in Python\n",
        "\n",
        "Dictionaries in Python are a collection of key-value pairs, where each key must be unique. They are mutable and unordered. Dictionaries are defined by enclosing a comma-separated sequence of key-value pairs in curly braces `{}`, with a colon `:` separating the keys and values.\n",
        "\n",
        "```\n",
        "my_dict = {\n",
        "    'key1': 'value1',\n",
        "    'key2': 'value2',\n",
        "    'key3': 'value3',\n",
        "}\n",
        "```\n",
        "\n",
        "**Accessing Elements**\n",
        "> To access the value associated with a particular key, you can use square brackets enclosing their key.\n",
        "```\n",
        "print(my_dict['key1'])  # Output: value1\n",
        "```\n",
        "\n",
        "**Adding and Updating Elements**\n",
        "\n",
        "> You can add new key-value pairs or update the value of an existing key.\n",
        "```\n",
        "my_dict['key4'] = 'value4'  # Adds a new key-value pair\n",
        "my_dict['key1'] = 'new_value1'  # Updates the value of an existing key\n",
        "```\n",
        "\n",
        "\n",
        "**Removing Elements**\n",
        "\n",
        "> You can remove a particular key-value pair with the pop method, or remove all entries with the clear method.\n",
        "```\n",
        "my_dict.pop('key2')  # Removes the key-value pair with key 'key2'\n",
        "my_dict.clear()  # Removes all key-value pairs\n",
        "```"
      ]
    },
    {
      "cell_type": "markdown",
      "metadata": {
        "id": "boy2mySJorex"
      },
      "source": [
        "- Create a dictionary student with keys 'name', 'age', and 'course', and assign some values to these keys.\n",
        "- Print the value associated with the key 'name'."
      ]
    },
    {
      "cell_type": "code",
      "execution_count": null,
      "metadata": {
        "id": "lkCh0UGnAfi7"
      },
      "outputs": [],
      "source": [
        "## Q8: Insert your code here"
      ]
    },
    {
      "cell_type": "markdown",
      "metadata": {
        "id": "s_y4mDP5q6Ne"
      },
      "source": [
        "- Update the age in the student dictionary to 26.\n",
        "- Add a new key-value pair 'grade' with a value 'A' to the student dictionary.\n",
        "- Print the updated dictionary.\n"
      ]
    },
    {
      "cell_type": "code",
      "execution_count": null,
      "metadata": {
        "id": "ZmMPEaKMrQTR"
      },
      "outputs": [],
      "source": [
        "## Q9: Insert your code here"
      ]
    },
    {
      "cell_type": "markdown",
      "metadata": {
        "id": "bMR7CQO5rQx_"
      },
      "source": [
        "- Remove the key-value pair 'course' from the student dictionary using the pop method.\n",
        "- Print the updated dictionary.\n"
      ]
    },
    {
      "cell_type": "code",
      "execution_count": null,
      "metadata": {
        "id": "BkN7X6VvrWLj"
      },
      "outputs": [],
      "source": [
        "## Q10: Insert your code here"
      ]
    },
    {
      "cell_type": "markdown",
      "metadata": {
        "id": "N5Vhg3lZCVMD"
      },
      "source": [
        "> Now we are going to look at the different operators in Python. The following table summarizes the different mathematical operators.\n",
        "\n",
        "<center>\n",
        "\n",
        "| Symbol | Effect                | Example         |\n",
        "|--------|-----------------------|-----------------|\n",
        "| +      | Addition              | 6 + 4 returns 10|\n",
        "| -      | Subtraction           | 6 - 4 returns 2  |\n",
        "| *      | Multiplication        | 6 * 4 returns 24 |\n",
        "| /      | Real Division         | 6 / 4 returns 1.5|\n",
        "| **     | Exponentiation        | 12 ** 2 returns 144 |\n",
        "| //     | Integer Division      | 6 // 4 returns 1 |\n",
        "| %      | Remainder of Division | 6 % 4 returns 2  |\n",
        "\n",
        "</center>\n",
        "\n",
        "- Define a variable `age`.\n",
        "- Assign the value 35 to `age`.\n",
        "- Display the number of days associated with the age using a mathematical operator."
      ]
    },
    {
      "cell_type": "code",
      "execution_count": null,
      "metadata": {
        "id": "NAQSg8iGCvGY"
      },
      "outputs": [],
      "source": [
        "## Q11: Insert your code here"
      ]
    },
    {
      "cell_type": "markdown",
      "metadata": {
        "id": "bk1T1xd6HoUi"
      },
      "source": [
        "- Define a new variable `day`.\n",
        "- Assign to day a number of days greater than 10,000.\n",
        "- Display the corresponding number of years using a mathematical operator. Assume that a year has 365 days."
      ]
    },
    {
      "cell_type": "code",
      "execution_count": null,
      "metadata": {
        "id": "Ap45rp5yHsgM"
      },
      "outputs": [],
      "source": [
        "## Q12: Insert your code here"
      ]
    },
    {
      "cell_type": "markdown",
      "metadata": {
        "id": "Zj_05JYoIkPH"
      },
      "source": [
        "- Create the variables `distance` and `time`.\n",
        "- Assign the value 15 to `distance`.\n",
        "- Assign the value 14.4 to `time`.\n",
        "- Create a new variable `speed` and assign it the corresponding speed based on the previous two variables.\n",
        "- Display the variable `speed`, using the formula $speed = \\frac{distance}{time} $\n"
      ]
    },
    {
      "cell_type": "code",
      "execution_count": null,
      "metadata": {
        "id": "qvHWSul4Ik4P"
      },
      "outputs": [],
      "source": [
        "## Q13: Insert your code here"
      ]
    },
    {
      "cell_type": "markdown",
      "metadata": {
        "id": "svglsuHqMJ70"
      },
      "source": [
        "There are two other types of operators in Python that return Boolean values (True or False): logical operators and comparison operators.   \n",
        "\n",
        "Here's a table summarizing the logical operators:\n",
        "<center>\n",
        "\n",
        "| Expression | Meaning |\n",
        "|------------|---------|\n",
        "| X or Y     | Logical OR. If either X or Y is True, the expression is True. If neither is True, the expression is False. |\n",
        "| X and Y    | Logical AND. If both X and Y are True, the expression is True. Otherwise, the expression is False. |\n",
        "| not X      | Logical NOT. Opposite of X. If X is True, it returns False. If X is False, it returns True. |\n",
        "\n",
        "</center>\n",
        "\n",
        "\n",
        "- Create two variables `x` and `y`.\n",
        "- Assign `True` to `x` and `False` to `y`.\n",
        "- Create a new variable `z_false`.\n",
        "- Using a logical operator with `x` and `y`, assign the value `False` to `z_false`.\n",
        "- Create a new variable `z_true`.\n",
        "- Using a logical operator with `x` and `y`, assign the value `True` to `z_true`.\n",
        "- Display `z_false`.\n",
        "- Display `z_true`."
      ]
    },
    {
      "cell_type": "code",
      "execution_count": null,
      "metadata": {
        "id": "kcu4mBFxM5nD"
      },
      "outputs": [],
      "source": [
        "## Q14: Insert your code here"
      ]
    },
    {
      "cell_type": "markdown",
      "metadata": {
        "id": "eh20CxaFNqVk"
      },
      "source": [
        "Now we turn our attention to the last type of operators: comparison operators.\n",
        "\n",
        "Below is a table summarizing the comparison operators:\n",
        "<center>\n",
        "\n",
        "| Expression | Meaning            |\n",
        "|------------|--------------------|\n",
        "| <          | Strictly less than |\n",
        "| >          | Strictly greater than |\n",
        "| <=         | Less than or equal to |\n",
        "| >=         | Greater than or equal to |\n",
        "| ==         | Equality            |\n",
        "| !=         | Inequality          |\n",
        "\n",
        "</center>\n",
        "\n",
        "- Create two variables `x` and `y`.\n",
        "- Assign a float `2.0` to `x` and an int `2` to `y`.\n",
        "- Return `True` in three different ways using only comparison operators."
      ]
    },
    {
      "cell_type": "code",
      "execution_count": null,
      "metadata": {
        "id": "Ew2LwExTNq0G"
      },
      "outputs": [],
      "source": [
        "## Q15: Insert your code here"
      ]
    },
    {
      "cell_type": "markdown",
      "metadata": {
        "id": "vzsBXRQpXZTY"
      },
      "source": [
        "> Conditionals are a fundamental concept in programming, allowing you to perform different actions based on certain conditions. In Python, the `if`, `elif` (else if), and `else` statements are used to control the flow of execution in a program based on the evaluation of specified conditions.\n",
        "\n",
        "\n",
        "\n",
        "\n",
        "\n",
        "```\n",
        "if condition:\n",
        "    # code to execute if condition is True\n",
        "elif another_condition:\n",
        "    # code to execute if another_condition is True\n",
        "else:\n",
        "    # code to execute if no conditions are True```\n",
        "\n",
        "```\n",
        "\n",
        "### `if` Statement\n",
        "\n",
        ">The `if` statement evaluates a condition and executes the indented block of code only if the condition is true.\n",
        "\n",
        "\n",
        "\n",
        "```\n",
        "x = 10\n",
        "if x > 5:\n",
        "    print(\"x is greater than 5\")\n",
        "```\n",
        "\n",
        "### `elif` Statement\n",
        "\n",
        "> The `elif` (else if) statement allows you to check multiple conditions, executing its block of code if its condition is true and all previous conditions have been false.\n",
        "\n",
        "\n",
        "\n",
        "```\n",
        "x = 10\n",
        "if x > 15:\n",
        "    print(\"x is greater than 15\")\n",
        "elif x > 5:\n",
        "    print(\"x is greater than 5 but not greater than 15\")\n",
        "```\n",
        "\n",
        "### `else` Statement\n",
        "\n",
        "The `else` statement executes its block of code if no previous conditions have been true.\n",
        "\n",
        "\n",
        "\n",
        "```\n",
        "x = 10\n",
        "if x > 15:\n",
        "    print(\"x is greater than 15\")\n",
        "else:\n",
        "    print(\"x is not greater than 15\")\n",
        "```\n",
        "\n",
        "\n",
        "\n"
      ]
    },
    {
      "cell_type": "markdown",
      "metadata": {
        "id": "f_B0HxaRZt6K"
      },
      "source": [
        "- You are given the age variable.\n",
        "- Write a sequence of instructions that prints whether the person is a minor (under 18), an adult (18 to 64), or a senior (65 or older)."
      ]
    },
    {
      "cell_type": "code",
      "execution_count": null,
      "metadata": {
        "id": "vm0llnwyaKhf"
      },
      "outputs": [],
      "source": [
        "## Q16: Insert your code here"
      ]
    },
    {
      "cell_type": "markdown",
      "metadata": {
        "id": "2hcF0xxzaK-D"
      },
      "source": [
        "- You are given the variable number.\n",
        "- Write a sequence of instruction that checks whether the number is positive, negative, or zero and prints the result."
      ]
    },
    {
      "cell_type": "code",
      "execution_count": null,
      "metadata": {
        "id": "U-jbrvQGaN62"
      },
      "outputs": [],
      "source": [
        "## Q17: Insert your code here"
      ]
    },
    {
      "cell_type": "markdown",
      "metadata": {
        "id": "1SSRwKI0OFNp"
      },
      "source": [
        "## To go further..\n",
        "### Exercise 1: Mathematical Operators\n",
        "- Define a variable `radius` with a value of `7`.\n",
        "- Calculate the area of a circle using the formula \\( Area = \\pi r^2 \\) (you can use `3.1415` for \\(\\pi\\)) and store the result in a variable called `area`.\n",
        "- Display the `area` variable.\n",
        "\n",
        "### Exercise 2: Logical Operators\n",
        "- Create two variables `p` and `q`.\n",
        "- Assign `True` to `p` and `False` to `q`.\n",
        "- Create a new variable `r` and use a logical operator to assign it a value of `True` based on the values of `p` and `q`.\n",
        "- Create a new variable `s` and use a different logical operator to assign it a value of `False` based on the values of `p` and `q`.\n",
        "- Display `r` and `s`.\n",
        "\n",
        "### Exercise 3: Comparison Operators\n",
        "- Create two variables `a` with a value of `10` and `b` with a value of `20`.\n",
        "- Return `True` in three different ways using only comparison operators.\n",
        "\n",
        "### Exercise 4: Variable Types and Casting\n",
        "- Define four variables `m`, `n`, `o`, and `p`.\n",
        "- Assign the following values to them: `5`, `5.0`, `\"5\"`, and `True`, respectively.\n",
        "- Display the type of each variable using the `type()` function.\n",
        "- Cast variable `n` to integer, `o` to float, and `p` to string, and display the updated variable types.\n",
        "\n",
        "\n",
        "### Exercise 5: Understanding References in Python\n",
        "Understanding how references work in Python is crucial, especially when dealing with mutable and immutable objects. In this exercise, you will explore this concept through a practical example:\n",
        "\n",
        "- Create a variable `str_1` and assign the string value `\"hello\"` to it.\n",
        "- Now create another variable `str_2` and assign `str_1` to it.\n",
        "- Modify `str_2` by concatenating the string `\" world\"` to it (i.e., `str_2 = str_2 + \" world\"`).\n",
        "- Display both `str_1` and `str_2`.\n",
        "- Now create a variable `list_1` and assign a list containing two string elements: `[\"hello\", \"world\"]` to it.\n",
        "- Create another variable `list_2` and assign `list_1` to it.\n",
        "- Modify `list_2` by appending another string `\"!\"` to it (i.e., `list_2.append(\"!\")`).\n",
        "- Display both `list_1` and `list_2`."
      ]
    },
    {
      "cell_type": "markdown",
      "metadata": {
        "id": "-fIzE1iIRH-W"
      },
      "source": [
        "## 3- Loops and Function in Python\n",
        "\n",
        "### Introduction to Loops in Python\n",
        "\n",
        "Loops in programming allow for the repetition of a block of code as long as a specified condition is met. They are essential for performing repetitive tasks with minimal code. Python provides two main types of loops: `for` loops and `while` loops.\n",
        "\n",
        "#### For Loops\n",
        "A `for` loop in Python is used to iterate over a sequence (such as a list, tuple, or string) or other iterable objects.\n",
        "\n",
        "\n",
        "### Example of a for loop\n",
        "```\n",
        "for i in range(5):\n",
        "    print(i)\n",
        "```\n",
        "\n",
        "#### While Loops\n",
        "A `while` loop in Python is used to repeatedly execute a block of code as long as a condition is true.\n",
        "\n",
        "```\n",
        "# Example of a while loop\n",
        "count = 0\n",
        "while count < 5:\n",
        "    print(count)\n",
        "    count += 1\n",
        "```\n",
        "\n",
        "\n",
        "#### Loop Control Statements\n",
        "Loop control statements change the execution of a loop from its normal sequence. Python supports the following control statements:\n",
        "\n",
        "break: Terminates the loop and transfers execution to the statement immediately following the loop.\n",
        "continue: Causes the loop to skip the rest of its body and immediately retest its condition prior to reiterating.\n",
        "\n",
        "\n",
        "```\n",
        "# Example using break and continue\n",
        "for num in range(10):\n",
        "    if num == 5:\n",
        "        break  # Exit loop when num is 5\n",
        "    elif num == 3:\n",
        "        continue  # Skip iteration when num is 3\n",
        "    print(num)\n",
        "```\n",
        "\n",
        "\n",
        "\n",
        "\n",
        "\n",
        "\n"
      ]
    },
    {
      "cell_type": "markdown",
      "metadata": {
        "id": "maTmd3QwTEMS"
      },
      "source": [
        "To recall, **a block in Python is defined by a certain level of indentation** (and begins after a line ending with \"**`:`**\").\n",
        "\n",
        "The expression represented by `condition` is _evaluated_ as a **boolean** variable (for example, if `condition` is a string, the test is evaluated as `True` if and only if the string is non-empty).\n",
        "\n",
        ">- Using your knowledge of the `print` function, define a `while` loop to display the multiplication table of the number 2 (factors 1 to 10):"
      ]
    },
    {
      "cell_type": "code",
      "execution_count": null,
      "metadata": {
        "id": "EkKwnJR3TFW7"
      },
      "outputs": [],
      "source": [
        "## Q18: Insert your code here"
      ]
    },
    {
      "cell_type": "markdown",
      "metadata": {
        "id": "XULCUswJTSpy"
      },
      "source": [
        ">- As previously, display the multiplication table of 2, this time using a **`for`** loop.\n",
        "\n",
        "\n",
        "\n"
      ]
    },
    {
      "cell_type": "code",
      "execution_count": null,
      "metadata": {
        "id": "uYT-lDclTWlV"
      },
      "outputs": [],
      "source": [
        "## Q19: Insert your code here"
      ]
    },
    {
      "cell_type": "markdown",
      "metadata": {
        "id": "juNJqDHWUj0x"
      },
      "source": [
        "### Function in python\n",
        "\n",
        "Now that the loop structure has been introduced, we will present more advanced use cases.\n",
        "\n",
        "The example of the multiplication table may seem a bit simplistic to you. To make it more general, we will define a **function** that displays this multiplication table for any number (we keep the same factors from 1 to 10 for now).\n",
        "\n",
        "We remind you that the definition of a function in Python is done as follows:\n",
        "\n",
        "```\n",
        "def my_function(arg_1, arg_2):\n",
        "    instruction_1\n",
        "    ...\n",
        "    instruction_N\n",
        "    return something # if needed\n",
        "```\n",
        "\n",
        "- Define a function, called `simple_multiplication`, that takes a number n as an argument and displays the multiplication table as in previous questions:\n",
        "\n"
      ]
    },
    {
      "cell_type": "code",
      "execution_count": null,
      "metadata": {
        "id": "Fo3g_l50U3_e"
      },
      "outputs": [],
      "source": [
        "## Q20: Insert your code here"
      ]
    },
    {
      "cell_type": "markdown",
      "metadata": {
        "id": "HdhfU7AYT4Ic"
      },
      "source": [
        "## To go further..\n",
        "### Exercise 1: Sum of Natural Numbers\n",
        "- Write a Python program to find the sum of all natural numbers between 1 and a given number `n` using a `for` loop.\n",
        "\n",
        "### Exercise 2: Factorial Calculation\n",
        "- Write a Python program to calculate the factorial of a given number `n` using a `for` loop.\n",
        "\n",
        "### Exercise 3: Table of Squares\n",
        "- Write a Python program that displays the table of squares from 1 to a given number `n` using a `for` loop. Each line should be formatted as \"`i` squared is `i*i`\".\n",
        "\n",
        "### Exercise 4: Counting the Occurrences\n",
        "- Write a Python program to count the occurrences of a specific character in a given string using a `for` loop.\n",
        "\n",
        "### Exercise 5: Accumulating the Elements of a List\n",
        "- Write a Python program to find the cumulative sum of a list using a `for` loop.\n",
        "\n",
        "### Exercise 6: Reversing a List\n",
        "- Write a Python program to reverse the order of the elements in a list using a `for` loop.\n",
        "\n",
        "### Exercise 7: Odd-Even Count\n",
        "- Write a Python program to count the number of even and odd numbers from a series of numbers using a `for` loop.\n"
      ]
    },
    {
      "cell_type": "markdown",
      "source": [
        "#2. Understanding Numpy"
      ],
      "metadata": {
        "id": "VSFe7yx7L64P"
      }
    },
    {
      "cell_type": "markdown",
      "metadata": {
        "id": "wAriYIftuAcc"
      },
      "source": [
        "\n",
        "## Context and Objective\n",
        "\n",
        "Python is an almost indispensable programming language in the world of Quantitative finance. It's simple, open source, and increasingly popular.  \n",
        "In this exercise, you will learn to use the NumPy module. NumPy is a Python package specialized in the manipulation of arrays.  \n",
        "This exercise will only focus on one-dimensional arrays (vectors) and two-dimensional arrays (matrices).\n",
        "\n",
        "[For more information on NumPy](http://www.numpy.org/)\n",
        "\n",
        "## Prerequisite Skills\n",
        "\n",
        "- Basic programming concepts\n",
        "- Lists\n",
        "- Basic linear algebra concepts\n",
        "\n",
        "## Instructions\n",
        "\n",
        "The exercise is composed of several questions; please answer them in order.\n",
        "\n",
        "To begin, you need to import the `numpy` module using the alias `np`. Execute the following preamble cell:\n",
        "\n"
      ]
    },
    {
      "cell_type": "code",
      "execution_count": null,
      "metadata": {
        "id": "FhkVIupot_Ms"
      },
      "outputs": [],
      "source": [
        "import numpy as np"
      ]
    },
    {
      "cell_type": "markdown",
      "metadata": {
        "id": "cCWtCwZRuaH-"
      },
      "source": [
        "In Python, an array is an ordered collection of values, which can be of any type, not **only numbers**.\n",
        "\n",
        "The `array()` method allows you to define a **one-dimensional array** from a list. Given `X` as a list of values, you can use the command `np.array(X)` to transform the list into a one-dimensional array.\n",
        "\n",
        "* Create an array from the list `[1,1,1,1]`"
      ]
    },
    {
      "cell_type": "code",
      "execution_count": null,
      "metadata": {
        "id": "5HvkPTe2uIz0"
      },
      "outputs": [],
      "source": [
        "## Q21: Insert your code here\n"
      ]
    },
    {
      "cell_type": "markdown",
      "metadata": {
        "id": "oI0_wcMeucbH"
      },
      "source": [
        "There are commands to inquire about the variables we are manipulating. Here's a table summarizing these commands:\n",
        "\n",
        "| Command    | Effect                                         | Example                     |\n",
        "|------------|------------------------------------------------|-----------------------------|\n",
        "| type(X)    | Returns the type of the variable X            | type(2) returns `<class 'int'>`      |\n",
        "| np.shape(X)| Returns the dimension of the variable X       | np.shape([1,2]) returns (2,) |\n",
        "\n",
        "By default, Numpy creates one-dimensional arrays from lists. If you want a different dimension, you should specify it using the command `np.reshape(X, new_shape)` where `X` is the array whose dimensions you want to change.\n",
        "\n",
        "* Create a variable *a* and assign to it an array with the list [1,2,3,4,5]\n",
        "* Verify that its dimension is indeed (5,)"
      ]
    },
    {
      "cell_type": "code",
      "execution_count": null,
      "metadata": {
        "id": "e9tap3Ocupx3"
      },
      "outputs": [],
      "source": [
        "## Q22: Insert your code here\n",
        "\n"
      ]
    },
    {
      "cell_type": "markdown",
      "metadata": {
        "id": "8mLHt8rMuqdB"
      },
      "source": [
        "Now that we've seen how to get information about arrays, we'd like to create some. There are various commands to generate one-dimensional arrays. Here's a table summarizing them:\n",
        "\n",
        "| Command               | Meaning                                                        | Example                                    |\n",
        "|-----------------------|----------------------------------------------------------------|--------------------------------------------|\n",
        "| np.ones(n)            | Returns an array of dimension (n,) of 1s                        | np.ones(5) returns array([1, 1, 1, 1, 1])  |\n",
        "| np.zeros(n)           | Returns an array of dimension (n,) of 0s                        | np.zeros(5) returns array([0, 0, 0, 0, 0]) |\n",
        "| np.arange(n)          | Returns an array of dim(n,) of ordered numbers from 0 to n-1    | np.arange(5) returns array([0, 1, 2, 3, 4])|\n",
        "| np.linspace(a,b,n)    | Returns an array of dim(n,) of n numbers evenly spaced between a and b | np.linspace(0,5,5) returns array([0, 1.25, 2.5, 3.75, 5.0])|\n",
        "| np.linspace(a,b)      | Returns an array of dim(50,) of 50 numbers evenly spaced between a and b |                                            |\n",
        "| np.concatenate((X,Y)) | Returns an array of dim(dimX+dimY,) resulting from the assembly of X and Y | np.concatenate((array([1]),array([0]))) returns array([1,0])|\n",
        "\n",
        "- Create 3 variables a, b, c\n",
        "- Assign to a an array with 5 zeros\n",
        "- Assign to b an array with 5 ones\n",
        "- Assign to c an array of size 10 containing 5 zeros followed by 5 ones, arranged judiciously.\n"
      ]
    },
    {
      "cell_type": "code",
      "execution_count": null,
      "metadata": {
        "id": "LKjtoLTSvDN8"
      },
      "outputs": [],
      "source": [
        "## Q23: Insert your code here"
      ]
    },
    {
      "cell_type": "markdown",
      "metadata": {
        "id": "5ph-wtdfvP4W"
      },
      "source": [
        "- Generate two arrays of ordered numbers from 0 to 10 (thus of size 11) using different commands.\n",
        "- Display them."
      ]
    },
    {
      "cell_type": "code",
      "execution_count": null,
      "metadata": {
        "id": "0xZnIuCFvQLx"
      },
      "outputs": [],
      "source": [
        "## Q24: Insert your code here"
      ]
    },
    {
      "cell_type": "markdown",
      "metadata": {
        "id": "lK7yW4_XvRpX"
      },
      "source": [
        "- Create a list `c` with numbers ranging from 0 to 10 **A list, not an array**. Use the following syntax: `list(range())`.\n",
        "- Add 5 to all the terms in `c`. *You may need to change the type of c*.\n",
        "- Display `c`.\n"
      ]
    },
    {
      "cell_type": "code",
      "execution_count": null,
      "metadata": {
        "id": "DaOh7T6cvcSl"
      },
      "outputs": [],
      "source": [
        "## Q25: Insert your code here"
      ]
    },
    {
      "cell_type": "markdown",
      "metadata": {
        "id": "ykfObg7bvdHc"
      },
      "source": [
        "We can perform similar operations with matrices, which are 2-dimensional arrays.\n",
        "\n",
        "Thus, `np.ones((n, p))` returns an `NxP` matrix filled with ones, `np.zeros((n, p))` returns an `NxP` matrix filled with zeros.\n",
        "\n",
        "`np.diag(v)` returns a matrix whose diagonal consists of the vector v. Moreover, `np.diag(v, k)` returns a matrix where the k-th diagonal consists of the vector v. k can be positive or negative; if k is positive, the shift is to the \"right,\" otherwise to the left.\n",
        "\n",
        "- Create a matrix *mat* of size 5x5 with 1s on the diagonal.\n",
        "- Display it."
      ]
    },
    {
      "cell_type": "code",
      "execution_count": null,
      "metadata": {
        "id": "3c0YqbgbvwcP"
      },
      "outputs": [],
      "source": [
        "## Q26: Insert your code here\n"
      ]
    },
    {
      "cell_type": "markdown",
      "metadata": {
        "id": "SD0F7LOSv5GH"
      },
      "source": [
        "We can use mathematical operators **+**, **-**, on arrays provided that the mathematical operation makes sense.\n",
        "\n",
        "**Caution: If you use the operators '\\*' or '/' you will only perform a term-by-term operation**\n",
        "- Create a 6x6 matrix with 1s on the diagonal and on the sub-diagonal using a mathematical operator.\n",
        "- Display it.\n",
        "\n"
      ]
    },
    {
      "cell_type": "code",
      "execution_count": null,
      "metadata": {
        "id": "f3sQ2gCev5bB"
      },
      "outputs": [],
      "source": [
        "## Q27: Insert your code here\n"
      ]
    },
    {
      "cell_type": "markdown",
      "metadata": {
        "id": "uZa1ER-mwIFN"
      },
      "source": [
        "Accessing specific elements of an array is done similarly to lists. If the array is two-dimensional, two parameters are needed.\n",
        "\n",
        "*For example*: let X be a two-dimensional array, `X[0, 0]` returns the element located at row 1, column 1. `X[:, 0]` returns the first column. `X[0:3, 0]` returns the first three rows of the first column. This method is referred to as *slicing* in programming.\n",
        "\n",
        "- Create this matrix using `np.ones()`, `np.diag()` and slicing:\n",
        "$$\n",
        "\\begin{pmatrix}\n",
        "5 & 0 & 0 & 0 \\\\\n",
        "5 & 1 & 0 & 0 \\\\\n",
        "4 & 4 & 4 & 4 \\\\\n",
        "5 & 0 & 0 & 1\n",
        "\\end{pmatrix}\n",
        "$$"
      ]
    },
    {
      "cell_type": "code",
      "execution_count": null,
      "metadata": {
        "id": "ax8kpF2uwIcL"
      },
      "outputs": [],
      "source": [
        "## Q28: Insert your code here"
      ]
    },
    {
      "cell_type": "markdown",
      "metadata": {
        "id": "plIvwEMSwX5f"
      },
      "source": [
        "With the Numpy module, you can create random numbers uniformly distributed between 0 and 1. The syntax is as follows: `np.random.rand()` to return a single draw, `np.random.rand(n)` to return a row array of n draws, and `np.random.rand(n, p)` to return an NxP matrix of uniformly distributed random draws.\n",
        "\n",
        "- Display a random number distributed between 0 and 1\n"
      ]
    },
    {
      "cell_type": "code",
      "execution_count": null,
      "metadata": {
        "id": "y5GdVrK4wYRK"
      },
      "outputs": [],
      "source": [
        "## Q29: Insert your code here"
      ]
    },
    {
      "cell_type": "markdown",
      "metadata": {
        "id": "VCOAFkRdwhc7"
      },
      "source": [
        "- Display a 5x5 matrix of random numbers distributed between 0 and 1"
      ]
    },
    {
      "cell_type": "code",
      "execution_count": null,
      "metadata": {
        "id": "Xc4a4v_6wjMQ"
      },
      "outputs": [],
      "source": [
        "## Q30: Insert your code here"
      ]
    },
    {
      "cell_type": "markdown",
      "metadata": {
        "id": "a9QT6fSBwwO_"
      },
      "source": [
        "- Write a function `random_number()` that takes two integer parameters and returns a random number uniformly distributed between the two integers.\n",
        "- Call the function `random_number(10, 15)`\n",
        "\n",
        "*Note: If $X \\sim U[0,1]$, then $Y := (b-a)X + a \\sim U[a,b]$*\n",
        "\n"
      ]
    },
    {
      "cell_type": "code",
      "execution_count": null,
      "metadata": {
        "id": "rh8NDNuVww7T"
      },
      "outputs": [],
      "source": [
        "## Q31: Insert your code here"
      ]
    },
    {
      "cell_type": "markdown",
      "metadata": {
        "id": "rlN_d71TxBUk"
      },
      "source": [
        "- Write a function `random_matrix()` that takes an integer parameter N and returns a NxN matrix with 1s everywhere except on the diagonal where there are numbers uniformly distributed between 0 and 1.\n",
        "- Test for N=3 and N=5\n",
        "\n",
        "> Example: `random_matrix(3)` should return a matrix similar to\n",
        "$$\n",
        "\\begin{pmatrix}\n",
        "0.62678954 & 1 & 1 \\\\\n",
        "1 & 0.94077299 & 1 \\\\\n",
        "1 & 1 & 0.29263003 \\\\\n",
        "\\end{pmatrix}\n",
        "$$"
      ]
    },
    {
      "cell_type": "code",
      "execution_count": null,
      "metadata": {
        "id": "MrT8b64qxBnW"
      },
      "outputs": [],
      "source": [
        "## Q32: Insert your code here"
      ]
    },
    {
      "cell_type": "markdown",
      "metadata": {
        "id": "cO7U9vCJxVPm"
      },
      "source": [
        "- In NumPy, operations can be performed between arrays and scalars.\n",
        "> Example:\n",
        "```\n",
        "a = np.array([1, 2, 3])\n",
        "a * 4 returns array([4, 8, 12])\n",
        "a + 2 returns array([3, 4, 5])\n",
        "```\n",
        "\n",
        "- Create a matrix mat_one of size 5x5 with fives on the diagonal\n",
        "- Create two matrices mat_two and mat_two_bis of size 5x5 with twos everywhere, in two different ways\n",
        "- Display the matrices"
      ]
    },
    {
      "cell_type": "code",
      "execution_count": null,
      "metadata": {
        "id": "grSn88lWxprc"
      },
      "outputs": [],
      "source": [
        "## Q33: Insert your code here"
      ]
    },
    {
      "cell_type": "markdown",
      "metadata": {
        "id": "DFBP4YlVxp4u"
      },
      "source": [
        "In NumPy, operations between arrays are performed element-wise by default.\n",
        "\n",
        "> Example:\n",
        "```\n",
        "a = np.array([1, 2, 3])\n",
        "b = np.array([4, 5, 6])\n",
        "a * b returns array([4, 10, 18])\n",
        "```\n",
        "\n",
        "To perform matrix multiplication in the mathematical sense, the following syntax is used: np.dot(X,Y)\n",
        "\n",
        "If the dimensions are incompatible, errors are triggered.\n",
        "\n",
        "\n",
        "\n",
        "- Create a matrix `mat_one` of size 5x5 with random numbers.\n",
        "- Create a matrix `mat_two` of size 5x5 with ones everywhere.\n",
        "- Create a matrix `mat_three` and assign to it the element-wise product between `mat_one` and `mat_two`\n",
        "- Create a matrix mat_four and assign to it the matrix product between `mat_one` and `mat_two`\n",
        "- Display `mat_three` and `mat_four`"
      ]
    },
    {
      "cell_type": "code",
      "execution_count": null,
      "metadata": {
        "id": "KVPRPiaNyEJf"
      },
      "outputs": [],
      "source": [
        "## Q34: Insert your code here"
      ]
    },
    {
      "cell_type": "markdown",
      "metadata": {
        "id": "IO3vv39XyEe1"
      },
      "source": [
        "\n",
        "- Create a matrix `a` with dimensions 5x2 with arbitrary values\n",
        "- Create another matrix `b` with dimensions 2x5 with arbitrary values\n",
        "- Return the meaningful product of the two matrices here\n",
        "\n"
      ]
    },
    {
      "cell_type": "code",
      "execution_count": null,
      "metadata": {
        "id": "LFlSHwHuyNXF"
      },
      "outputs": [],
      "source": [
        "## Q35: Insert your code here"
      ]
    },
    {
      "cell_type": "markdown",
      "metadata": {
        "id": "j7LF_8uryNof"
      },
      "source": [
        "The use of logical operators is possible via NumPy.\n",
        "\n",
        "- Create two matrices *mat_one* and *mat_two* of size 5x5 with random values.\n",
        "- Using the operator `*` and the logical operator '`==`', return a 5x5 matrix of True.\n",
        "- Using matrix multiplication and the logical operator '`==`', return a 5x5 matrix of False.\n"
      ]
    },
    {
      "cell_type": "code",
      "execution_count": null,
      "metadata": {
        "id": "dCDkfbx5yafK"
      },
      "outputs": [],
      "source": [
        "## Q36: Insert your code here"
      ]
    },
    {
      "cell_type": "markdown",
      "metadata": {
        "id": "n9L03pA6yawX"
      },
      "source": [
        "Lastly, it is possible to analyze data with NumPy. Here are some functions summarized:\n",
        "\n",
        "| Command   | Meaning                 |\n",
        "|-----------|-------------------------|\n",
        "| np.mean(X) | returns the mean of X   |\n",
        "| np.var(X)  | returns the variance of X|\n",
        "| np.std(X)  | returns the standard deviation of X |\n",
        "| X.sum()  | sums the elements of X   |\n",
        "| X.prod() | multiplies the elements of X |\n",
        "| X.min()  | returns the minimum of X |\n",
        "| X.max()  | returns the maximum of X |\n",
        "\n",
        "Furthermore, when working with matrices, it's possible to specify a second argument or a parameter to clarify where we are working. For example:\n",
        "\n",
        "```\n",
        "mat = np.random.rand(5, 5)\n",
        "np.mean(mat, axis = 0)  ## returns the mean of the rows\n",
        "np.mean(mat, axis = 1) ## returns the mean of the columns\n",
        "mat.sum(axis = 0) ## returns the sum of the rows\n",
        "```\n",
        "- Verify that the mean of a uniformly distributed law on [0,1] is close to 0.5 for a large number of draws.\n",
        "\n",
        "**Note:**\n",
        "\n",
        "*As the number of draws increases, the mean value of the uniformly distributed random values should converge to 0.5 according to the Law of Large Numbers.*"
      ]
    },
    {
      "cell_type": "code",
      "execution_count": null,
      "metadata": {
        "id": "6-bGhu1qy4hT"
      },
      "outputs": [],
      "source": [
        "## Q37: Insert your code here"
      ]
    },
    {
      "cell_type": "markdown",
      "metadata": {
        "id": "aOl281MZy43-"
      },
      "source": [
        "- Calculate this product using only Numpy methods, display the result\n",
        "\n",
        "$$\n",
        "\\frac{\\pi}2=\\prod_{n=1}^{\\infty}\\frac{4n^2}{4n^2-1}\n",
        "$$\n",
        "\n",
        "- Compare using `np.math.pi`\n",
        "\n",
        "---"
      ]
    },
    {
      "cell_type": "code",
      "execution_count": null,
      "metadata": {
        "id": "U2CKFcRtzzOs"
      },
      "outputs": [],
      "source": [
        "## Q38: Insert your code here\n"
      ]
    },
    {
      "cell_type": "markdown",
      "metadata": {
        "id": "795txQ200QNb"
      },
      "source": [
        "## To go further..\n",
        "\n",
        "**Exercise 1:**\n",
        "- Create an array of 10 zeros.\n",
        "- Create an array of 10 ones.\n",
        "- Create an array of 10 fives.\n",
        "- Create an array of the integers from 10 to 50.\n",
        "\n",
        "**Exercise 2:**\n",
        "- Create an array of all even integers from 10 to 50.\n",
        "- Create a 3x3 matrix with values ranging from 0 to 8.\n",
        "- Create a 3x3 identity matrix.\n",
        "- Use indexing to replace the top row of the matrix from Exercise 2 with 9s.\n",
        "\n",
        "**Exercise 3**\n",
        "- Generate a random array of size 25. Find its mean.\n",
        "- Generate a random matrix of size 5x5. Find the sum of all the elements, the sum of the columns, and the sum of the rows.\n",
        "\n",
        "**Exercise 4**\n",
        "- Multiply a 5x3 matrix by a 3x2 matrix using matrix multiplication.\n",
        "- Multiply a 5x5 matrix by a 5x1 vector.\n",
        "\n",
        "**Exercise 5**\n",
        "- Create an array of 10 random numbers. Replace all the values less than 0.5 with 0."
      ]
    },
    {
      "cell_type": "markdown",
      "metadata": {
        "id": "IsS6rFVOzzxT"
      },
      "source": [
        "#3. Exploring Pandas"
      ]
    },
    {
      "cell_type": "markdown",
      "metadata": {
        "id": "8Gegjmsz2u0D"
      },
      "source": [
        "In this exercise, you will learn to use the pandas module. Pandas is a Python package specialized in data manipulation.\n",
        "\n",
        "[For more information on pandas click here](http://pandas.pydata.org/)\n",
        "\n",
        "#### Required Skills\n",
        "\n",
        "- Basic programming knowledge\n",
        "- Lists\n",
        "- Linear algebra concepts\n",
        "- Introduction to NumPy\n",
        "\n",
        "#### Instructions\n",
        "\n",
        "The exercise consists of several questions, complete them in order.\n",
        "\n",
        "To begin, you need to import the `pandas` module under the abbreviated name `pd`. Therefore, execute this preamble cell. NumPy will also be used in this exercise.\n",
        "\n"
      ]
    },
    {
      "cell_type": "code",
      "execution_count": null,
      "metadata": {
        "id": "IRfUcyiQ2vd-"
      },
      "outputs": [],
      "source": [
        "# Importing necessary libraries\n",
        "import pandas as pd\n",
        "import numpy as np"
      ]
    },
    {
      "cell_type": "markdown",
      "metadata": {
        "id": "zUAalo7kdFK-"
      },
      "source": [
        "> A Series is a one-dimensional array with labels, that can hold any data type. The labels are referred to as the index. Its syntax is as follows: pd.Series(X) where X is a list or an array.\n",
        "- Create a Series of 5 data points from a random list of numbers distributed between 0 and 1."
      ]
    },
    {
      "cell_type": "code",
      "execution_count": null,
      "metadata": {
        "id": "y4ZXi1QTdJb8"
      },
      "outputs": [],
      "source": [
        "## Q39: Insert your code here"
      ]
    },
    {
      "cell_type": "markdown",
      "metadata": {
        "id": "xy-8Ur3OdK1R"
      },
      "source": [
        "> It is possible to specify the indices using the following syntax: pd.Series(X, index = Y) where X is the data list and Y is a list of associated indices.\n",
        "- Create a Series of 4 data points, each with a value of 1, and specify the following list of indices: ['a', 'b', 'c', 'd']."
      ]
    },
    {
      "cell_type": "code",
      "execution_count": null,
      "metadata": {
        "id": "W4WBtDWkdaqz"
      },
      "outputs": [],
      "source": [
        "## Q40: Insert your code here"
      ]
    },
    {
      "cell_type": "markdown",
      "metadata": {
        "id": "tgZswceydg9c"
      },
      "source": [
        "> By using indices, you can access the data in the Series in the same way you access elements in a list.\n",
        "\n",
        "Slicing is also possible.\n",
        "- Create a variable named series_one and assign it a Series created from a list of 4 random numbers distributed between 0 and 1.\n",
        "- Use the list of indices from the previous question: ['a', 'b', 'c', 'd'].\n",
        "- Retrieve the first element of series_one using the corresponding index."
      ]
    },
    {
      "cell_type": "code",
      "execution_count": null,
      "metadata": {
        "id": "a9NJrEaNduhb"
      },
      "outputs": [],
      "source": [
        "## Q41: Insert your code here"
      ]
    },
    {
      "cell_type": "markdown",
      "metadata": {
        "id": "tUWqNk_kd3jl"
      },
      "source": [
        "- Change the fourth data point of `series_un` to 0.\n",
        "- Display `series_un`."
      ]
    },
    {
      "cell_type": "code",
      "execution_count": null,
      "metadata": {
        "id": "bqOanfROd7tr"
      },
      "outputs": [],
      "source": [
        "## Q42: Insert your code here"
      ]
    },
    {
      "cell_type": "markdown",
      "metadata": {
        "id": "FTcTc90Cd8cV"
      },
      "source": [
        "Python consistently returns a `dtype: float64` when calling the Series. This represents the data type, in this case floats, and their encoding, here on 64 bits. You can specify the data type you want to handle when creating a Series.\n",
        "\n",
        "Furthermore, you can name the Series using the `name` parameter.\n",
        "\n",
        "- Create a variable `series_two` from an array of four ones.\n",
        "- Specify the data type `dtype` as `int`.\n",
        "- Name this Series `my_series`.\n",
        "- Display the Series."
      ]
    },
    {
      "cell_type": "code",
      "execution_count": null,
      "metadata": {
        "id": "rfY959wGeGr7"
      },
      "outputs": [],
      "source": [
        "## Q43: Insert your code here"
      ]
    },
    {
      "cell_type": "markdown",
      "metadata": {
        "id": "PNKXCGTceL0e"
      },
      "source": [
        "The `describe()` function returns a variety of information about the Series it is applied to.\n",
        "\n",
        "- Create a variable `series_three` from an array of 20 random numbers uniformly distributed between 0 and 1.\n",
        "- Display information about the Series using `describe()`.\n"
      ]
    },
    {
      "cell_type": "code",
      "execution_count": null,
      "metadata": {
        "id": "yzfxfUh9eOIU"
      },
      "outputs": [],
      "source": [
        "## Q44: Insert your code here"
      ]
    },
    {
      "cell_type": "markdown",
      "metadata": {
        "id": "QtzE8a1SePyL"
      },
      "source": [
        "It's possible to add Series together. Pandas will sum the data with matching *indices*. If an *index* is missing in one of the Series, the resulting sum Series will display `NaN` (Not a Number) at that index.\n",
        "\n",
        "- Create a Series `series_four` from an array of 19 random numbers uniformly distributed between 0 and 1.\n",
        "- Sum `series_three` and `series_four`."
      ]
    },
    {
      "cell_type": "code",
      "execution_count": null,
      "metadata": {
        "id": "Ov2FCuNWeYCV"
      },
      "outputs": [],
      "source": [
        "## Q45: Insert your code here"
      ]
    },
    {
      "cell_type": "markdown",
      "metadata": {
        "id": "mNJ2fZ44eYd4"
      },
      "source": [
        "However, you can specify a particular value to use where the *indices* do not match during a summation. The following syntax is used:\n",
        "```\n",
        "## Assume a and b are two Series\n",
        "a.add(b, fill_value = 0)  ## we decide to replace with 0\n",
        "```\n",
        "\n",
        "- Sum `series_three` and `series_four` by specifying fill_value equal to 100."
      ]
    },
    {
      "cell_type": "code",
      "execution_count": null,
      "metadata": {
        "id": "9baF86eeefac"
      },
      "outputs": [],
      "source": [
        "## Q46: Insert your code here"
      ]
    },
    {
      "cell_type": "markdown",
      "metadata": {
        "id": "GwdPFtD0egED"
      },
      "source": [
        "Lastly, it's possible to use mathematical operators on Series. The following syntax is used:\n",
        "```\n",
        "# Assume a is a Series\n",
        "a[a >= 0.5]  ## returns the data from a greater than 0.5\n",
        "a * 2  ## multiplies the data from a by two\n",
        "```\n",
        "\n",
        "- Create a variable `a`, and assign it a Series of integer numbers uniformly distributed between 1 and 20, with a size of 20.\n",
        "- Display the Series with data strictly greater than 10."
      ]
    },
    {
      "cell_type": "code",
      "execution_count": null,
      "metadata": {
        "id": "2AngWsJteoSc"
      },
      "outputs": [],
      "source": [
        "## Q47: Insert your code here"
      ]
    },
    {
      "cell_type": "markdown",
      "metadata": {
        "id": "WgRFU_qmeo7h"
      },
      "source": [
        "To conclude on the manipulation of Series, we propose the following instructions:\n",
        "\n",
        "- Create an *index* of size 20 that includes \"boy\" or \"girl\" randomly distributed.\n",
        "- Create an array of size 20 that displays ages ranging from 3 to 16 years, randomly distributed.\n",
        "- Create a Series `cousins` with `name = \"my cousins\"`, the index created previously, and data from the array.\n",
        "- Retrieve the Series of \"boys\" into a Series `boys` and the Series of \"girls\" into a variable `girls`.\n",
        "- Display information about these two Series.\n"
      ]
    },
    {
      "cell_type": "code",
      "execution_count": null,
      "metadata": {
        "id": "xX3E0v0yfJL7"
      },
      "outputs": [],
      "source": [
        "## Q48: Insert your code here"
      ]
    },
    {
      "cell_type": "markdown",
      "metadata": {
        "id": "4KoD1X7ZfYGX"
      },
      "source": [
        "Now we turn our attention to DataFrames. DataFrames are the two-dimensional extension of Series. Thus, the *indices* are shared among the columns of the DataFrame.\n",
        "\n",
        "A common way to create a DataFrame is by using a dictionary. The syntax is as follows:\n",
        "```\n",
        "pd.DataFrame({'Name of the first column': data, 'Name of the second column': data})\n",
        "```\n",
        "- Create a DataFrame data_one with two columns: 'Gender' and 'Age', using the data from the previous question.\n",
        "- Display the DataFrame."
      ]
    },
    {
      "cell_type": "code",
      "execution_count": null,
      "metadata": {
        "id": "13a135jrfYjz"
      },
      "outputs": [],
      "source": [
        "## Q49: Insert your code here"
      ]
    },
    {
      "cell_type": "markdown",
      "metadata": {
        "id": "OjcZjfXDf8AE"
      },
      "source": [
        "- Create a list *dominant_hand* of size 20 that contains \"left-handed\" or \"right-handed\" distributed randomly.\n",
        "- Add this list as a new column to *data_one*.\n",
        "  *Use the command `data_one['Dominant Hand'] = dominant_hand`*\n"
      ]
    },
    {
      "cell_type": "code",
      "execution_count": null,
      "metadata": {
        "id": "tLzR35u6gCHl"
      },
      "outputs": [],
      "source": [
        "## Q50: Insert your code here"
      ]
    },
    {
      "cell_type": "markdown",
      "metadata": {
        "id": "vqW6_kc8gKhE"
      },
      "source": [
        "*Slicing* is possible with DataFrames.\n",
        "\n",
        "- Display the first 5 rows of *data_one*."
      ]
    },
    {
      "cell_type": "code",
      "execution_count": null,
      "metadata": {
        "id": "uVkw5CJrgL57"
      },
      "outputs": [],
      "source": [
        "## Q51: Insert your code here"
      ]
    },
    {
      "cell_type": "markdown",
      "metadata": {
        "id": "uWUpzA_YgWN-"
      },
      "source": [
        "- Display the columns \"Gender\" and \"Dominant Hand\".\n"
      ]
    },
    {
      "cell_type": "markdown",
      "metadata": {
        "id": "m0D92LIRgR0y"
      },
      "source": [
        "It is possible to concatenate two DataFrames using the command `pd.concat()`. The syntax is as follows:\n",
        "```\n",
        "# Assume X and Y are two DataFrames\n",
        "pd.concat([X,Y], axis = 0)  ## concatenates vertically\n",
        "pd.concat([X,Y], axis = 1)  ## concatenates horizontally\n",
        "```\n",
        "- Create a list of size 20 that includes \"red\", \"blue\", or \"green\" distributed randomly.\n",
        "- Create a DataFrame data_two from the previous list.\n",
        "- Add a name to the column using the command data_two.columns = ['Name of Column'].\n",
        "- Concatenate data_one and data_two into a new variable data_three.\n"
      ]
    },
    {
      "cell_type": "code",
      "execution_count": null,
      "metadata": {
        "id": "JiSwkgRignG7"
      },
      "outputs": [],
      "source": [
        "## Q52: Insert your code here"
      ]
    },
    {
      "cell_type": "markdown",
      "metadata": {
        "id": "mLsNSRsShgnX"
      },
      "source": [
        "## **Open Exercise**\n",
        "We advice you to use pandas documentations or stackoverflow to find the answers of the following exercises .\n",
        "#### 1. Basic DataFrame Operations:\n",
        "\n",
        "- Create a DataFrame from a dictionary with keys: 'Name', 'Age', 'City' and populate it with some data.\n",
        "- Display the first 5 rows of the DataFrame.\n",
        "- Display the last 3 rows of the DataFrame.\n",
        "- Display the data types of each column.\n",
        "\n",
        "#### 2.Indexing and Selection:\n",
        "\n",
        "- Select the 'Name' and 'City' columns from the DataFrame.\n",
        "- Select the row at index 2 from the DataFrame.\n",
        "- Select the rows where 'Age' is greater than 25.\n",
        "\n",
        "#### 3. Sorting and Ranking:\n",
        "\n",
        "- Sort the DataFrame based on 'Age' in descending order.\n",
        "- Rank the DataFrame based on 'Age', with the oldest as rank 1.\n",
        "\n",
        "#### 4. Missing Data:\n",
        "\n",
        "- Introduce some missing values in the DataFrame using np.nan.\n",
        "- Fill the missing values with the mean of the non-missing values.\n",
        "- Drop the rows with missing values.\n",
        "\n",
        "#### 5.Grouping and Aggregation:\n",
        "\n",
        "- Group the DataFrame by 'City' and calculate the mean age for each city.\n",
        "- Find the maximum and minimum age for each city.\n",
        "\n",
        "#### 6.Merging, Joining, and Concatenating:\n",
        "\n",
        "- Create a second DataFrame with keys: 'Name', 'Job Title'.\n",
        "- Merge the two DataFrames on the 'Name' column.\n",
        "- Concatenate the two DataFrames vertically and then horizontally."
      ]
    },
    {
      "cell_type": "markdown",
      "source": [
        "#4. Visualizing Data with Matplotlib"
      ],
      "metadata": {
        "id": "yGJyVRyBMEnZ"
      }
    },
    {
      "cell_type": "markdown",
      "metadata": {
        "id": "43jGxudWmlm5"
      },
      "source": [
        "\n",
        "\n",
        "> Matplotlib is a Python library that serves as a powerful tool for plotting and visualizing data. It is designed to produce a wide variety of plots and graphs. Matplotlib includes a sub-library called pyplot, which creates an interface similar to that of the commercial software Matlab, and contains functions very similar to it.\n",
        "\n",
        "> There are libraries like Seaborn that can automatically beautify the figures or give them a different style, but we will not be integrating them in this training.\n",
        "\n",
        "> Furthermore, Matplotlib is a very rich library, and not all its functionalities can be covered. This training chooses to explore certain functions more than others, with the overall goal of enabling any student to become proficient with the module by the end of the course.\n",
        "\n",
        "> To begin, it's necessary to import the matplotlib.pyplot module under the shortened name of 'plt'. <br>\n",
        "Once a graph is constructed, the plt.show() command will allow you to visualize it.<br>\n",
        "However, in a Notebook, like here on collab, adding %matplotlib inline at the beginning of the page will automatically display the figures with each modification or use of a pyplot command, after the execution of the cell.<br>\n",
        "\n",
        "- Import matplotlib.pyplot and add %matplotlib inline\n",
        "- Import numpy"
      ]
    },
    {
      "cell_type": "code",
      "execution_count": null,
      "metadata": {
        "id": "0Odd7qtOmvLk"
      },
      "outputs": [],
      "source": [
        "## Q53: Insert your code here\n"
      ]
    },
    {
      "cell_type": "markdown",
      "metadata": {
        "id": "QPlaOFm5naWY"
      },
      "source": [
        "**Curve Definition and Plotting**\n",
        "> A curve is, by definition, a set of points with coordinates (x, y) that may or may not be connected by a line. The more points there are, the smoother the curve will appear.\n",
        "\n",
        "> The plot() method allows for plotting curves that connect points whose x (abscissa) and y (ordinate) values are provided in lists or arrays.<br>\n",
        "To plot a graph with 'x' values on the horizontal axis and 'y' values on the vertical axis, we write: plt.plot(x,y).\n",
        "\n",
        "- Plot a curve with the x-values [0,2,4,6] and the y-values [1,4,4,8]."
      ]
    },
    {
      "cell_type": "code",
      "execution_count": null,
      "metadata": {
        "id": "2B2mywL8nj90"
      },
      "outputs": [],
      "source": [
        "## Q54: Insert your code here"
      ]
    },
    {
      "cell_type": "markdown",
      "metadata": {
        "id": "zQa5hSMUnx0W"
      },
      "source": [
        "**Automatic Abscissa Generation**\n",
        "\n",
        "> If only a single list or array is inserted into the plot() command, Matplotlib assumes that it's a sequence of y (ordinate) values and automatically generates the x (abscissa) values for you. The x values will be the indices of the y values, starting from 0.\n",
        "\n",
        "- Plot a curve using the list [1,3,2,4].\n"
      ]
    },
    {
      "cell_type": "code",
      "execution_count": null,
      "metadata": {
        "id": "RUGi3wyhn0SO"
      },
      "outputs": [],
      "source": [
        "## Q55: Insert your code here"
      ]
    },
    {
      "cell_type": "markdown",
      "metadata": {
        "id": "S1_8dgLzn7YI"
      },
      "source": [
        "**Adding Titles and Axis Labels**\n",
        "\n",
        "> To add a title to the graphs, we use the title method.\n",
        "> To add labels to the axes, we use the xlabel and ylabel methods.\n",
        "\n",
        "- Plot a curve passing through the following points: (50,1), (100,3), (200,4).\n",
        "- Title the figure 'My First Curve'.\n",
        "- Label the x-axis as 'abscissa' and the y-axis as 'ordinates'."
      ]
    },
    {
      "cell_type": "code",
      "execution_count": null,
      "metadata": {
        "id": "dzYfTrMSoLmk"
      },
      "outputs": [],
      "source": [
        "## Q56: Insert your code here"
      ]
    },
    {
      "cell_type": "markdown",
      "metadata": {
        "id": "CNe6lmAwwQnZ"
      },
      "source": [
        "> The plot() function simply connects points in the order they are provided. It's possible to provide multiple points with the same x-coordinate to draw a specific shape.\n",
        "\n",
        "- Create the following x and y lists: x = [0, 0, 1, 1, 0, 0.5, 1] , y = [1, 0, 0, 1, 1, 2, 1].<br>\n",
        "Use the plot function to connect these points and set the limits of both axes from -1 to 2."
      ]
    },
    {
      "cell_type": "code",
      "execution_count": null,
      "metadata": {
        "id": "zudNay1CwVNf"
      },
      "outputs": [],
      "source": [
        "## Q57: Insert your code here"
      ]
    },
    {
      "cell_type": "markdown",
      "metadata": {
        "id": "kQeFZI8rwdHU"
      },
      "source": [
        "Similarly, one can plot a parametric curve using a sequence **t**. For this, provide the `plot` method with one function of **t** for the x-coordinates and another for the y-coordinates.\n",
        "\n",
        "- Use the **linspace** method from *Numpy* to create a sequence of 100 numbers between 0 and $2\\pi$.\n",
        "- Plot the parametric curve defined by $$ f(t) = (\\sin(2t), \\sin(3t)), t \\in [0, 2\\pi].$$\n"
      ]
    },
    {
      "cell_type": "code",
      "execution_count": null,
      "metadata": {
        "id": "L9LVw7i2w6sE"
      },
      "outputs": [],
      "source": [
        "## Q58: Insert your code here"
      ]
    },
    {
      "cell_type": "markdown",
      "metadata": {
        "id": "mZ5OvsZG0RiE"
      },
      "source": [
        "- Create an Array of values from 0 to $2\\pi$\n",
        "- Calculate sine values for these points.\n",
        "- Calculate cosine values for these points.\n",
        "- Plot both curves on the same graph.\n",
        "- Make the sine curve blue and the cosine curve red.\n",
        "- Add a title, legend, and labels for the X and Y axes.\n"
      ]
    },
    {
      "cell_type": "code",
      "execution_count": null,
      "metadata": {
        "id": "XlKzLfFG0OwP"
      },
      "outputs": [],
      "source": [
        "## Q59: Insert your code here\n"
      ]
    },
    {
      "cell_type": "markdown",
      "metadata": {
        "id": "8KmXckej05rD"
      },
      "source": [
        "\n",
        "\n",
        "**Basic Scatter Plot**\n",
        "\n",
        "*We advice you to check on matplotlib documentation to see how to plot a basic scatter plot.*\n",
        "\n",
        "- Generate two arrays of 100 random values each for X and Y coordinates. You can use numpy for this.\n",
        "- Generate an array of 100 random values to be used for coloring the points.\n",
        "- Create a scatter plot using the X, Y, and color arrays.\n",
        "- Add a colorbar to the plot.\n"
      ]
    },
    {
      "cell_type": "code",
      "execution_count": null,
      "metadata": {
        "id": "lmNBj_r604G5"
      },
      "outputs": [],
      "source": [
        "## Q60: Insert your code here\n"
      ]
    },
    {
      "cell_type": "markdown",
      "metadata": {
        "id": "PYZPevdZ1kaA"
      },
      "source": [
        "**Histogram**\n",
        "\n",
        "- Generate 1000 random numbers from a normal distribution with mean 0 and standard deviation 1.\n",
        "- Create a histogram using these numbers.\n",
        "Label the X axis as \"Value\" and Y axis as \"Frequency\".\n",
        "- Add a title \"Histogram of Normally Distributed Random Numbers\"."
      ]
    },
    {
      "cell_type": "code",
      "execution_count": null,
      "metadata": {
        "id": "x5Y2sx8w15CV"
      },
      "outputs": [],
      "source": [
        "## Q61: Insert your code here"
      ]
    },
    {
      "cell_type": "markdown",
      "metadata": {
        "id": "H3CDUM9m2KZD"
      },
      "source": [
        "**Bar Chart**\n",
        "- Create an array of months: ['Jan', 'Feb', 'Mar', 'Apr', 'May', 'Jun', 'Jul', 'Aug', 'Sep', 'Oct', 'Nov', 'Dec'].\n",
        "- Generate a random array of sales values for each month (for simplicity, use integer values between 5000 and 15000).\n",
        "- Plot a bar chart using the months and sales data.\n",
        "- Add a title, and labels for the X and Y axes.\n",
        "- Color the bar of the month with the highest sales in green."
      ]
    },
    {
      "cell_type": "code",
      "execution_count": null,
      "metadata": {
        "id": "xTdEP3RE2hhy"
      },
      "outputs": [],
      "source": [
        "## Q62: Insert your code here"
      ]
    },
    {
      "cell_type": "markdown",
      "metadata": {
        "id": "7RDHN5bN2lxY"
      },
      "source": [
        "**Pie Chart**\n",
        "- Create an array of departments: ['R&D', 'Marketing', 'Sales', 'Operations', 'Others'].\n",
        "- Generate a random array of budget allocations for these departments (making sure they sum to 1).\n",
        "- Plot a pie chart with labels being the department names.\n",
        "- Highlight the department with the largest budget by \"exploding\" that slice.\n",
        "Add a title \"Budget Distribution Across Departments\"."
      ]
    },
    {
      "cell_type": "code",
      "execution_count": null,
      "metadata": {
        "id": "C5bAnS2E2vgT"
      },
      "outputs": [],
      "source": [
        "## Q63: Insert your code here"
      ]
    },
    {
      "cell_type": "markdown",
      "metadata": {
        "id": "y476BsZZ05E_"
      },
      "source": [
        "**Exercise: Simulating Asset Paths using Geometric Brownian Motion**\n",
        "\n",
        "**Goal:** Create a simulation of potential future stock prices using the Geometric Brownian Motion (GBM) model and visualize the results.\n",
        "\n",
        "**Import Required Libraries**\n",
        "- Import numpy and matplotlib.pyplot\n",
        "\n",
        "**Define GBM Parameters**\n",
        "- $S_0$: Initial stock price\n",
        "- $T$: Time horizon (in years)\n",
        "- $r$: Risk-free rate (annualized)\n",
        "- $sigma$: Volatility (annualized)\n",
        "- $dt$: Time increment, e.g., a day\n",
        "- $n$: Number of time steps\n",
        "- $m$: Number of potential paths to simulate\n",
        "\n",
        "**Simulate GBM Paths**\n",
        "\n",
        "We recall that GBM is defined as\n",
        "$$ dS_t = \\mu S_t dt + \\sigma S_t dW_t $$\n",
        "\n",
        "Where:\n",
        "- $S_t$: Stock price at time $t$.\n",
        "- $\\mu$: Expected return or the drift, which is typically the risk-free rate.\n",
        "- $\\sigma$: Volatility of the stock.\n",
        "- $dW_t$: Wiener process or Brownian motion.\n",
        "\n",
        "For discrete time intervals, the formula to simulate the stock price $S_{t+1}$  given a stock price $S_t$ is:\n",
        "\n",
        "$$ S_{t+1} = S_t  \\exp \\left( (\\mu - \\frac{\\sigma^2}{2}) \\Delta t + \\sigma \\sqrt{\\Delta t} Z \\right) $$\n",
        "\n",
        "Where:\n",
        "- $ \\Delta t$: Size of the time step.\n",
        "- $Z$: A random draw from a standard normal distribution.\n",
        "\n",
        "**Visualize the Simulated Paths**\n",
        "\n",
        "\n"
      ]
    },
    {
      "cell_type": "code",
      "execution_count": null,
      "metadata": {
        "id": "fLc3dNfu2z0I"
      },
      "outputs": [],
      "source": [
        "## Q64: Insert your code here"
      ]
    },
    {
      "cell_type": "markdown",
      "metadata": {
        "id": "7muY4j0PxT29"
      },
      "source": [
        "## Matplotlib Exercises\n",
        "\n",
        "### 1. Basic Line Plot\n",
        "- Generate a sequence of numbers from -10 to 10.\n",
        "- Plot their square values on a graph. Label the x-axis as \"Numbers\" and the y-axis as \"Squares\" and give the plot a title.\n",
        "\n",
        "### 2. Multiple Line Plots\n",
        "- Using the same sequence from the previous exercise, plot both the square and cube values on the same graph. Use different colors and line styles for each plot and add a legend to distinguish between them.\n",
        "\n",
        "### 3. Scatter Plot\n",
        "- Generate 50 random numbers for x-values and y-values.\n",
        "- Plot them using a scatter plot. Experiment with changing the size, color, and marker style.\n",
        "\n",
        "### 4. Histogram\n",
        "- Generate 1000 random numbers following a normal distribution using `numpy`.\n",
        "- Plot a histogram to visualize the distribution. Play around with the number of bins.\n",
        "\n",
        "### 5. Bar Chart\n",
        "- Take a list of fruits: `['Apple', 'Banana', 'Cherry', 'Date', 'Elderberry']`.\n",
        "- Assume some random sale values for each fruit and plot a bar chart to visualize fruit sales.\n",
        "\n",
        "### 6. Pie Chart\n",
        "- Using the fruit sales data from the previous exercise, plot a pie chart to show the proportion of sales by fruit. Ensure each section of the pie chart is labeled and displays a percentage.\n",
        "\n",
        "### 7. Subplots\n",
        "- Create four subplots in a 2x2 grid.\n",
        "  - In the top-left, plot a sine curve.\n",
        "  - In the top-right, plot a cosine curve.\n",
        "  - In the bottom-left, plot a tangent curve.\n",
        "  - In the bottom-right, plot a circle.\n",
        "- Ensure each subplot has a title.\n",
        "\n",
        "### 8. 3D Plotting\n",
        "- Create a 3D surface plot. You can use the `numpy` meshgrid function to generate x, y, and z values. For instance, plot the surface \\( z = x^2 + y^2 \\).\n",
        "\n",
        "### 9. Animation\n",
        "- Create an animation of a sine wave whose frequency increases over time.\n",
        "\n",
        "### 10. Customization\n",
        "- Choose any of the previous exercises and experiment with the aesthetics. Change colors, fonts, line styles, marker styles, etc. Also, explore how to add text annotations, grid lines, and other custom elements.\n",
        "\n"
      ]
    },
    {
      "cell_type": "markdown",
      "source": [],
      "metadata": {
        "id": "d8Zvo5zYL-Ys"
      }
    }
  ],
  "metadata": {
    "colab": {
      "provenance": [],
      "collapsed_sections": [
        "z0iJhtS1KH6Z",
        "VSFe7yx7L64P",
        "IsS6rFVOzzxT",
        "yGJyVRyBMEnZ",
        "43jGxudWmlm5"
      ],
      "include_colab_link": true
    },
    "kernelspec": {
      "display_name": "Python 3",
      "name": "python3"
    },
    "language_info": {
      "name": "python"
    }
  },
  "nbformat": 4,
  "nbformat_minor": 0
}